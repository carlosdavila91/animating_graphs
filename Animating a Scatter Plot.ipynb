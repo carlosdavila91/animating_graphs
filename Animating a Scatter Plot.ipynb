{
 "cells": [
  {
   "cell_type": "markdown",
   "metadata": {},
   "source": [
    "# Animated Plots\n",
    "\n",
    "Here a few ways to implement a animated scatter plot are explored."
   ]
  },
  {
   "cell_type": "code",
   "execution_count": null,
   "metadata": {},
   "outputs": [],
   "source": [
    "from random import seed\n",
    "\n",
    "import random\n",
    "import numpy as np\n",
    "import pandas as pd\n",
    "\n",
    "import matplotlib\n",
    "import matplotlib.pyplot as plt"
   ]
  },
  {
   "cell_type": "markdown",
   "metadata": {},
   "source": [
    "First of all we create some random data to implement a animated plot. As the aim of this project is getting to know how this kind of data representation works, it is not an important factor that the data used is real."
   ]
  },
  {
   "cell_type": "code",
   "execution_count": 8,
   "metadata": {},
   "outputs": [],
   "source": [
    "np.random.seed(1)\n",
    "a, b = 270,170e3\n",
    "gdp = (b-a) * np.random.random_sample((100,1)) + a\n",
    "\n",
    "c, d = 0, 45\n",
    "co2 = (d-c) * np.random.random_sample((100,1)) + c\n",
    "\n",
    "data = np.concatenate((gdp,co2), axis = 1)\n",
    "\n",
    "df = pd.DataFrame(data=data[0:,0:], columns=['gdp','co2'])\n",
    "df = round(df, ndigits=1)\n",
    "\n",
    "years = list(range(1991,2011))\n",
    "df['year'] = np.repeat(years,5)\n",
    "\n",
    "countries = ['USA','China','Japan','Australia','Germany']\n",
    "\n",
    "df['country'] = countries*int(len(data)/len(countries))"
   ]
  },
  {
   "cell_type": "markdown",
   "metadata": {},
   "source": [
    "Now we can see the axis limits to play with them in plots afterwards."
   ]
  },
  {
   "cell_type": "code",
   "execution_count": 11,
   "metadata": {},
   "outputs": [
    {
     "data": {
      "text/plain": [
       "((289, 168109), (0, 44))"
      ]
     },
     "execution_count": 11,
     "metadata": {},
     "output_type": "execute_result"
    }
   ],
   "source": [
    "xmin = int(df['gdp'].min())\n",
    "xmax = int(df['gdp'].max())\n",
    "\n",
    "ymin = int(df['co2'].min())\n",
    "ymax = int(df['co2'].max())\n",
    "\n",
    "(xmin,xmax),(ymin,ymax)"
   ]
  },
  {
   "cell_type": "markdown",
   "metadata": {},
   "source": [
    "## Using `plotly.express`"
   ]
  },
  {
   "cell_type": "code",
   "execution_count": 10,
   "metadata": {},
   "outputs": [
    {
     "data": {
      "application/vnd.plotly.v1+json": {
       "config": {
        "plotlyServerURL": "https://plot.ly"
       },
       "data": [
        {
         "hoverlabel": {
          "namelength": 0
         },
         "hovertemplate": "<b>%{hovertext}</b><br><br>country=USA<br>year=1991<br>gdp=%{x}<br>co2=%{marker.size}",
         "hovertext": [
          "USA"
         ],
         "ids": [
          "USA"
         ],
         "legendgroup": "country=USA",
         "marker": {
          "color": "#636efa",
          "size": [
           14.7
          ],
          "sizemode": "area",
          "sizeref": 0.01484297520661157,
          "symbol": "circle"
         },
         "mode": "markers",
         "name": "country=USA",
         "showlegend": true,
         "type": "scatter",
         "x": [
          71051.1
         ],
         "xaxis": "x",
         "y": [
          14.7
         ],
         "yaxis": "y"
        },
        {
         "hoverlabel": {
          "namelength": 0
         },
         "hovertemplate": "<b>%{hovertext}</b><br><br>country=China<br>year=1991<br>gdp=%{x}<br>co2=%{marker.size}",
         "hovertext": [
          "China"
         ],
         "ids": [
          "China"
         ],
         "legendgroup": "country=China",
         "marker": {
          "color": "#EF553B",
          "size": [
           23.7
          ],
          "sizemode": "area",
          "sizeref": 0.01484297520661157,
          "symbol": "circle"
         },
         "mode": "markers",
         "name": "country=China",
         "showlegend": true,
         "type": "scatter",
         "x": [
          122530.7
         ],
         "xaxis": "x",
         "y": [
          23.7
         ],
         "yaxis": "y"
        },
        {
         "hoverlabel": {
          "namelength": 0
         },
         "hovertemplate": "<b>%{hovertext}</b><br><br>country=Japan<br>year=1991<br>gdp=%{x}<br>co2=%{marker.size}",
         "hovertext": [
          "Japan"
         ],
         "ids": [
          "Japan"
         ],
         "legendgroup": "country=Japan",
         "marker": {
          "color": "#00cc96",
          "size": [
           39.9
          ],
          "sizemode": "area",
          "sizeref": 0.01484297520661157,
          "symbol": "circle"
         },
         "mode": "markers",
         "name": "country=Japan",
         "showlegend": true,
         "type": "scatter",
         "x": [
          289.4
         ],
         "xaxis": "x",
         "y": [
          39.9
         ],
         "yaxis": "y"
        },
        {
         "hoverlabel": {
          "namelength": 0
         },
         "hovertemplate": "<b>%{hovertext}</b><br><br>country=Australia<br>year=1991<br>gdp=%{x}<br>co2=%{marker.size}",
         "hovertext": [
          "Australia"
         ],
         "ids": [
          "Australia"
         ],
         "legendgroup": "country=Australia",
         "marker": {
          "color": "#ab63fa",
          "size": [
           16.1
          ],
          "sizemode": "area",
          "sizeref": 0.01484297520661157,
          "symbol": "circle"
         },
         "mode": "markers",
         "name": "country=Australia",
         "showlegend": true,
         "type": "scatter",
         "x": [
          51584.9
         ],
         "xaxis": "x",
         "y": [
          16.1
         ],
         "yaxis": "y"
        },
        {
         "hoverlabel": {
          "namelength": 0
         },
         "hovertemplate": "<b>%{hovertext}</b><br><br>country=Germany<br>year=1991<br>gdp=%{x}<br>co2=%{marker.size}",
         "hovertext": [
          "Germany"
         ],
         "ids": [
          "Germany"
         ],
         "legendgroup": "country=Germany",
         "marker": {
          "color": "#FFA15A",
          "size": [
           40.9
          ],
          "sizemode": "area",
          "sizeref": 0.01484297520661157,
          "symbol": "circle"
         },
         "mode": "markers",
         "name": "country=Germany",
         "showlegend": true,
         "type": "scatter",
         "x": [
          25178.9
         ],
         "xaxis": "x",
         "y": [
          40.9
         ],
         "yaxis": "y"
        }
       ],
       "frames": [
        {
         "data": [
          {
           "hoverlabel": {
            "namelength": 0
           },
           "hovertemplate": "<b>%{hovertext}</b><br><br>country=USA<br>year=1991<br>gdp=%{x}<br>co2=%{marker.size}",
           "hovertext": [
            "USA"
           ],
           "ids": [
            "USA"
           ],
           "legendgroup": "country=USA",
           "marker": {
            "color": "#636efa",
            "size": [
             14.7
            ],
            "sizemode": "area",
            "sizeref": 0.01484297520661157,
            "symbol": "circle"
           },
           "mode": "markers",
           "name": "country=USA",
           "showlegend": true,
           "type": "scatter",
           "x": [
            71051.1
           ],
           "xaxis": "x",
           "y": [
            14.7
           ],
           "yaxis": "y"
          },
          {
           "hoverlabel": {
            "namelength": 0
           },
           "hovertemplate": "<b>%{hovertext}</b><br><br>country=China<br>year=1991<br>gdp=%{x}<br>co2=%{marker.size}",
           "hovertext": [
            "China"
           ],
           "ids": [
            "China"
           ],
           "legendgroup": "country=China",
           "marker": {
            "color": "#EF553B",
            "size": [
             23.7
            ],
            "sizemode": "area",
            "sizeref": 0.01484297520661157,
            "symbol": "circle"
           },
           "mode": "markers",
           "name": "country=China",
           "showlegend": true,
           "type": "scatter",
           "x": [
            122530.7
           ],
           "xaxis": "x",
           "y": [
            23.7
           ],
           "yaxis": "y"
          },
          {
           "hoverlabel": {
            "namelength": 0
           },
           "hovertemplate": "<b>%{hovertext}</b><br><br>country=Japan<br>year=1991<br>gdp=%{x}<br>co2=%{marker.size}",
           "hovertext": [
            "Japan"
           ],
           "ids": [
            "Japan"
           ],
           "legendgroup": "country=Japan",
           "marker": {
            "color": "#00cc96",
            "size": [
             39.9
            ],
            "sizemode": "area",
            "sizeref": 0.01484297520661157,
            "symbol": "circle"
           },
           "mode": "markers",
           "name": "country=Japan",
           "showlegend": true,
           "type": "scatter",
           "x": [
            289.4
           ],
           "xaxis": "x",
           "y": [
            39.9
           ],
           "yaxis": "y"
          },
          {
           "hoverlabel": {
            "namelength": 0
           },
           "hovertemplate": "<b>%{hovertext}</b><br><br>country=Australia<br>year=1991<br>gdp=%{x}<br>co2=%{marker.size}",
           "hovertext": [
            "Australia"
           ],
           "ids": [
            "Australia"
           ],
           "legendgroup": "country=Australia",
           "marker": {
            "color": "#ab63fa",
            "size": [
             16.1
            ],
            "sizemode": "area",
            "sizeref": 0.01484297520661157,
            "symbol": "circle"
           },
           "mode": "markers",
           "name": "country=Australia",
           "showlegend": true,
           "type": "scatter",
           "x": [
            51584.9
           ],
           "xaxis": "x",
           "y": [
            16.1
           ],
           "yaxis": "y"
          },
          {
           "hoverlabel": {
            "namelength": 0
           },
           "hovertemplate": "<b>%{hovertext}</b><br><br>country=Germany<br>year=1991<br>gdp=%{x}<br>co2=%{marker.size}",
           "hovertext": [
            "Germany"
           ],
           "ids": [
            "Germany"
           ],
           "legendgroup": "country=Germany",
           "marker": {
            "color": "#FFA15A",
            "size": [
             40.9
            ],
            "sizemode": "area",
            "sizeref": 0.01484297520661157,
            "symbol": "circle"
           },
           "mode": "markers",
           "name": "country=Germany",
           "showlegend": true,
           "type": "scatter",
           "x": [
            25178.9
           ],
           "xaxis": "x",
           "y": [
            40.9
           ],
           "yaxis": "y"
          }
         ],
         "name": "1991"
        },
        {
         "data": [
          {
           "hoverlabel": {
            "namelength": 0
           },
           "hovertemplate": "<b>%{hovertext}</b><br><br>country=USA<br>year=1992<br>gdp=%{x}<br>co2=%{marker.size}",
           "hovertext": [
            "USA"
           ],
           "ids": [
            "USA"
           ],
           "legendgroup": "country=USA",
           "marker": {
            "color": "#636efa",
            "size": [
             28.1
            ],
            "sizemode": "area",
            "sizeref": 0.01484297520661157,
            "symbol": "circle"
           },
           "mode": "markers",
           "name": "country=USA",
           "showlegend": true,
           "type": "scatter",
           "x": [
            15942.6
           ],
           "xaxis": "x",
           "y": [
            28.1
           ],
           "yaxis": "y"
          },
          {
           "hoverlabel": {
            "namelength": 0
           },
           "hovertemplate": "<b>%{hovertext}</b><br><br>country=China<br>year=1992<br>gdp=%{x}<br>co2=%{marker.size}",
           "hovertext": [
            "China"
           ],
           "ids": [
            "China"
           ],
           "legendgroup": "country=China",
           "marker": {
            "color": "#EF553B",
            "size": [
             0.7
            ],
            "sizemode": "area",
            "sizeref": 0.01484297520661157,
            "symbol": "circle"
           },
           "mode": "markers",
           "name": "country=China",
           "showlegend": true,
           "type": "scatter",
           "x": [
            31883.9
           ],
           "xaxis": "x",
           "y": [
            0.7
           ],
           "yaxis": "y"
          },
          {
           "hoverlabel": {
            "namelength": 0
           },
           "hovertemplate": "<b>%{hovertext}</b><br><br>country=Japan<br>year=1992<br>gdp=%{x}<br>co2=%{marker.size}",
           "hovertext": [
            "Japan"
           ],
           "ids": [
            "Japan"
           ],
           "legendgroup": "country=Japan",
           "marker": {
            "color": "#00cc96",
            "size": [
             41.8
            ],
            "sizemode": "area",
            "sizeref": 0.01484297520661157,
            "symbol": "circle"
           },
           "mode": "markers",
           "name": "country=Japan",
           "showlegend": true,
           "type": "scatter",
           "x": [
            58922
           ],
           "xaxis": "x",
           "y": [
            41.8
           ],
           "yaxis": "y"
          },
          {
           "hoverlabel": {
            "namelength": 0
           },
           "hovertemplate": "<b>%{hovertext}</b><br><br>country=Australia<br>year=1992<br>gdp=%{x}<br>co2=%{marker.size}",
           "hovertext": [
            "Australia"
           ],
           "ids": [
            "Australia"
           ],
           "legendgroup": "country=Australia",
           "marker": {
            "color": "#ab63fa",
            "size": [
             31.1
            ],
            "sizemode": "area",
            "sizeref": 0.01484297520661157,
            "symbol": "circle"
           },
           "mode": "markers",
           "name": "country=Australia",
           "showlegend": true,
           "type": "scatter",
           "x": [
            67613.3
           ],
           "xaxis": "x",
           "y": [
            31.1
           ],
           "yaxis": "y"
          },
          {
           "hoverlabel": {
            "namelength": 0
           },
           "hovertemplate": "<b>%{hovertext}</b><br><br>country=Germany<br>year=1992<br>gdp=%{x}<br>co2=%{marker.size}",
           "hovertext": [
            "Germany"
           ],
           "ids": [
            "Germany"
           ],
           "legendgroup": "country=Germany",
           "marker": {
            "color": "#FFA15A",
            "size": [
             44.9
            ],
            "sizemode": "area",
            "sizeref": 0.01484297520661157,
            "symbol": "circle"
           },
           "mode": "markers",
           "name": "country=Germany",
           "showlegend": true,
           "type": "scatter",
           "x": [
            91723.4
           ],
           "xaxis": "x",
           "y": [
            44.9
           ],
           "yaxis": "y"
          }
         ],
         "name": "1992"
        },
        {
         "data": [
          {
           "hoverlabel": {
            "namelength": 0
           },
           "hovertemplate": "<b>%{hovertext}</b><br><br>country=USA<br>year=1993<br>gdp=%{x}<br>co2=%{marker.size}",
           "hovertext": [
            "USA"
           ],
           "ids": [
            "USA"
           ],
           "legendgroup": "country=USA",
           "marker": {
            "color": "#636efa",
            "size": [
             7.8
            ],
            "sizemode": "area",
            "sizeref": 0.01484297520661157,
            "symbol": "circle"
           },
           "mode": "markers",
           "name": "country=USA",
           "showlegend": true,
           "type": "scatter",
           "x": [
            71419.9
           ],
           "xaxis": "x",
           "y": [
            7.8
           ],
           "yaxis": "y"
          },
          {
           "hoverlabel": {
            "namelength": 0
           },
           "hovertemplate": "<b>%{hovertext}</b><br><br>country=China<br>year=1993<br>gdp=%{x}<br>co2=%{marker.size}",
           "hovertext": [
            "China"
           ],
           "ids": [
            "China"
           ],
           "legendgroup": "country=China",
           "marker": {
            "color": "#EF553B",
            "size": [
             6.2
            ],
            "sizemode": "area",
            "sizeref": 0.01484297520661157,
            "symbol": "circle"
           },
           "mode": "markers",
           "name": "country=China",
           "showlegend": true,
           "type": "scatter",
           "x": [
            116572.3
           ],
           "xaxis": "x",
           "y": [
            6.2
           ],
           "yaxis": "y"
          },
          {
           "hoverlabel": {
            "namelength": 0
           },
           "hovertemplate": "<b>%{hovertext}</b><br><br>country=Japan<br>year=1993<br>gdp=%{x}<br>co2=%{marker.size}",
           "hovertext": [
            "Japan"
           ],
           "ids": [
            "Japan"
           ],
           "legendgroup": "country=Japan",
           "marker": {
            "color": "#00cc96",
            "size": [
             42
            ],
            "sizemode": "area",
            "sizeref": 0.01484297520661157,
            "symbol": "circle"
           },
           "mode": "markers",
           "name": "country=Japan",
           "showlegend": true,
           "type": "scatter",
           "x": [
            34971.7
           ],
           "xaxis": "x",
           "y": [
            42
           ],
           "yaxis": "y"
          },
          {
           "hoverlabel": {
            "namelength": 0
           },
           "hovertemplate": "<b>%{hovertext}</b><br><br>country=Australia<br>year=1993<br>gdp=%{x}<br>co2=%{marker.size}",
           "hovertext": [
            "Australia"
           ],
           "ids": [
            "Australia"
           ],
           "legendgroup": "country=Australia",
           "marker": {
            "color": "#ab63fa",
            "size": [
             31.4
            ],
            "sizemode": "area",
            "sizeref": 0.01484297520661157,
            "symbol": "circle"
           },
           "mode": "markers",
           "name": "country=Australia",
           "showlegend": true,
           "type": "scatter",
           "x": [
            149312.9
           ],
           "xaxis": "x",
           "y": [
            31.4
           ],
           "yaxis": "y"
          },
          {
           "hoverlabel": {
            "namelength": 0
           },
           "hovertemplate": "<b>%{hovertext}</b><br><br>country=Germany<br>year=1993<br>gdp=%{x}<br>co2=%{marker.size}",
           "hovertext": [
            "Germany"
           ],
           "ids": [
            "Germany"
           ],
           "legendgroup": "country=Germany",
           "marker": {
            "color": "#FFA15A",
            "size": [
             3
            ],
            "sizemode": "area",
            "sizeref": 0.01484297520661157,
            "symbol": "circle"
           },
           "mode": "markers",
           "name": "country=Germany",
           "showlegend": true,
           "type": "scatter",
           "x": [
            4918.5
           ],
           "xaxis": "x",
           "y": [
            3
           ],
           "yaxis": "y"
          }
         ],
         "name": "1993"
        },
        {
         "data": [
          {
           "hoverlabel": {
            "namelength": 0
           },
           "hovertemplate": "<b>%{hovertext}</b><br><br>country=USA<br>year=1994<br>gdp=%{x}<br>co2=%{marker.size}",
           "hovertext": [
            "USA"
           ],
           "ids": [
            "USA"
           ],
           "legendgroup": "country=USA",
           "marker": {
            "color": "#636efa",
            "size": [
             34
            ],
            "sizemode": "area",
            "sizeref": 0.01484297520661157,
            "symbol": "circle"
           },
           "mode": "markers",
           "name": "country=USA",
           "showlegend": true,
           "type": "scatter",
           "x": [
            114068.5
           ],
           "xaxis": "x",
           "y": [
            34
           ],
           "yaxis": "y"
          },
          {
           "hoverlabel": {
            "namelength": 0
           },
           "hovertemplate": "<b>%{hovertext}</b><br><br>country=China<br>year=1994<br>gdp=%{x}<br>co2=%{marker.size}",
           "hovertext": [
            "China"
           ],
           "ids": [
            "China"
           ],
           "legendgroup": "country=China",
           "marker": {
            "color": "#EF553B",
            "size": [
             33.9
            ],
            "sizemode": "area",
            "sizeref": 0.01484297520661157,
            "symbol": "circle"
           },
           "mode": "markers",
           "name": "country=China",
           "showlegend": true,
           "type": "scatter",
           "x": [
            71099.1
           ],
           "xaxis": "x",
           "y": [
            33.9
           ],
           "yaxis": "y"
          },
          {
           "hoverlabel": {
            "namelength": 0
           },
           "hovertemplate": "<b>%{hovertext}</b><br><br>country=Japan<br>year=1994<br>gdp=%{x}<br>co2=%{marker.size}",
           "hovertext": [
            "Japan"
           ],
           "ids": [
            "Japan"
           ],
           "legendgroup": "country=Japan",
           "marker": {
            "color": "#00cc96",
            "size": [
             41.5
            ],
            "sizemode": "area",
            "sizeref": 0.01484297520661157,
            "symbol": "circle"
           },
           "mode": "markers",
           "name": "country=Japan",
           "showlegend": true,
           "type": "scatter",
           "x": [
            95096.4
           ],
           "xaxis": "x",
           "y": [
            41.5
           ],
           "yaxis": "y"
          },
          {
           "hoverlabel": {
            "namelength": 0
           },
           "hovertemplate": "<b>%{hovertext}</b><br><br>country=Australia<br>year=1994<br>gdp=%{x}<br>co2=%{marker.size}",
           "hovertext": [
            "Australia"
           ],
           "ids": [
            "Australia"
           ],
           "legendgroup": "country=Australia",
           "marker": {
            "color": "#ab63fa",
            "size": [
             32
            ],
            "sizemode": "area",
            "sizeref": 0.01484297520661157,
            "symbol": "circle"
           },
           "mode": "markers",
           "name": "country=Australia",
           "showlegend": true,
           "type": "scatter",
           "x": [
            24097.9
           ],
           "xaxis": "x",
           "y": [
            32
           ],
           "yaxis": "y"
          },
          {
           "hoverlabel": {
            "namelength": 0
           },
           "hovertemplate": "<b>%{hovertext}</b><br><br>country=Germany<br>year=1994<br>gdp=%{x}<br>co2=%{marker.size}",
           "hovertext": [
            "Germany"
           ],
           "ids": [
            "Germany"
           ],
           "legendgroup": "country=Germany",
           "marker": {
            "color": "#FFA15A",
            "size": [
             5.6
            ],
            "sizemode": "area",
            "sizeref": 0.01484297520661157,
            "symbol": "circle"
           },
           "mode": "markers",
           "name": "country=Germany",
           "showlegend": true,
           "type": "scatter",
           "x": [
            33893.8
           ],
           "xaxis": "x",
           "y": [
            5.6
           ],
           "yaxis": "y"
          }
         ],
         "name": "1994"
        },
        {
         "data": [
          {
           "hoverlabel": {
            "namelength": 0
           },
           "hovertemplate": "<b>%{hovertext}</b><br><br>country=USA<br>year=1995<br>gdp=%{x}<br>co2=%{marker.size}",
           "hovertext": [
            "USA"
           ],
           "ids": [
            "USA"
           ],
           "legendgroup": "country=USA",
           "marker": {
            "color": "#636efa",
            "size": [
             0.9
            ],
            "sizemode": "area",
            "sizeref": 0.01484297520661157,
            "symbol": "circle"
           },
           "mode": "markers",
           "name": "country=USA",
           "showlegend": true,
           "type": "scatter",
           "x": [
            136180.4
           ],
           "xaxis": "x",
           "y": [
            0.9
           ],
           "yaxis": "y"
          },
          {
           "hoverlabel": {
            "namelength": 0
           },
           "hovertemplate": "<b>%{hovertext}</b><br><br>country=China<br>year=1995<br>gdp=%{x}<br>co2=%{marker.size}",
           "hovertext": [
            "China"
           ],
           "ids": [
            "China"
           ],
           "legendgroup": "country=China",
           "marker": {
            "color": "#EF553B",
            "size": [
             1.2
            ],
            "sizemode": "area",
            "sizeref": 0.01484297520661157,
            "symbol": "circle"
           },
           "mode": "markers",
           "name": "country=China",
           "showlegend": true,
           "type": "scatter",
           "x": [
            164613
           ],
           "xaxis": "x",
           "y": [
            1.2
           ],
           "yaxis": "y"
          },
          {
           "hoverlabel": {
            "namelength": 0
           },
           "hovertemplate": "<b>%{hovertext}</b><br><br>country=Japan<br>year=1995<br>gdp=%{x}<br>co2=%{marker.size}",
           "hovertext": [
            "Japan"
           ],
           "ids": [
            "Japan"
           ],
           "legendgroup": "country=Japan",
           "marker": {
            "color": "#00cc96",
            "size": [
             1.3
            ],
            "sizemode": "area",
            "sizeref": 0.01484297520661157,
            "symbol": "circle"
           },
           "mode": "markers",
           "name": "country=Japan",
           "showlegend": true,
           "type": "scatter",
           "x": [
            53467.5
           ],
           "xaxis": "x",
           "y": [
            1.3
           ],
           "yaxis": "y"
          },
          {
           "hoverlabel": {
            "namelength": 0
           },
           "hovertemplate": "<b>%{hovertext}</b><br><br>country=Australia<br>year=1995<br>gdp=%{x}<br>co2=%{marker.size}",
           "hovertext": [
            "Australia"
           ],
           "ids": [
            "Australia"
           ],
           "legendgroup": "country=Australia",
           "marker": {
            "color": "#ab63fa",
            "size": [
             11.1
            ],
            "sizemode": "area",
            "sizeref": 0.01484297520661157,
            "symbol": "circle"
           },
           "mode": "markers",
           "name": "country=Australia",
           "showlegend": true,
           "type": "scatter",
           "x": [
            117777.9
           ],
           "xaxis": "x",
           "y": [
            11.1
           ],
           "yaxis": "y"
          },
          {
           "hoverlabel": {
            "namelength": 0
           },
           "hovertemplate": "<b>%{hovertext}</b><br><br>country=Germany<br>year=1995<br>gdp=%{x}<br>co2=%{marker.size}",
           "hovertext": [
            "Germany"
           ],
           "ids": [
            "Germany"
           ],
           "legendgroup": "country=Germany",
           "marker": {
            "color": "#FFA15A",
            "size": [
             38.7
            ],
            "sizemode": "area",
            "sizeref": 0.01484297520661157,
            "symbol": "circle"
           },
           "mode": "markers",
           "name": "country=Germany",
           "showlegend": true,
           "type": "scatter",
           "x": [
            149019.5
           ],
           "xaxis": "x",
           "y": [
            38.7
           ],
           "yaxis": "y"
          }
         ],
         "name": "1995"
        },
        {
         "data": [
          {
           "hoverlabel": {
            "namelength": 0
           },
           "hovertemplate": "<b>%{hovertext}</b><br><br>country=USA<br>year=1996<br>gdp=%{x}<br>co2=%{marker.size}",
           "hovertext": [
            "USA"
           ],
           "ids": [
            "USA"
           ],
           "legendgroup": "country=USA",
           "marker": {
            "color": "#636efa",
            "size": [
             24.2
            ],
            "sizemode": "area",
            "sizeref": 0.01484297520661157,
            "symbol": "circle"
           },
           "mode": "markers",
           "name": "country=USA",
           "showlegend": true,
           "type": "scatter",
           "x": [
            152111.6
           ],
           "xaxis": "x",
           "y": [
            24.2
           ],
           "yaxis": "y"
          },
          {
           "hoverlabel": {
            "namelength": 0
           },
           "hovertemplate": "<b>%{hovertext}</b><br><br>country=China<br>year=1996<br>gdp=%{x}<br>co2=%{marker.size}",
           "hovertext": [
            "China"
           ],
           "ids": [
            "China"
           ],
           "legendgroup": "country=China",
           "marker": {
            "color": "#EF553B",
            "size": [
             24.9
            ],
            "sizemode": "area",
            "sizeref": 0.01484297520661157,
            "symbol": "circle"
           },
           "mode": "markers",
           "name": "country=China",
           "showlegend": true,
           "type": "scatter",
           "x": [
            14704.6
           ],
           "xaxis": "x",
           "y": [
            24.9
           ],
           "yaxis": "y"
          },
          {
           "hoverlabel": {
            "namelength": 0
           },
           "hovertemplate": "<b>%{hovertext}</b><br><br>country=Japan<br>year=1996<br>gdp=%{x}<br>co2=%{marker.size}",
           "hovertext": [
            "Japan"
           ],
           "ids": [
            "Japan"
           ],
           "legendgroup": "country=Japan",
           "marker": {
            "color": "#00cc96",
            "size": [
             37.9
            ],
            "sizemode": "area",
            "sizeref": 0.01484297520661157,
            "symbol": "circle"
           },
           "mode": "markers",
           "name": "country=Japan",
           "showlegend": true,
           "type": "scatter",
           "x": [
            6898.8
           ],
           "xaxis": "x",
           "y": [
            37.9
           ],
           "yaxis": "y"
          },
          {
           "hoverlabel": {
            "namelength": 0
           },
           "hovertemplate": "<b>%{hovertext}</b><br><br>country=Australia<br>year=1996<br>gdp=%{x}<br>co2=%{marker.size}",
           "hovertext": [
            "Australia"
           ],
           "ids": [
            "Australia"
           ],
           "legendgroup": "country=Australia",
           "marker": {
            "color": "#ab63fa",
            "size": [
             5.6
            ],
            "sizemode": "area",
            "sizeref": 0.01484297520661157,
            "symbol": "circle"
           },
           "mode": "markers",
           "name": "country=Australia",
           "showlegend": true,
           "type": "scatter",
           "x": [
            29095.3
           ],
           "xaxis": "x",
           "y": [
            5.6
           ],
           "yaxis": "y"
          },
          {
           "hoverlabel": {
            "namelength": 0
           },
           "hovertemplate": "<b>%{hovertext}</b><br><br>country=Germany<br>year=1996<br>gdp=%{x}<br>co2=%{marker.size}",
           "hovertext": [
            "Germany"
           ],
           "ids": [
            "Germany"
           ],
           "legendgroup": "country=Germany",
           "marker": {
            "color": "#FFA15A",
            "size": [
             12.6
            ],
            "sizemode": "area",
            "sizeref": 0.01484297520661157,
            "symbol": "circle"
           },
           "mode": "markers",
           "name": "country=Germany",
           "showlegend": true,
           "type": "scatter",
           "x": [
            149317.1
           ],
           "xaxis": "x",
           "y": [
            12.6
           ],
           "yaxis": "y"
          }
         ],
         "name": "1996"
        },
        {
         "data": [
          {
           "hoverlabel": {
            "namelength": 0
           },
           "hovertemplate": "<b>%{hovertext}</b><br><br>country=USA<br>year=1997<br>gdp=%{x}<br>co2=%{marker.size}",
           "hovertext": [
            "USA"
           ],
           "ids": [
            "USA"
           ],
           "legendgroup": "country=USA",
           "marker": {
            "color": "#636efa",
            "size": [
             26.4
            ],
            "sizemode": "area",
            "sizeref": 0.01484297520661157,
            "symbol": "circle"
           },
           "mode": "markers",
           "name": "country=USA",
           "showlegend": true,
           "type": "scatter",
           "x": [
            16962.4
           ],
           "xaxis": "x",
           "y": [
            26.4
           ],
           "yaxis": "y"
          },
          {
           "hoverlabel": {
            "namelength": 0
           },
           "hovertemplate": "<b>%{hovertext}</b><br><br>country=China<br>year=1997<br>gdp=%{x}<br>co2=%{marker.size}",
           "hovertext": [
            "China"
           ],
           "ids": [
            "China"
           ],
           "legendgroup": "country=China",
           "marker": {
            "color": "#EF553B",
            "size": [
             43.6
            ],
            "sizemode": "area",
            "sizeref": 0.01484297520661157,
            "symbol": "circle"
           },
           "mode": "markers",
           "name": "country=China",
           "showlegend": true,
           "type": "scatter",
           "x": [
            71744.6
           ],
           "xaxis": "x",
           "y": [
            43.6
           ],
           "yaxis": "y"
          },
          {
           "hoverlabel": {
            "namelength": 0
           },
           "hovertemplate": "<b>%{hovertext}</b><br><br>country=Japan<br>year=1997<br>gdp=%{x}<br>co2=%{marker.size}",
           "hovertext": [
            "Japan"
           ],
           "ids": [
            "Japan"
           ],
           "legendgroup": "country=Japan",
           "marker": {
            "color": "#00cc96",
            "size": [
             25.2
            ],
            "sizemode": "area",
            "sizeref": 0.01484297520661157,
            "symbol": "circle"
           },
           "mode": "markers",
           "name": "country=Japan",
           "showlegend": true,
           "type": "scatter",
           "x": [
            162852.6
           ],
           "xaxis": "x",
           "y": [
            25.2
           ],
           "yaxis": "y"
          },
          {
           "hoverlabel": {
            "namelength": 0
           },
           "hovertemplate": "<b>%{hovertext}</b><br><br>country=Australia<br>year=1997<br>gdp=%{x}<br>co2=%{marker.size}",
           "hovertext": [
            "Australia"
           ],
           "ids": [
            "Australia"
           ],
           "legendgroup": "country=Australia",
           "marker": {
            "color": "#ab63fa",
            "size": [
             0.8
            ],
            "sizemode": "area",
            "sizeref": 0.01484297520661157,
            "symbol": "circle"
           },
           "mode": "markers",
           "name": "country=Australia",
           "showlegend": true,
           "type": "scatter",
           "x": [
            90764.1
           ],
           "xaxis": "x",
           "y": [
            0.8
           ],
           "yaxis": "y"
          },
          {
           "hoverlabel": {
            "namelength": 0
           },
           "hovertemplate": "<b>%{hovertext}</b><br><br>country=Germany<br>year=1997<br>gdp=%{x}<br>co2=%{marker.size}",
           "hovertext": [
            "Germany"
           ],
           "ids": [
            "Germany"
           ],
           "legendgroup": "country=Germany",
           "marker": {
            "color": "#FFA15A",
            "size": [
             36
            ],
            "sizemode": "area",
            "sizeref": 0.01484297520661157,
            "symbol": "circle"
           },
           "mode": "markers",
           "name": "country=Germany",
           "showlegend": true,
           "type": "scatter",
           "x": [
            117702.3
           ],
           "xaxis": "x",
           "y": [
            36
           ],
           "yaxis": "y"
          }
         ],
         "name": "1997"
        },
        {
         "data": [
          {
           "hoverlabel": {
            "namelength": 0
           },
           "hovertemplate": "<b>%{hovertext}</b><br><br>country=USA<br>year=1998<br>gdp=%{x}<br>co2=%{marker.size}",
           "hovertext": [
            "USA"
           ],
           "ids": [
            "USA"
           ],
           "legendgroup": "country=USA",
           "marker": {
            "color": "#636efa",
            "size": [
             10.5
            ],
            "sizemode": "area",
            "sizeref": 0.01484297520661157,
            "symbol": "circle"
           },
           "mode": "markers",
           "name": "country=USA",
           "showlegend": true,
           "type": "scatter",
           "x": [
            53822.5
           ],
           "xaxis": "x",
           "y": [
            10.5
           ],
           "yaxis": "y"
          },
          {
           "hoverlabel": {
            "namelength": 0
           },
           "hovertemplate": "<b>%{hovertext}</b><br><br>country=China<br>year=1998<br>gdp=%{x}<br>co2=%{marker.size}",
           "hovertext": [
            "China"
           ],
           "ids": [
            "China"
           ],
           "legendgroup": "country=China",
           "marker": {
            "color": "#EF553B",
            "size": [
             36.3
            ],
            "sizemode": "area",
            "sizeref": 0.01484297520661157,
            "symbol": "circle"
           },
           "mode": "markers",
           "name": "country=China",
           "showlegend": true,
           "type": "scatter",
           "x": [
            116789.8
           ],
           "xaxis": "x",
           "y": [
            36.3
           ],
           "yaxis": "y"
          },
          {
           "hoverlabel": {
            "namelength": 0
           },
           "hovertemplate": "<b>%{hovertext}</b><br><br>country=Japan<br>year=1998<br>gdp=%{x}<br>co2=%{marker.size}",
           "hovertext": [
            "Japan"
           ],
           "ids": [
            "Japan"
           ],
           "legendgroup": "country=Japan",
           "marker": {
            "color": "#00cc96",
            "size": [
             17.5
            ],
            "sizemode": "area",
            "sizeref": 0.01484297520661157,
            "symbol": "circle"
           },
           "mode": "markers",
           "name": "country=Japan",
           "showlegend": true,
           "type": "scatter",
           "x": [
            141931
           ],
           "xaxis": "x",
           "y": [
            17.5
           ],
           "yaxis": "y"
          },
          {
           "hoverlabel": {
            "namelength": 0
           },
           "hovertemplate": "<b>%{hovertext}</b><br><br>country=Australia<br>year=1998<br>gdp=%{x}<br>co2=%{marker.size}",
           "hovertext": [
            "Australia"
           ],
           "ids": [
            "Australia"
           ],
           "legendgroup": "country=Australia",
           "marker": {
            "color": "#ab63fa",
            "size": [
             38.9
            ],
            "sizemode": "area",
            "sizeref": 0.01484297520661157,
            "symbol": "circle"
           },
           "mode": "markers",
           "name": "country=Australia",
           "showlegend": true,
           "type": "scatter",
           "x": [
            3374.1
           ],
           "xaxis": "x",
           "y": [
            38.9
           ],
           "yaxis": "y"
          },
          {
           "hoverlabel": {
            "namelength": 0
           },
           "hovertemplate": "<b>%{hovertext}</b><br><br>country=Germany<br>year=1998<br>gdp=%{x}<br>co2=%{marker.size}",
           "hovertext": [
            "Germany"
           ],
           "ids": [
            "Germany"
           ],
           "legendgroup": "country=Germany",
           "marker": {
            "color": "#FFA15A",
            "size": [
             33.6
            ],
            "sizemode": "area",
            "sizeref": 0.01484297520661157,
            "symbol": "circle"
           },
           "mode": "markers",
           "name": "country=Germany",
           "showlegend": true,
           "type": "scatter",
           "x": [
            127592
           ],
           "xaxis": "x",
           "y": [
            33.6
           ],
           "yaxis": "y"
          }
         ],
         "name": "1998"
        },
        {
         "data": [
          {
           "hoverlabel": {
            "namelength": 0
           },
           "hovertemplate": "<b>%{hovertext}</b><br><br>country=USA<br>year=1999<br>gdp=%{x}<br>co2=%{marker.size}",
           "hovertext": [
            "USA"
           ],
           "ids": [
            "USA"
           ],
           "legendgroup": "country=USA",
           "marker": {
            "color": "#636efa",
            "size": [
             25
            ],
            "sizemode": "area",
            "sizeref": 0.01484297520661157,
            "symbol": "circle"
           },
           "mode": "markers",
           "name": "country=USA",
           "showlegend": true,
           "type": "scatter",
           "x": [
            168109.4
           ],
           "xaxis": "x",
           "y": [
            25
           ],
           "yaxis": "y"
          },
          {
           "hoverlabel": {
            "namelength": 0
           },
           "hovertemplate": "<b>%{hovertext}</b><br><br>country=China<br>year=1999<br>gdp=%{x}<br>co2=%{marker.size}",
           "hovertext": [
            "China"
           ],
           "ids": [
            "China"
           ],
           "legendgroup": "country=China",
           "marker": {
            "color": "#EF553B",
            "size": [
             6.1
            ],
            "sizemode": "area",
            "sizeref": 0.01484297520661157,
            "symbol": "circle"
           },
           "mode": "markers",
           "name": "country=China",
           "showlegend": true,
           "type": "scatter",
           "x": [
            127256.2
           ],
           "xaxis": "x",
           "y": [
            6.1
           ],
           "yaxis": "y"
          },
          {
           "hoverlabel": {
            "namelength": 0
           },
           "hovertemplate": "<b>%{hovertext}</b><br><br>country=Japan<br>year=1999<br>gdp=%{x}<br>co2=%{marker.size}",
           "hovertext": [
            "Japan"
           ],
           "ids": [
            "Japan"
           ],
           "legendgroup": "country=Japan",
           "marker": {
            "color": "#00cc96",
            "size": [
             2.7
            ],
            "sizemode": "area",
            "sizeref": 0.01484297520661157,
            "symbol": "circle"
           },
           "mode": "markers",
           "name": "country=Japan",
           "showlegend": true,
           "type": "scatter",
           "x": [
            47869.8
           ],
           "xaxis": "x",
           "y": [
            2.7
           ],
           "yaxis": "y"
          },
          {
           "hoverlabel": {
            "namelength": 0
           },
           "hovertemplate": "<b>%{hovertext}</b><br><br>country=Australia<br>year=1999<br>gdp=%{x}<br>co2=%{marker.size}",
           "hovertext": [
            "Australia"
           ],
           "ids": [
            "Australia"
           ],
           "legendgroup": "country=Australia",
           "marker": {
            "color": "#ab63fa",
            "size": [
             5.5
            ],
            "sizemode": "area",
            "sizeref": 0.01484297520661157,
            "symbol": "circle"
           },
           "mode": "markers",
           "name": "country=Australia",
           "showlegend": true,
           "type": "scatter",
           "x": [
            134234.4
           ],
           "xaxis": "x",
           "y": [
            5.5
           ],
           "yaxis": "y"
          },
          {
           "hoverlabel": {
            "namelength": 0
           },
           "hovertemplate": "<b>%{hovertext}</b><br><br>country=Germany<br>year=1999<br>gdp=%{x}<br>co2=%{marker.size}",
           "hovertext": [
            "Germany"
           ],
           "ids": [
            "Germany"
           ],
           "legendgroup": "country=Germany",
           "marker": {
            "color": "#FFA15A",
            "size": [
             2
            ],
            "sizemode": "area",
            "sizeref": 0.01484297520661157,
            "symbol": "circle"
           },
           "mode": "markers",
           "name": "country=Germany",
           "showlegend": true,
           "type": "scatter",
           "x": [
            17790.6
           ],
           "xaxis": "x",
           "y": [
            2
           ],
           "yaxis": "y"
          }
         ],
         "name": "1999"
        },
        {
         "data": [
          {
           "hoverlabel": {
            "namelength": 0
           },
           "hovertemplate": "<b>%{hovertext}</b><br><br>country=USA<br>year=2000<br>gdp=%{x}<br>co2=%{marker.size}",
           "hovertext": [
            "USA"
           ],
           "ids": [
            "USA"
           ],
           "legendgroup": "country=USA",
           "marker": {
            "color": "#636efa",
            "size": [
             4.8
            ],
            "sizemode": "area",
            "sizeref": 0.01484297520661157,
            "symbol": "circle"
           },
           "mode": "markers",
           "name": "country=USA",
           "showlegend": true,
           "type": "scatter",
           "x": [
            76291
           ],
           "xaxis": "x",
           "y": [
            4.8
           ],
           "yaxis": "y"
          },
          {
           "hoverlabel": {
            "namelength": 0
           },
           "hovertemplate": "<b>%{hovertext}</b><br><br>country=China<br>year=2000<br>gdp=%{x}<br>co2=%{marker.size}",
           "hovertext": [
            "China"
           ],
           "ids": [
            "China"
           ],
           "legendgroup": "country=China",
           "marker": {
            "color": "#EF553B",
            "size": [
             10.2
            ],
            "sizemode": "area",
            "sizeref": 0.01484297520661157,
            "symbol": "circle"
           },
           "mode": "markers",
           "name": "country=China",
           "showlegend": true,
           "type": "scatter",
           "x": [
            154485.9
           ],
           "xaxis": "x",
           "y": [
            10.2
           ],
           "yaxis": "y"
          },
          {
           "hoverlabel": {
            "namelength": 0
           },
           "hovertemplate": "<b>%{hovertext}</b><br><br>country=Japan<br>year=2000<br>gdp=%{x}<br>co2=%{marker.size}",
           "hovertext": [
            "Japan"
           ],
           "ids": [
            "Japan"
           ],
           "legendgroup": "country=Japan",
           "marker": {
            "color": "#00cc96",
            "size": [
             32.1
            ],
            "sizemode": "area",
            "sizeref": 0.01484297520661157,
            "symbol": "circle"
           },
           "mode": "markers",
           "name": "country=Japan",
           "showlegend": true,
           "type": "scatter",
           "x": [
            50105.1
           ],
           "xaxis": "x",
           "y": [
            32.1
           ],
           "yaxis": "y"
          },
          {
           "hoverlabel": {
            "namelength": 0
           },
           "hovertemplate": "<b>%{hovertext}</b><br><br>country=Australia<br>year=2000<br>gdp=%{x}<br>co2=%{marker.size}",
           "hovertext": [
            "Australia"
           ],
           "ids": [
            "Australia"
           ],
           "legendgroup": "country=Australia",
           "marker": {
            "color": "#ab63fa",
            "size": [
             25.2
            ],
            "sizemode": "area",
            "sizeref": 0.01484297520661157,
            "symbol": "circle"
           },
           "mode": "markers",
           "name": "country=Australia",
           "showlegend": true,
           "type": "scatter",
           "x": [
            49114.1
           ],
           "xaxis": "x",
           "y": [
            25.2
           ],
           "yaxis": "y"
          },
          {
           "hoverlabel": {
            "namelength": 0
           },
           "hovertemplate": "<b>%{hovertext}</b><br><br>country=Germany<br>year=2000<br>gdp=%{x}<br>co2=%{marker.size}",
           "hovertext": [
            "Germany"
           ],
           "ids": [
            "Germany"
           ],
           "legendgroup": "country=Germany",
           "marker": {
            "color": "#FFA15A",
            "size": [
             0.6
            ],
            "sizemode": "area",
            "sizeref": 0.01484297520661157,
            "symbol": "circle"
           },
           "mode": "markers",
           "name": "country=Germany",
           "showlegend": true,
           "type": "scatter",
           "x": [
            22339.7
           ],
           "xaxis": "x",
           "y": [
            0.6
           ],
           "yaxis": "y"
          }
         ],
         "name": "2000"
        },
        {
         "data": [
          {
           "hoverlabel": {
            "namelength": 0
           },
           "hovertemplate": "<b>%{hovertext}</b><br><br>country=USA<br>year=2001<br>gdp=%{x}<br>co2=%{marker.size}",
           "hovertext": [
            "USA"
           ],
           "ids": [
            "USA"
           ],
           "legendgroup": "country=USA",
           "marker": {
            "color": "#636efa",
            "size": [
             3.2
            ],
            "sizemode": "area",
            "sizeref": 0.01484297520661157,
            "symbol": "circle"
           },
           "mode": "markers",
           "name": "country=USA",
           "showlegend": true,
           "type": "scatter",
           "x": [
            3557.2
           ],
           "xaxis": "x",
           "y": [
            3.2
           ],
           "yaxis": "y"
          },
          {
           "hoverlabel": {
            "namelength": 0
           },
           "hovertemplate": "<b>%{hovertext}</b><br><br>country=China<br>year=2001<br>gdp=%{x}<br>co2=%{marker.size}",
           "hovertext": [
            "China"
           ],
           "ids": [
            "China"
           ],
           "legendgroup": "country=China",
           "marker": {
            "color": "#EF553B",
            "size": [
             43.5
            ],
            "sizemode": "area",
            "sizeref": 0.01484297520661157,
            "symbol": "circle"
           },
           "mode": "markers",
           "name": "country=China",
           "showlegend": true,
           "type": "scatter",
           "x": [
            115488.8
           ],
           "xaxis": "x",
           "y": [
            43.5
           ],
           "yaxis": "y"
          },
          {
           "hoverlabel": {
            "namelength": 0
           },
           "hovertemplate": "<b>%{hovertext}</b><br><br>country=Japan<br>year=2001<br>gdp=%{x}<br>co2=%{marker.size}",
           "hovertext": [
            "Japan"
           ],
           "ids": [
            "Japan"
           ],
           "legendgroup": "country=Japan",
           "marker": {
            "color": "#00cc96",
            "size": [
             25.6
            ],
            "sizemode": "area",
            "sizeref": 0.01484297520661157,
            "symbol": "circle"
           },
           "mode": "markers",
           "name": "country=Japan",
           "showlegend": true,
           "type": "scatter",
           "x": [
            36189.6
           ],
           "xaxis": "x",
           "y": [
            25.6
           ],
           "yaxis": "y"
          },
          {
           "hoverlabel": {
            "namelength": 0
           },
           "hovertemplate": "<b>%{hovertext}</b><br><br>country=Australia<br>year=2001<br>gdp=%{x}<br>co2=%{marker.size}",
           "hovertext": [
            "Australia"
           ],
           "ids": [
            "Australia"
           ],
           "legendgroup": "country=Australia",
           "marker": {
            "color": "#ab63fa",
            "size": [
             9.1
            ],
            "sizemode": "area",
            "sizeref": 0.01484297520661157,
            "symbol": "circle"
           },
           "mode": "markers",
           "name": "country=Australia",
           "showlegend": true,
           "type": "scatter",
           "x": [
            45341.2
           ],
           "xaxis": "x",
           "y": [
            9.1
           ],
           "yaxis": "y"
          },
          {
           "hoverlabel": {
            "namelength": 0
           },
           "hovertemplate": "<b>%{hovertext}</b><br><br>country=Germany<br>year=2001<br>gdp=%{x}<br>co2=%{marker.size}",
           "hovertext": [
            "Germany"
           ],
           "ids": [
            "Germany"
           ],
           "legendgroup": "country=Germany",
           "marker": {
            "color": "#FFA15A",
            "size": [
             11.4
            ],
            "sizemode": "area",
            "sizeref": 0.01484297520661157,
            "symbol": "circle"
           },
           "mode": "markers",
           "name": "country=Germany",
           "showlegend": true,
           "type": "scatter",
           "x": [
            83704.7
           ],
           "xaxis": "x",
           "y": [
            11.4
           ],
           "yaxis": "y"
          }
         ],
         "name": "2001"
        },
        {
         "data": [
          {
           "hoverlabel": {
            "namelength": 0
           },
           "hovertemplate": "<b>%{hovertext}</b><br><br>country=USA<br>year=2002<br>gdp=%{x}<br>co2=%{marker.size}",
           "hovertext": [
            "USA"
           ],
           "ids": [
            "USA"
           ],
           "legendgroup": "country=USA",
           "marker": {
            "color": "#636efa",
            "size": [
             33.5
            ],
            "sizemode": "area",
            "sizeref": 0.01484297520661157,
            "symbol": "circle"
           },
           "mode": "markers",
           "name": "country=USA",
           "showlegend": true,
           "type": "scatter",
           "x": [
            9327.2
           ],
           "xaxis": "x",
           "y": [
            33.5
           ],
           "yaxis": "y"
          },
          {
           "hoverlabel": {
            "namelength": 0
           },
           "hovertemplate": "<b>%{hovertext}</b><br><br>country=China<br>year=2002<br>gdp=%{x}<br>co2=%{marker.size}",
           "hovertext": [
            "China"
           ],
           "ids": [
            "China"
           ],
           "legendgroup": "country=China",
           "marker": {
            "color": "#EF553B",
            "size": [
             8.8
            ],
            "sizemode": "area",
            "sizeref": 0.01484297520661157,
            "symbol": "circle"
           },
           "mode": "markers",
           "name": "country=China",
           "showlegend": true,
           "type": "scatter",
           "x": [
            97715
           ],
           "xaxis": "x",
           "y": [
            8.8
           ],
           "yaxis": "y"
          },
          {
           "hoverlabel": {
            "namelength": 0
           },
           "hovertemplate": "<b>%{hovertext}</b><br><br>country=Japan<br>year=2002<br>gdp=%{x}<br>co2=%{marker.size}",
           "hovertext": [
            "Japan"
           ],
           "ids": [
            "Japan"
           ],
           "legendgroup": "country=Japan",
           "marker": {
            "color": "#00cc96",
            "size": [
             26.2
            ],
            "sizemode": "area",
            "sizeref": 0.01484297520661157,
            "symbol": "circle"
           },
           "mode": "markers",
           "name": "country=Japan",
           "showlegend": true,
           "type": "scatter",
           "x": [
            25174.2
           ],
           "xaxis": "x",
           "y": [
            26.2
           ],
           "yaxis": "y"
          },
          {
           "hoverlabel": {
            "namelength": 0
           },
           "hovertemplate": "<b>%{hovertext}</b><br><br>country=Australia<br>year=2002<br>gdp=%{x}<br>co2=%{marker.size}",
           "hovertext": [
            "Australia"
           ],
           "ids": [
            "Australia"
           ],
           "legendgroup": "country=Australia",
           "marker": {
            "color": "#ab63fa",
            "size": [
             43.7
            ],
            "sizemode": "area",
            "sizeref": 0.01484297520661157,
            "symbol": "circle"
           },
           "mode": "markers",
           "name": "country=Australia",
           "showlegend": true,
           "type": "scatter",
           "x": [
            100292.8
           ],
           "xaxis": "x",
           "y": [
            43.7
           ],
           "yaxis": "y"
          },
          {
           "hoverlabel": {
            "namelength": 0
           },
           "hovertemplate": "<b>%{hovertext}</b><br><br>country=Germany<br>year=2002<br>gdp=%{x}<br>co2=%{marker.size}",
           "hovertext": [
            "Germany"
           ],
           "ids": [
            "Germany"
           ],
           "legendgroup": "country=Germany",
           "marker": {
            "color": "#FFA15A",
            "size": [
             38.1
            ],
            "sizemode": "area",
            "sizeref": 0.01484297520661157,
            "symbol": "circle"
           },
           "mode": "markers",
           "name": "country=Germany",
           "showlegend": true,
           "type": "scatter",
           "x": [
            119040
           ],
           "xaxis": "x",
           "y": [
            38.1
           ],
           "yaxis": "y"
          }
         ],
         "name": "2002"
        },
        {
         "data": [
          {
           "hoverlabel": {
            "namelength": 0
           },
           "hovertemplate": "<b>%{hovertext}</b><br><br>country=USA<br>year=2003<br>gdp=%{x}<br>co2=%{marker.size}",
           "hovertext": [
            "USA"
           ],
           "ids": [
            "USA"
           ],
           "legendgroup": "country=USA",
           "marker": {
            "color": "#636efa",
            "size": [
             10.8
            ],
            "sizemode": "area",
            "sizeref": 0.01484297520661157,
            "symbol": "circle"
           },
           "mode": "markers",
           "name": "country=USA",
           "showlegend": true,
           "type": "scatter",
           "x": [
            17639.2
           ],
           "xaxis": "x",
           "y": [
            10.8
           ],
           "yaxis": "y"
          },
          {
           "hoverlabel": {
            "namelength": 0
           },
           "hovertemplate": "<b>%{hovertext}</b><br><br>country=China<br>year=2003<br>gdp=%{x}<br>co2=%{marker.size}",
           "hovertext": [
            "China"
           ],
           "ids": [
            "China"
           ],
           "legendgroup": "country=China",
           "marker": {
            "color": "#EF553B",
            "size": [
             22.2
            ],
            "sizemode": "area",
            "sizeref": 0.01484297520661157,
            "symbol": "circle"
           },
           "mode": "markers",
           "name": "country=China",
           "showlegend": true,
           "type": "scatter",
           "x": [
            70547.7
           ],
           "xaxis": "x",
           "y": [
            22.2
           ],
           "yaxis": "y"
          },
          {
           "hoverlabel": {
            "namelength": 0
           },
           "hovertemplate": "<b>%{hovertext}</b><br><br>country=Japan<br>year=2003<br>gdp=%{x}<br>co2=%{marker.size}",
           "hovertext": [
            "Japan"
           ],
           "ids": [
            "Japan"
           ],
           "legendgroup": "country=Japan",
           "marker": {
            "color": "#00cc96",
            "size": [
             27.9
            ],
            "sizemode": "area",
            "sizeref": 0.01484297520661157,
            "symbol": "circle"
           },
           "mode": "markers",
           "name": "country=Japan",
           "showlegend": true,
           "type": "scatter",
           "x": [
            118130.5
           ],
           "xaxis": "x",
           "y": [
            27.9
           ],
           "yaxis": "y"
          },
          {
           "hoverlabel": {
            "namelength": 0
           },
           "hovertemplate": "<b>%{hovertext}</b><br><br>country=Australia<br>year=2003<br>gdp=%{x}<br>co2=%{marker.size}",
           "hovertext": [
            "Australia"
           ],
           "ids": [
            "Australia"
           ],
           "legendgroup": "country=Australia",
           "marker": {
            "color": "#ab63fa",
            "size": [
             37.3
            ],
            "sizemode": "area",
            "sizeref": 0.01484297520661157,
            "symbol": "circle"
           },
           "mode": "markers",
           "name": "country=Australia",
           "showlegend": true,
           "type": "scatter",
           "x": [
            70568.6
           ],
           "xaxis": "x",
           "y": [
            37.3
           ],
           "yaxis": "y"
          },
          {
           "hoverlabel": {
            "namelength": 0
           },
           "hovertemplate": "<b>%{hovertext}</b><br><br>country=Germany<br>year=2003<br>gdp=%{x}<br>co2=%{marker.size}",
           "hovertext": [
            "Germany"
           ],
           "ids": [
            "Germany"
           ],
           "legendgroup": "country=Germany",
           "marker": {
            "color": "#FFA15A",
            "size": [
             7.1
            ],
            "sizemode": "area",
            "sizeref": 0.01484297520661157,
            "symbol": "circle"
           },
           "mode": "markers",
           "name": "country=Germany",
           "showlegend": true,
           "type": "scatter",
           "x": [
            8748.6
           ],
           "xaxis": "x",
           "y": [
            7.1
           ],
           "yaxis": "y"
          }
         ],
         "name": "2003"
        },
        {
         "data": [
          {
           "hoverlabel": {
            "namelength": 0
           },
           "hovertemplate": "<b>%{hovertext}</b><br><br>country=USA<br>year=2004<br>gdp=%{x}<br>co2=%{marker.size}",
           "hovertext": [
            "USA"
           ],
           "ids": [
            "USA"
           ],
           "legendgroup": "country=USA",
           "marker": {
            "color": "#636efa",
            "size": [
             0.8
            ],
            "sizemode": "area",
            "sizeref": 0.01484297520661157,
            "symbol": "circle"
           },
           "mode": "markers",
           "name": "country=USA",
           "showlegend": true,
           "type": "scatter",
           "x": [
            91227.7
           ],
           "xaxis": "x",
           "y": [
            0.8
           ],
           "yaxis": "y"
          },
          {
           "hoverlabel": {
            "namelength": 0
           },
           "hovertemplate": "<b>%{hovertext}</b><br><br>country=China<br>year=2004<br>gdp=%{x}<br>co2=%{marker.size}",
           "hovertext": [
            "China"
           ],
           "ids": [
            "China"
           ],
           "legendgroup": "country=China",
           "marker": {
            "color": "#EF553B",
            "size": [
             3.2
            ],
            "sizemode": "area",
            "sizeref": 0.01484297520661157,
            "symbol": "circle"
           },
           "mode": "markers",
           "name": "country=China",
           "showlegend": true,
           "type": "scatter",
           "x": [
            112935.9
           ],
           "xaxis": "x",
           "y": [
            3.2
           ],
           "yaxis": "y"
          },
          {
           "hoverlabel": {
            "namelength": 0
           },
           "hovertemplate": "<b>%{hovertext}</b><br><br>country=Japan<br>year=2004<br>gdp=%{x}<br>co2=%{marker.size}",
           "hovertext": [
            "Japan"
           ],
           "ids": [
            "Japan"
           ],
           "legendgroup": "country=Japan",
           "marker": {
            "color": "#00cc96",
            "size": [
             21.9
            ],
            "sizemode": "area",
            "sizeref": 0.01484297520661157,
            "symbol": "circle"
           },
           "mode": "markers",
           "name": "country=Japan",
           "showlegend": true,
           "type": "scatter",
           "x": [
            87662.1
           ],
           "xaxis": "x",
           "y": [
            21.9
           ],
           "yaxis": "y"
          },
          {
           "hoverlabel": {
            "namelength": 0
           },
           "hovertemplate": "<b>%{hovertext}</b><br><br>country=Australia<br>year=2004<br>gdp=%{x}<br>co2=%{marker.size}",
           "hovertext": [
            "Australia"
           ],
           "ids": [
            "Australia"
           ],
           "legendgroup": "country=Australia",
           "marker": {
            "color": "#ab63fa",
            "size": [
             27.3
            ],
            "sizemode": "area",
            "sizeref": 0.01484297520661157,
            "symbol": "circle"
           },
           "mode": "markers",
           "name": "country=Australia",
           "showlegend": true,
           "type": "scatter",
           "x": [
            160596.1
           ],
           "xaxis": "x",
           "y": [
            27.3
           ],
           "yaxis": "y"
          },
          {
           "hoverlabel": {
            "namelength": 0
           },
           "hovertemplate": "<b>%{hovertext}</b><br><br>country=Germany<br>year=2004<br>gdp=%{x}<br>co2=%{marker.size}",
           "hovertext": [
            "Germany"
           ],
           "ids": [
            "Germany"
           ],
           "legendgroup": "country=Germany",
           "marker": {
            "color": "#FFA15A",
            "size": [
             25.6
            ],
            "sizemode": "area",
            "sizeref": 0.01484297520661157,
            "symbol": "circle"
           },
           "mode": "markers",
           "name": "country=Germany",
           "showlegend": true,
           "type": "scatter",
           "x": [
            99826
           ],
           "xaxis": "x",
           "y": [
            25.6
           ],
           "yaxis": "y"
          }
         ],
         "name": "2004"
        },
        {
         "data": [
          {
           "hoverlabel": {
            "namelength": 0
           },
           "hovertemplate": "<b>%{hovertext}</b><br><br>country=USA<br>year=2005<br>gdp=%{x}<br>co2=%{marker.size}",
           "hovertext": [
            "USA"
           ],
           "ids": [
            "USA"
           ],
           "legendgroup": "country=USA",
           "marker": {
            "color": "#636efa",
            "size": [
             14.3
            ],
            "sizemode": "area",
            "sizeref": 0.01484297520661157,
            "symbol": "circle"
           },
           "mode": "markers",
           "name": "country=USA",
           "showlegend": true,
           "type": "scatter",
           "x": [
            153604.4
           ],
           "xaxis": "x",
           "y": [
            14.3
           ],
           "yaxis": "y"
          },
          {
           "hoverlabel": {
            "namelength": 0
           },
           "hovertemplate": "<b>%{hovertext}</b><br><br>country=China<br>year=2005<br>gdp=%{x}<br>co2=%{marker.size}",
           "hovertext": [
            "China"
           ],
           "ids": [
            "China"
           ],
           "legendgroup": "country=China",
           "marker": {
            "color": "#EF553B",
            "size": [
             44.5
            ],
            "sizemode": "area",
            "sizeref": 0.01484297520661157,
            "symbol": "circle"
           },
           "mode": "markers",
           "name": "country=China",
           "showlegend": true,
           "type": "scatter",
           "x": [
            23603.6
           ],
           "xaxis": "x",
           "y": [
            44.5
           ],
           "yaxis": "y"
          },
          {
           "hoverlabel": {
            "namelength": 0
           },
           "hovertemplate": "<b>%{hovertext}</b><br><br>country=Japan<br>year=2005<br>gdp=%{x}<br>co2=%{marker.size}",
           "hovertext": [
            "Japan"
           ],
           "ids": [
            "Japan"
           ],
           "legendgroup": "country=Japan",
           "marker": {
            "color": "#00cc96",
            "size": [
             26.1
            ],
            "sizemode": "area",
            "sizeref": 0.01484297520661157,
            "symbol": "circle"
           },
           "mode": "markers",
           "name": "country=Japan",
           "showlegend": true,
           "type": "scatter",
           "x": [
            23909.4
           ],
           "xaxis": "x",
           "y": [
            26.1
           ],
           "yaxis": "y"
          },
          {
           "hoverlabel": {
            "namelength": 0
           },
           "hovertemplate": "<b>%{hovertext}</b><br><br>country=Australia<br>year=2005<br>gdp=%{x}<br>co2=%{marker.size}",
           "hovertext": [
            "Australia"
           ],
           "ids": [
            "Australia"
           ],
           "legendgroup": "country=Australia",
           "marker": {
            "color": "#ab63fa",
            "size": [
             17.1
            ],
            "sizemode": "area",
            "sizeref": 0.01484297520661157,
            "symbol": "circle"
           },
           "mode": "markers",
           "name": "country=Australia",
           "showlegend": true,
           "type": "scatter",
           "x": [
            137308.5
           ],
           "xaxis": "x",
           "y": [
            17.1
           ],
           "yaxis": "y"
          },
          {
           "hoverlabel": {
            "namelength": 0
           },
           "hovertemplate": "<b>%{hovertext}</b><br><br>country=Germany<br>year=2005<br>gdp=%{x}<br>co2=%{marker.size}",
           "hovertext": [
            "Germany"
           ],
           "ids": [
            "Germany"
           ],
           "legendgroup": "country=Germany",
           "marker": {
            "color": "#FFA15A",
            "size": [
             24.8
            ],
            "sizemode": "area",
            "sizeref": 0.01484297520661157,
            "symbol": "circle"
           },
           "mode": "markers",
           "name": "country=Germany",
           "showlegend": true,
           "type": "scatter",
           "x": [
            67767.7
           ],
           "xaxis": "x",
           "y": [
            24.8
           ],
           "yaxis": "y"
          }
         ],
         "name": "2005"
        },
        {
         "data": [
          {
           "hoverlabel": {
            "namelength": 0
           },
           "hovertemplate": "<b>%{hovertext}</b><br><br>country=USA<br>year=2006<br>gdp=%{x}<br>co2=%{marker.size}",
           "hovertext": [
            "USA"
           ],
           "ids": [
            "USA"
           ],
           "legendgroup": "country=USA",
           "marker": {
            "color": "#636efa",
            "size": [
             33.5
            ],
            "sizemode": "area",
            "sizeref": 0.01484297520661157,
            "symbol": "circle"
           },
           "mode": "markers",
           "name": "country=USA",
           "showlegend": true,
           "type": "scatter",
           "x": [
            28335.6
           ],
           "xaxis": "x",
           "y": [
            33.5
           ],
           "yaxis": "y"
          },
          {
           "hoverlabel": {
            "namelength": 0
           },
           "hovertemplate": "<b>%{hovertext}</b><br><br>country=China<br>year=2006<br>gdp=%{x}<br>co2=%{marker.size}",
           "hovertext": [
            "China"
           ],
           "ids": [
            "China"
           ],
           "legendgroup": "country=China",
           "marker": {
            "color": "#EF553B",
            "size": [
             30.1
            ],
            "sizemode": "area",
            "sizeref": 0.01484297520661157,
            "symbol": "circle"
           },
           "mode": "markers",
           "name": "country=China",
           "showlegend": true,
           "type": "scatter",
           "x": [
            157696
           ],
           "xaxis": "x",
           "y": [
            30.1
           ],
           "yaxis": "y"
          },
          {
           "hoverlabel": {
            "namelength": 0
           },
           "hovertemplate": "<b>%{hovertext}</b><br><br>country=Japan<br>year=2006<br>gdp=%{x}<br>co2=%{marker.size}",
           "hovertext": [
            "Japan"
           ],
           "ids": [
            "Japan"
           ],
           "legendgroup": "country=Japan",
           "marker": {
            "color": "#00cc96",
            "size": [
             11.9
            ],
            "sizemode": "area",
            "sizeref": 0.01484297520661157,
            "symbol": "circle"
           },
           "mode": "markers",
           "name": "country=Japan",
           "showlegend": true,
           "type": "scatter",
           "x": [
            59296.3
           ],
           "xaxis": "x",
           "y": [
            11.9
           ],
           "yaxis": "y"
          },
          {
           "hoverlabel": {
            "namelength": 0
           },
           "hovertemplate": "<b>%{hovertext}</b><br><br>country=Australia<br>year=2006<br>gdp=%{x}<br>co2=%{marker.size}",
           "hovertext": [
            "Australia"
           ],
           "ids": [
            "Australia"
           ],
           "legendgroup": "country=Australia",
           "marker": {
            "color": "#ab63fa",
            "size": [
             3
            ],
            "sizemode": "area",
            "sizeref": 0.01484297520661157,
            "symbol": "circle"
           },
           "mode": "markers",
           "name": "country=Australia",
           "showlegend": true,
           "type": "scatter",
           "x": [
            127705.3
           ],
           "xaxis": "x",
           "y": [
            3
           ],
           "yaxis": "y"
          },
          {
           "hoverlabel": {
            "namelength": 0
           },
           "hovertemplate": "<b>%{hovertext}</b><br><br>country=Germany<br>year=2006<br>gdp=%{x}<br>co2=%{marker.size}",
           "hovertext": [
            "Germany"
           ],
           "ids": [
            "Germany"
           ],
           "legendgroup": "country=Germany",
           "marker": {
            "color": "#FFA15A",
            "size": [
             16.7
            ],
            "sizemode": "area",
            "sizeref": 0.01484297520661157,
            "symbol": "circle"
           },
           "mode": "markers",
           "name": "country=Germany",
           "showlegend": true,
           "type": "scatter",
           "x": [
            123493.6
           ],
           "xaxis": "x",
           "y": [
            16.7
           ],
           "yaxis": "y"
          }
         ],
         "name": "2006"
        },
        {
         "data": [
          {
           "hoverlabel": {
            "namelength": 0
           },
           "hovertemplate": "<b>%{hovertext}</b><br><br>country=USA<br>year=2007<br>gdp=%{x}<br>co2=%{marker.size}",
           "hovertext": [
            "USA"
           ],
           "ids": [
            "USA"
           ],
           "legendgroup": "country=USA",
           "marker": {
            "color": "#636efa",
            "size": [
             28.3
            ],
            "sizemode": "area",
            "sizeref": 0.01484297520661157,
            "symbol": "circle"
           },
           "mode": "markers",
           "name": "country=USA",
           "showlegend": true,
           "type": "scatter",
           "x": [
            150193.5
           ],
           "xaxis": "x",
           "y": [
            28.3
           ],
           "yaxis": "y"
          },
          {
           "hoverlabel": {
            "namelength": 0
           },
           "hovertemplate": "<b>%{hovertext}</b><br><br>country=China<br>year=2007<br>gdp=%{x}<br>co2=%{marker.size}",
           "hovertext": [
            "China"
           ],
           "ids": [
            "China"
           ],
           "legendgroup": "country=China",
           "marker": {
            "color": "#EF553B",
            "size": [
             9.5
            ],
            "sizemode": "area",
            "sizeref": 0.01484297520661157,
            "symbol": "circle"
           },
           "mode": "markers",
           "name": "country=China",
           "showlegend": true,
           "type": "scatter",
           "x": [
            106125.9
           ],
           "xaxis": "x",
           "y": [
            9.5
           ],
           "yaxis": "y"
          },
          {
           "hoverlabel": {
            "namelength": 0
           },
           "hovertemplate": "<b>%{hovertext}</b><br><br>country=Japan<br>year=2007<br>gdp=%{x}<br>co2=%{marker.size}",
           "hovertext": [
            "Japan"
           ],
           "ids": [
            "Japan"
           ],
           "legendgroup": "country=Japan",
           "marker": {
            "color": "#00cc96",
            "size": [
             33.9
            ],
            "sizemode": "area",
            "sizeref": 0.01484297520661157,
            "symbol": "circle"
           },
           "mode": "markers",
           "name": "country=Japan",
           "showlegend": true,
           "type": "scatter",
           "x": [
            127727.5
           ],
           "xaxis": "x",
           "y": [
            33.9
           ],
           "yaxis": "y"
          },
          {
           "hoverlabel": {
            "namelength": 0
           },
           "hovertemplate": "<b>%{hovertext}</b><br><br>country=Australia<br>year=2007<br>gdp=%{x}<br>co2=%{marker.size}",
           "hovertext": [
            "Australia"
           ],
           "ids": [
            "Australia"
           ],
           "legendgroup": "country=Australia",
           "marker": {
            "color": "#ab63fa",
            "size": [
             3
            ],
            "sizemode": "area",
            "sizeref": 0.01484297520661157,
            "symbol": "circle"
           },
           "mode": "markers",
           "name": "country=Australia",
           "showlegend": true,
           "type": "scatter",
           "x": [
            59488.5
           ],
           "xaxis": "x",
           "y": [
            3
           ],
           "yaxis": "y"
          },
          {
           "hoverlabel": {
            "namelength": 0
           },
           "hovertemplate": "<b>%{hovertext}</b><br><br>country=Germany<br>year=2007<br>gdp=%{x}<br>co2=%{marker.size}",
           "hovertext": [
            "Germany"
           ],
           "ids": [
            "Germany"
           ],
           "legendgroup": "country=Germany",
           "marker": {
            "color": "#FFA15A",
            "size": [
             11.7
            ],
            "sizemode": "area",
            "sizeref": 0.01484297520661157,
            "symbol": "circle"
           },
           "mode": "markers",
           "name": "country=Germany",
           "showlegend": true,
           "type": "scatter",
           "x": [
            46084.9
           ],
           "xaxis": "x",
           "y": [
            11.7
           ],
           "yaxis": "y"
          }
         ],
         "name": "2007"
        },
        {
         "data": [
          {
           "hoverlabel": {
            "namelength": 0
           },
           "hovertemplate": "<b>%{hovertext}</b><br><br>country=USA<br>year=2008<br>gdp=%{x}<br>co2=%{marker.size}",
           "hovertext": [
            "USA"
           ],
           "ids": [
            "USA"
           ],
           "legendgroup": "country=USA",
           "marker": {
            "color": "#636efa",
            "size": [
             36.2
            ],
            "sizemode": "area",
            "sizeref": 0.01484297520661157,
            "symbol": "circle"
           },
           "mode": "markers",
           "name": "country=USA",
           "showlegend": true,
           "type": "scatter",
           "x": [
            152328.8
           ],
           "xaxis": "x",
           "y": [
            36.2
           ],
           "yaxis": "y"
          },
          {
           "hoverlabel": {
            "namelength": 0
           },
           "hovertemplate": "<b>%{hovertext}</b><br><br>country=China<br>year=2008<br>gdp=%{x}<br>co2=%{marker.size}",
           "hovertext": [
            "China"
           ],
           "ids": [
            "China"
           ],
           "legendgroup": "country=China",
           "marker": {
            "color": "#EF553B",
            "size": [
             8.7
            ],
            "sizemode": "area",
            "sizeref": 0.01484297520661157,
            "symbol": "circle"
           },
           "mode": "markers",
           "name": "country=China",
           "showlegend": true,
           "type": "scatter",
           "x": [
            72929.9
           ],
           "xaxis": "x",
           "y": [
            8.7
           ],
           "yaxis": "y"
          },
          {
           "hoverlabel": {
            "namelength": 0
           },
           "hovertemplate": "<b>%{hovertext}</b><br><br>country=Japan<br>year=2008<br>gdp=%{x}<br>co2=%{marker.size}",
           "hovertext": [
            "Japan"
           ],
           "ids": [
            "Japan"
           ],
           "legendgroup": "country=Japan",
           "marker": {
            "color": "#00cc96",
            "size": [
             28.8
            ],
            "sizemode": "area",
            "sizeref": 0.01484297520661157,
            "symbol": "circle"
           },
           "mode": "markers",
           "name": "country=Japan",
           "showlegend": true,
           "type": "scatter",
           "x": [
            164032.3
           ],
           "xaxis": "x",
           "y": [
            28.8
           ],
           "yaxis": "y"
          },
          {
           "hoverlabel": {
            "namelength": 0
           },
           "hovertemplate": "<b>%{hovertext}</b><br><br>country=Australia<br>year=2008<br>gdp=%{x}<br>co2=%{marker.size}",
           "hovertext": [
            "Australia"
           ],
           "ids": [
            "Australia"
           ],
           "legendgroup": "country=Australia",
           "marker": {
            "color": "#ab63fa",
            "size": [
             23.6
            ],
            "sizemode": "area",
            "sizeref": 0.01484297520661157,
            "symbol": "circle"
           },
           "mode": "markers",
           "name": "country=Australia",
           "showlegend": true,
           "type": "scatter",
           "x": [
            112875.9
           ],
           "xaxis": "x",
           "y": [
            23.6
           ],
           "yaxis": "y"
          },
          {
           "hoverlabel": {
            "namelength": 0
           },
           "hovertemplate": "<b>%{hovertext}</b><br><br>country=Germany<br>year=2008<br>gdp=%{x}<br>co2=%{marker.size}",
           "hovertext": [
            "Germany"
           ],
           "ids": [
            "Germany"
           ],
           "legendgroup": "country=Germany",
           "marker": {
            "color": "#FFA15A",
            "size": [
             41.6
            ],
            "sizemode": "area",
            "sizeref": 0.01484297520661157,
            "symbol": "circle"
           },
           "mode": "markers",
           "name": "country=Germany",
           "showlegend": true,
           "type": "scatter",
           "x": [
            105790.4
           ],
           "xaxis": "x",
           "y": [
            41.6
           ],
           "yaxis": "y"
          }
         ],
         "name": "2008"
        },
        {
         "data": [
          {
           "hoverlabel": {
            "namelength": 0
           },
           "hovertemplate": "<b>%{hovertext}</b><br><br>country=USA<br>year=2009<br>gdp=%{x}<br>co2=%{marker.size}",
           "hovertext": [
            "USA"
           ],
           "ids": [
            "USA"
           ],
           "legendgroup": "country=USA",
           "marker": {
            "color": "#636efa",
            "size": [
             11.8
            ],
            "sizemode": "area",
            "sizeref": 0.01484297520661157,
            "symbol": "circle"
           },
           "mode": "markers",
           "name": "country=USA",
           "showlegend": true,
           "type": "scatter",
           "x": [
            19745.8
           ],
           "xaxis": "x",
           "y": [
            11.8
           ],
           "yaxis": "y"
          },
          {
           "hoverlabel": {
            "namelength": 0
           },
           "hovertemplate": "<b>%{hovertext}</b><br><br>country=China<br>year=2009<br>gdp=%{x}<br>co2=%{marker.size}",
           "hovertext": [
            "China"
           ],
           "ids": [
            "China"
           ],
           "legendgroup": "country=China",
           "marker": {
            "color": "#EF553B",
            "size": [
             3
            ],
            "sizemode": "area",
            "sizeref": 0.01484297520661157,
            "symbol": "circle"
           },
           "mode": "markers",
           "name": "country=China",
           "showlegend": true,
           "type": "scatter",
           "x": [
            161426.8
           ],
           "xaxis": "x",
           "y": [
            3
           ],
           "yaxis": "y"
          },
          {
           "hoverlabel": {
            "namelength": 0
           },
           "hovertemplate": "<b>%{hovertext}</b><br><br>country=Japan<br>year=2009<br>gdp=%{x}<br>co2=%{marker.size}",
           "hovertext": [
            "Japan"
           ],
           "ids": [
            "Japan"
           ],
           "legendgroup": "country=Japan",
           "marker": {
            "color": "#00cc96",
            "size": [
             33.1
            ],
            "sizemode": "area",
            "sizeref": 0.01484297520661157,
            "symbol": "circle"
           },
           "mode": "markers",
           "name": "country=Japan",
           "showlegend": true,
           "type": "scatter",
           "x": [
            76633.6
           ],
           "xaxis": "x",
           "y": [
            33.1
           ],
           "yaxis": "y"
          },
          {
           "hoverlabel": {
            "namelength": 0
           },
           "hovertemplate": "<b>%{hovertext}</b><br><br>country=Australia<br>year=2009<br>gdp=%{x}<br>co2=%{marker.size}",
           "hovertext": [
            "Australia"
           ],
           "ids": [
            "Australia"
           ],
           "legendgroup": "country=Australia",
           "marker": {
            "color": "#ab63fa",
            "size": [
             34.7
            ],
            "sizemode": "area",
            "sizeref": 0.01484297520661157,
            "symbol": "circle"
           },
           "mode": "markers",
           "name": "country=Australia",
           "showlegend": true,
           "type": "scatter",
           "x": [
            98440.1
           ],
           "xaxis": "x",
           "y": [
            34.7
           ],
           "yaxis": "y"
          },
          {
           "hoverlabel": {
            "namelength": 0
           },
           "hovertemplate": "<b>%{hovertext}</b><br><br>country=Germany<br>year=2009<br>gdp=%{x}<br>co2=%{marker.size}",
           "hovertext": [
            "Germany"
           ],
           "ids": [
            "Germany"
           ],
           "legendgroup": "country=Germany",
           "marker": {
            "color": "#FFA15A",
            "size": [
             40.9
            ],
            "sizemode": "area",
            "sizeref": 0.01484297520661157,
            "symbol": "circle"
           },
           "mode": "markers",
           "name": "country=Germany",
           "showlegend": true,
           "type": "scatter",
           "x": [
            69543.1
           ],
           "xaxis": "x",
           "y": [
            40.9
           ],
           "yaxis": "y"
          }
         ],
         "name": "2009"
        },
        {
         "data": [
          {
           "hoverlabel": {
            "namelength": 0
           },
           "hovertemplate": "<b>%{hovertext}</b><br><br>country=USA<br>year=2010<br>gdp=%{x}<br>co2=%{marker.size}",
           "hovertext": [
            "USA"
           ],
           "ids": [
            "USA"
           ],
           "legendgroup": "country=USA",
           "marker": {
            "color": "#636efa",
            "size": [
             41.9
            ],
            "sizemode": "area",
            "sizeref": 0.01484297520661157,
            "symbol": "circle"
           },
           "mode": "markers",
           "name": "country=USA",
           "showlegend": true,
           "type": "scatter",
           "x": [
            40500.6
           ],
           "xaxis": "x",
           "y": [
            41.9
           ],
           "yaxis": "y"
          },
          {
           "hoverlabel": {
            "namelength": 0
           },
           "hovertemplate": "<b>%{hovertext}</b><br><br>country=China<br>year=2010<br>gdp=%{x}<br>co2=%{marker.size}",
           "hovertext": [
            "China"
           ],
           "ids": [
            "China"
           ],
           "legendgroup": "country=China",
           "marker": {
            "color": "#EF553B",
            "size": [
             0.6
            ],
            "sizemode": "area",
            "sizeref": 0.01484297520661157,
            "symbol": "circle"
           },
           "mode": "markers",
           "name": "country=China",
           "showlegend": true,
           "type": "scatter",
           "x": [
            153600.6
           ],
           "xaxis": "x",
           "y": [
            0.6
           ],
           "yaxis": "y"
          },
          {
           "hoverlabel": {
            "namelength": 0
           },
           "hovertemplate": "<b>%{hovertext}</b><br><br>country=Japan<br>year=2010<br>gdp=%{x}<br>co2=%{marker.size}",
           "hovertext": [
            "Japan"
           ],
           "ids": [
            "Japan"
           ],
           "legendgroup": "country=Japan",
           "marker": {
            "color": "#00cc96",
            "size": [
             10.5
            ],
            "sizemode": "area",
            "sizeref": 0.01484297520661157,
            "symbol": "circle"
           },
           "mode": "markers",
           "name": "country=Japan",
           "showlegend": true,
           "type": "scatter",
           "x": [
            97640.6
           ],
           "xaxis": "x",
           "y": [
            10.5
           ],
           "yaxis": "y"
          },
          {
           "hoverlabel": {
            "namelength": 0
           },
           "hovertemplate": "<b>%{hovertext}</b><br><br>country=Australia<br>year=2010<br>gdp=%{x}<br>co2=%{marker.size}",
           "hovertext": [
            "Australia"
           ],
           "ids": [
            "Australia"
           ],
           "legendgroup": "country=Australia",
           "marker": {
            "color": "#ab63fa",
            "size": [
             27.8
            ],
            "sizemode": "area",
            "sizeref": 0.01484297520661157,
            "symbol": "circle"
           },
           "mode": "markers",
           "name": "country=Australia",
           "showlegend": true,
           "type": "scatter",
           "x": [
            757.2
           ],
           "xaxis": "x",
           "y": [
            27.8
           ],
           "yaxis": "y"
          },
          {
           "hoverlabel": {
            "namelength": 0
           },
           "hovertemplate": "<b>%{hovertext}</b><br><br>country=Germany<br>year=2010<br>gdp=%{x}<br>co2=%{marker.size}",
           "hovertext": [
            "Germany"
           ],
           "ids": [
            "Germany"
           ],
           "legendgroup": "country=Germany",
           "marker": {
            "color": "#FFA15A",
            "size": [
             42.7
            ],
            "sizemode": "area",
            "sizeref": 0.01484297520661157,
            "symbol": "circle"
           },
           "mode": "markers",
           "name": "country=Germany",
           "showlegend": true,
           "type": "scatter",
           "x": [
            105018
           ],
           "xaxis": "x",
           "y": [
            42.7
           ],
           "yaxis": "y"
          }
         ],
         "name": "2010"
        }
       ],
       "layout": {
        "height": 600,
        "legend": {
         "itemsizing": "constant",
         "tracegroupgap": 0
        },
        "sliders": [
         {
          "active": 0,
          "currentvalue": {
           "prefix": "year="
          },
          "len": 0.9,
          "pad": {
           "b": 10,
           "t": 60
          },
          "steps": [
           {
            "args": [
             [
              "1991"
             ],
             {
              "frame": {
               "duration": 0,
               "redraw": false
              },
              "fromcurrent": true,
              "mode": "immediate",
              "transition": {
               "duration": 0,
               "easing": "linear"
              }
             }
            ],
            "label": "1991",
            "method": "animate"
           },
           {
            "args": [
             [
              "1992"
             ],
             {
              "frame": {
               "duration": 0,
               "redraw": false
              },
              "fromcurrent": true,
              "mode": "immediate",
              "transition": {
               "duration": 0,
               "easing": "linear"
              }
             }
            ],
            "label": "1992",
            "method": "animate"
           },
           {
            "args": [
             [
              "1993"
             ],
             {
              "frame": {
               "duration": 0,
               "redraw": false
              },
              "fromcurrent": true,
              "mode": "immediate",
              "transition": {
               "duration": 0,
               "easing": "linear"
              }
             }
            ],
            "label": "1993",
            "method": "animate"
           },
           {
            "args": [
             [
              "1994"
             ],
             {
              "frame": {
               "duration": 0,
               "redraw": false
              },
              "fromcurrent": true,
              "mode": "immediate",
              "transition": {
               "duration": 0,
               "easing": "linear"
              }
             }
            ],
            "label": "1994",
            "method": "animate"
           },
           {
            "args": [
             [
              "1995"
             ],
             {
              "frame": {
               "duration": 0,
               "redraw": false
              },
              "fromcurrent": true,
              "mode": "immediate",
              "transition": {
               "duration": 0,
               "easing": "linear"
              }
             }
            ],
            "label": "1995",
            "method": "animate"
           },
           {
            "args": [
             [
              "1996"
             ],
             {
              "frame": {
               "duration": 0,
               "redraw": false
              },
              "fromcurrent": true,
              "mode": "immediate",
              "transition": {
               "duration": 0,
               "easing": "linear"
              }
             }
            ],
            "label": "1996",
            "method": "animate"
           },
           {
            "args": [
             [
              "1997"
             ],
             {
              "frame": {
               "duration": 0,
               "redraw": false
              },
              "fromcurrent": true,
              "mode": "immediate",
              "transition": {
               "duration": 0,
               "easing": "linear"
              }
             }
            ],
            "label": "1997",
            "method": "animate"
           },
           {
            "args": [
             [
              "1998"
             ],
             {
              "frame": {
               "duration": 0,
               "redraw": false
              },
              "fromcurrent": true,
              "mode": "immediate",
              "transition": {
               "duration": 0,
               "easing": "linear"
              }
             }
            ],
            "label": "1998",
            "method": "animate"
           },
           {
            "args": [
             [
              "1999"
             ],
             {
              "frame": {
               "duration": 0,
               "redraw": false
              },
              "fromcurrent": true,
              "mode": "immediate",
              "transition": {
               "duration": 0,
               "easing": "linear"
              }
             }
            ],
            "label": "1999",
            "method": "animate"
           },
           {
            "args": [
             [
              "2000"
             ],
             {
              "frame": {
               "duration": 0,
               "redraw": false
              },
              "fromcurrent": true,
              "mode": "immediate",
              "transition": {
               "duration": 0,
               "easing": "linear"
              }
             }
            ],
            "label": "2000",
            "method": "animate"
           },
           {
            "args": [
             [
              "2001"
             ],
             {
              "frame": {
               "duration": 0,
               "redraw": false
              },
              "fromcurrent": true,
              "mode": "immediate",
              "transition": {
               "duration": 0,
               "easing": "linear"
              }
             }
            ],
            "label": "2001",
            "method": "animate"
           },
           {
            "args": [
             [
              "2002"
             ],
             {
              "frame": {
               "duration": 0,
               "redraw": false
              },
              "fromcurrent": true,
              "mode": "immediate",
              "transition": {
               "duration": 0,
               "easing": "linear"
              }
             }
            ],
            "label": "2002",
            "method": "animate"
           },
           {
            "args": [
             [
              "2003"
             ],
             {
              "frame": {
               "duration": 0,
               "redraw": false
              },
              "fromcurrent": true,
              "mode": "immediate",
              "transition": {
               "duration": 0,
               "easing": "linear"
              }
             }
            ],
            "label": "2003",
            "method": "animate"
           },
           {
            "args": [
             [
              "2004"
             ],
             {
              "frame": {
               "duration": 0,
               "redraw": false
              },
              "fromcurrent": true,
              "mode": "immediate",
              "transition": {
               "duration": 0,
               "easing": "linear"
              }
             }
            ],
            "label": "2004",
            "method": "animate"
           },
           {
            "args": [
             [
              "2005"
             ],
             {
              "frame": {
               "duration": 0,
               "redraw": false
              },
              "fromcurrent": true,
              "mode": "immediate",
              "transition": {
               "duration": 0,
               "easing": "linear"
              }
             }
            ],
            "label": "2005",
            "method": "animate"
           },
           {
            "args": [
             [
              "2006"
             ],
             {
              "frame": {
               "duration": 0,
               "redraw": false
              },
              "fromcurrent": true,
              "mode": "immediate",
              "transition": {
               "duration": 0,
               "easing": "linear"
              }
             }
            ],
            "label": "2006",
            "method": "animate"
           },
           {
            "args": [
             [
              "2007"
             ],
             {
              "frame": {
               "duration": 0,
               "redraw": false
              },
              "fromcurrent": true,
              "mode": "immediate",
              "transition": {
               "duration": 0,
               "easing": "linear"
              }
             }
            ],
            "label": "2007",
            "method": "animate"
           },
           {
            "args": [
             [
              "2008"
             ],
             {
              "frame": {
               "duration": 0,
               "redraw": false
              },
              "fromcurrent": true,
              "mode": "immediate",
              "transition": {
               "duration": 0,
               "easing": "linear"
              }
             }
            ],
            "label": "2008",
            "method": "animate"
           },
           {
            "args": [
             [
              "2009"
             ],
             {
              "frame": {
               "duration": 0,
               "redraw": false
              },
              "fromcurrent": true,
              "mode": "immediate",
              "transition": {
               "duration": 0,
               "easing": "linear"
              }
             }
            ],
            "label": "2009",
            "method": "animate"
           },
           {
            "args": [
             [
              "2010"
             ],
             {
              "frame": {
               "duration": 0,
               "redraw": false
              },
              "fromcurrent": true,
              "mode": "immediate",
              "transition": {
               "duration": 0,
               "easing": "linear"
              }
             }
            ],
            "label": "2010",
            "method": "animate"
           }
          ],
          "x": 0.1,
          "xanchor": "left",
          "y": 0,
          "yanchor": "top"
         }
        ],
        "template": {
         "data": {
          "bar": [
           {
            "error_x": {
             "color": "#2a3f5f"
            },
            "error_y": {
             "color": "#2a3f5f"
            },
            "marker": {
             "line": {
              "color": "#E5ECF6",
              "width": 0.5
             }
            },
            "type": "bar"
           }
          ],
          "barpolar": [
           {
            "marker": {
             "line": {
              "color": "#E5ECF6",
              "width": 0.5
             }
            },
            "type": "barpolar"
           }
          ],
          "carpet": [
           {
            "aaxis": {
             "endlinecolor": "#2a3f5f",
             "gridcolor": "white",
             "linecolor": "white",
             "minorgridcolor": "white",
             "startlinecolor": "#2a3f5f"
            },
            "baxis": {
             "endlinecolor": "#2a3f5f",
             "gridcolor": "white",
             "linecolor": "white",
             "minorgridcolor": "white",
             "startlinecolor": "#2a3f5f"
            },
            "type": "carpet"
           }
          ],
          "choropleth": [
           {
            "colorbar": {
             "outlinewidth": 0,
             "ticks": ""
            },
            "type": "choropleth"
           }
          ],
          "contour": [
           {
            "colorbar": {
             "outlinewidth": 0,
             "ticks": ""
            },
            "colorscale": [
             [
              0,
              "#0d0887"
             ],
             [
              0.1111111111111111,
              "#46039f"
             ],
             [
              0.2222222222222222,
              "#7201a8"
             ],
             [
              0.3333333333333333,
              "#9c179e"
             ],
             [
              0.4444444444444444,
              "#bd3786"
             ],
             [
              0.5555555555555556,
              "#d8576b"
             ],
             [
              0.6666666666666666,
              "#ed7953"
             ],
             [
              0.7777777777777778,
              "#fb9f3a"
             ],
             [
              0.8888888888888888,
              "#fdca26"
             ],
             [
              1,
              "#f0f921"
             ]
            ],
            "type": "contour"
           }
          ],
          "contourcarpet": [
           {
            "colorbar": {
             "outlinewidth": 0,
             "ticks": ""
            },
            "type": "contourcarpet"
           }
          ],
          "heatmap": [
           {
            "colorbar": {
             "outlinewidth": 0,
             "ticks": ""
            },
            "colorscale": [
             [
              0,
              "#0d0887"
             ],
             [
              0.1111111111111111,
              "#46039f"
             ],
             [
              0.2222222222222222,
              "#7201a8"
             ],
             [
              0.3333333333333333,
              "#9c179e"
             ],
             [
              0.4444444444444444,
              "#bd3786"
             ],
             [
              0.5555555555555556,
              "#d8576b"
             ],
             [
              0.6666666666666666,
              "#ed7953"
             ],
             [
              0.7777777777777778,
              "#fb9f3a"
             ],
             [
              0.8888888888888888,
              "#fdca26"
             ],
             [
              1,
              "#f0f921"
             ]
            ],
            "type": "heatmap"
           }
          ],
          "heatmapgl": [
           {
            "colorbar": {
             "outlinewidth": 0,
             "ticks": ""
            },
            "colorscale": [
             [
              0,
              "#0d0887"
             ],
             [
              0.1111111111111111,
              "#46039f"
             ],
             [
              0.2222222222222222,
              "#7201a8"
             ],
             [
              0.3333333333333333,
              "#9c179e"
             ],
             [
              0.4444444444444444,
              "#bd3786"
             ],
             [
              0.5555555555555556,
              "#d8576b"
             ],
             [
              0.6666666666666666,
              "#ed7953"
             ],
             [
              0.7777777777777778,
              "#fb9f3a"
             ],
             [
              0.8888888888888888,
              "#fdca26"
             ],
             [
              1,
              "#f0f921"
             ]
            ],
            "type": "heatmapgl"
           }
          ],
          "histogram": [
           {
            "marker": {
             "colorbar": {
              "outlinewidth": 0,
              "ticks": ""
             }
            },
            "type": "histogram"
           }
          ],
          "histogram2d": [
           {
            "colorbar": {
             "outlinewidth": 0,
             "ticks": ""
            },
            "colorscale": [
             [
              0,
              "#0d0887"
             ],
             [
              0.1111111111111111,
              "#46039f"
             ],
             [
              0.2222222222222222,
              "#7201a8"
             ],
             [
              0.3333333333333333,
              "#9c179e"
             ],
             [
              0.4444444444444444,
              "#bd3786"
             ],
             [
              0.5555555555555556,
              "#d8576b"
             ],
             [
              0.6666666666666666,
              "#ed7953"
             ],
             [
              0.7777777777777778,
              "#fb9f3a"
             ],
             [
              0.8888888888888888,
              "#fdca26"
             ],
             [
              1,
              "#f0f921"
             ]
            ],
            "type": "histogram2d"
           }
          ],
          "histogram2dcontour": [
           {
            "colorbar": {
             "outlinewidth": 0,
             "ticks": ""
            },
            "colorscale": [
             [
              0,
              "#0d0887"
             ],
             [
              0.1111111111111111,
              "#46039f"
             ],
             [
              0.2222222222222222,
              "#7201a8"
             ],
             [
              0.3333333333333333,
              "#9c179e"
             ],
             [
              0.4444444444444444,
              "#bd3786"
             ],
             [
              0.5555555555555556,
              "#d8576b"
             ],
             [
              0.6666666666666666,
              "#ed7953"
             ],
             [
              0.7777777777777778,
              "#fb9f3a"
             ],
             [
              0.8888888888888888,
              "#fdca26"
             ],
             [
              1,
              "#f0f921"
             ]
            ],
            "type": "histogram2dcontour"
           }
          ],
          "mesh3d": [
           {
            "colorbar": {
             "outlinewidth": 0,
             "ticks": ""
            },
            "type": "mesh3d"
           }
          ],
          "parcoords": [
           {
            "line": {
             "colorbar": {
              "outlinewidth": 0,
              "ticks": ""
             }
            },
            "type": "parcoords"
           }
          ],
          "scatter": [
           {
            "marker": {
             "colorbar": {
              "outlinewidth": 0,
              "ticks": ""
             }
            },
            "type": "scatter"
           }
          ],
          "scatter3d": [
           {
            "line": {
             "colorbar": {
              "outlinewidth": 0,
              "ticks": ""
             }
            },
            "marker": {
             "colorbar": {
              "outlinewidth": 0,
              "ticks": ""
             }
            },
            "type": "scatter3d"
           }
          ],
          "scattercarpet": [
           {
            "marker": {
             "colorbar": {
              "outlinewidth": 0,
              "ticks": ""
             }
            },
            "type": "scattercarpet"
           }
          ],
          "scattergeo": [
           {
            "marker": {
             "colorbar": {
              "outlinewidth": 0,
              "ticks": ""
             }
            },
            "type": "scattergeo"
           }
          ],
          "scattergl": [
           {
            "marker": {
             "colorbar": {
              "outlinewidth": 0,
              "ticks": ""
             }
            },
            "type": "scattergl"
           }
          ],
          "scattermapbox": [
           {
            "marker": {
             "colorbar": {
              "outlinewidth": 0,
              "ticks": ""
             }
            },
            "type": "scattermapbox"
           }
          ],
          "scatterpolar": [
           {
            "marker": {
             "colorbar": {
              "outlinewidth": 0,
              "ticks": ""
             }
            },
            "type": "scatterpolar"
           }
          ],
          "scatterpolargl": [
           {
            "marker": {
             "colorbar": {
              "outlinewidth": 0,
              "ticks": ""
             }
            },
            "type": "scatterpolargl"
           }
          ],
          "scatterternary": [
           {
            "marker": {
             "colorbar": {
              "outlinewidth": 0,
              "ticks": ""
             }
            },
            "type": "scatterternary"
           }
          ],
          "surface": [
           {
            "colorbar": {
             "outlinewidth": 0,
             "ticks": ""
            },
            "colorscale": [
             [
              0,
              "#0d0887"
             ],
             [
              0.1111111111111111,
              "#46039f"
             ],
             [
              0.2222222222222222,
              "#7201a8"
             ],
             [
              0.3333333333333333,
              "#9c179e"
             ],
             [
              0.4444444444444444,
              "#bd3786"
             ],
             [
              0.5555555555555556,
              "#d8576b"
             ],
             [
              0.6666666666666666,
              "#ed7953"
             ],
             [
              0.7777777777777778,
              "#fb9f3a"
             ],
             [
              0.8888888888888888,
              "#fdca26"
             ],
             [
              1,
              "#f0f921"
             ]
            ],
            "type": "surface"
           }
          ],
          "table": [
           {
            "cells": {
             "fill": {
              "color": "#EBF0F8"
             },
             "line": {
              "color": "white"
             }
            },
            "header": {
             "fill": {
              "color": "#C8D4E3"
             },
             "line": {
              "color": "white"
             }
            },
            "type": "table"
           }
          ]
         },
         "layout": {
          "annotationdefaults": {
           "arrowcolor": "#2a3f5f",
           "arrowhead": 0,
           "arrowwidth": 1
          },
          "colorscale": {
           "diverging": [
            [
             0,
             "#8e0152"
            ],
            [
             0.1,
             "#c51b7d"
            ],
            [
             0.2,
             "#de77ae"
            ],
            [
             0.3,
             "#f1b6da"
            ],
            [
             0.4,
             "#fde0ef"
            ],
            [
             0.5,
             "#f7f7f7"
            ],
            [
             0.6,
             "#e6f5d0"
            ],
            [
             0.7,
             "#b8e186"
            ],
            [
             0.8,
             "#7fbc41"
            ],
            [
             0.9,
             "#4d9221"
            ],
            [
             1,
             "#276419"
            ]
           ],
           "sequential": [
            [
             0,
             "#0d0887"
            ],
            [
             0.1111111111111111,
             "#46039f"
            ],
            [
             0.2222222222222222,
             "#7201a8"
            ],
            [
             0.3333333333333333,
             "#9c179e"
            ],
            [
             0.4444444444444444,
             "#bd3786"
            ],
            [
             0.5555555555555556,
             "#d8576b"
            ],
            [
             0.6666666666666666,
             "#ed7953"
            ],
            [
             0.7777777777777778,
             "#fb9f3a"
            ],
            [
             0.8888888888888888,
             "#fdca26"
            ],
            [
             1,
             "#f0f921"
            ]
           ],
           "sequentialminus": [
            [
             0,
             "#0d0887"
            ],
            [
             0.1111111111111111,
             "#46039f"
            ],
            [
             0.2222222222222222,
             "#7201a8"
            ],
            [
             0.3333333333333333,
             "#9c179e"
            ],
            [
             0.4444444444444444,
             "#bd3786"
            ],
            [
             0.5555555555555556,
             "#d8576b"
            ],
            [
             0.6666666666666666,
             "#ed7953"
            ],
            [
             0.7777777777777778,
             "#fb9f3a"
            ],
            [
             0.8888888888888888,
             "#fdca26"
            ],
            [
             1,
             "#f0f921"
            ]
           ]
          },
          "colorway": [
           "#636efa",
           "#EF553B",
           "#00cc96",
           "#ab63fa",
           "#FFA15A",
           "#19d3f3",
           "#FF6692",
           "#B6E880",
           "#FF97FF",
           "#FECB52"
          ],
          "font": {
           "color": "#2a3f5f"
          },
          "geo": {
           "bgcolor": "white",
           "lakecolor": "white",
           "landcolor": "#E5ECF6",
           "showlakes": true,
           "showland": true,
           "subunitcolor": "white"
          },
          "hoverlabel": {
           "align": "left"
          },
          "hovermode": "closest",
          "mapbox": {
           "style": "light"
          },
          "paper_bgcolor": "white",
          "plot_bgcolor": "#E5ECF6",
          "polar": {
           "angularaxis": {
            "gridcolor": "white",
            "linecolor": "white",
            "ticks": ""
           },
           "bgcolor": "#E5ECF6",
           "radialaxis": {
            "gridcolor": "white",
            "linecolor": "white",
            "ticks": ""
           }
          },
          "scene": {
           "xaxis": {
            "backgroundcolor": "#E5ECF6",
            "gridcolor": "white",
            "gridwidth": 2,
            "linecolor": "white",
            "showbackground": true,
            "ticks": "",
            "zerolinecolor": "white"
           },
           "yaxis": {
            "backgroundcolor": "#E5ECF6",
            "gridcolor": "white",
            "gridwidth": 2,
            "linecolor": "white",
            "showbackground": true,
            "ticks": "",
            "zerolinecolor": "white"
           },
           "zaxis": {
            "backgroundcolor": "#E5ECF6",
            "gridcolor": "white",
            "gridwidth": 2,
            "linecolor": "white",
            "showbackground": true,
            "ticks": "",
            "zerolinecolor": "white"
           }
          },
          "shapedefaults": {
           "line": {
            "color": "#2a3f5f"
           }
          },
          "ternary": {
           "aaxis": {
            "gridcolor": "white",
            "linecolor": "white",
            "ticks": ""
           },
           "baxis": {
            "gridcolor": "white",
            "linecolor": "white",
            "ticks": ""
           },
           "bgcolor": "#E5ECF6",
           "caxis": {
            "gridcolor": "white",
            "linecolor": "white",
            "ticks": ""
           }
          },
          "title": {
           "x": 0.05
          },
          "xaxis": {
           "automargin": true,
           "gridcolor": "white",
           "linecolor": "white",
           "ticks": "",
           "zerolinecolor": "white",
           "zerolinewidth": 2
          },
          "yaxis": {
           "automargin": true,
           "gridcolor": "white",
           "linecolor": "white",
           "ticks": "",
           "zerolinecolor": "white",
           "zerolinewidth": 2
          }
         }
        },
        "title": {
         "text": "Time Series Plot Test"
        },
        "updatemenus": [
         {
          "buttons": [
           {
            "args": [
             null,
             {
              "frame": {
               "duration": 500,
               "redraw": false
              },
              "fromcurrent": true,
              "mode": "immediate",
              "transition": {
               "duration": 500,
               "easing": "linear"
              }
             }
            ],
            "label": "&#9654;",
            "method": "animate"
           },
           {
            "args": [
             [
              null
             ],
             {
              "frame": {
               "duration": 0,
               "redraw": false
              },
              "fromcurrent": true,
              "mode": "immediate",
              "transition": {
               "duration": 0,
               "easing": "linear"
              }
             }
            ],
            "label": "&#9724;",
            "method": "animate"
           }
          ],
          "direction": "left",
          "pad": {
           "r": 10,
           "t": 70
          },
          "showactive": false,
          "type": "buttons",
          "x": 0.1,
          "xanchor": "right",
          "y": 0,
          "yanchor": "top"
         }
        ],
        "xaxis": {
         "anchor": "y",
         "domain": [
          0,
          0.98
         ],
         "range": [
          2,
          5.301029995663981
         ],
         "title": {
          "text": "GDP per Capita"
         },
         "type": "log"
        },
        "yaxis": {
         "anchor": "x",
         "domain": [
          0,
          1
         ],
         "range": [
          -10,
          60
         ],
         "title": {
          "text": "CO2 emissions per capita"
         }
        }
       }
      },
      "text/html": [
       "<div>\n",
       "        \n",
       "        \n",
       "            <div id=\"1fc2d3a3-269a-43a4-9018-26bca9bd7df7\" class=\"plotly-graph-div\" style=\"height:600px; width:100%;\"></div>\n",
       "            <script type=\"text/javascript\">\n",
       "                require([\"plotly\"], function(Plotly) {\n",
       "                    window.PLOTLYENV=window.PLOTLYENV || {};\n",
       "                    \n",
       "                if (document.getElementById(\"1fc2d3a3-269a-43a4-9018-26bca9bd7df7\")) {\n",
       "                    Plotly.newPlot(\n",
       "                        '1fc2d3a3-269a-43a4-9018-26bca9bd7df7',\n",
       "                        [{\"hoverlabel\": {\"namelength\": 0}, \"hovertemplate\": \"<b>%{hovertext}</b><br><br>country=USA<br>year=1991<br>gdp=%{x}<br>co2=%{marker.size}\", \"hovertext\": [\"USA\"], \"ids\": [\"USA\"], \"legendgroup\": \"country=USA\", \"marker\": {\"color\": \"#636efa\", \"size\": [14.7], \"sizemode\": \"area\", \"sizeref\": 0.01484297520661157, \"symbol\": \"circle\"}, \"mode\": \"markers\", \"name\": \"country=USA\", \"showlegend\": true, \"type\": \"scatter\", \"x\": [71051.1], \"xaxis\": \"x\", \"y\": [14.7], \"yaxis\": \"y\"}, {\"hoverlabel\": {\"namelength\": 0}, \"hovertemplate\": \"<b>%{hovertext}</b><br><br>country=China<br>year=1991<br>gdp=%{x}<br>co2=%{marker.size}\", \"hovertext\": [\"China\"], \"ids\": [\"China\"], \"legendgroup\": \"country=China\", \"marker\": {\"color\": \"#EF553B\", \"size\": [23.7], \"sizemode\": \"area\", \"sizeref\": 0.01484297520661157, \"symbol\": \"circle\"}, \"mode\": \"markers\", \"name\": \"country=China\", \"showlegend\": true, \"type\": \"scatter\", \"x\": [122530.7], \"xaxis\": \"x\", \"y\": [23.7], \"yaxis\": \"y\"}, {\"hoverlabel\": {\"namelength\": 0}, \"hovertemplate\": \"<b>%{hovertext}</b><br><br>country=Japan<br>year=1991<br>gdp=%{x}<br>co2=%{marker.size}\", \"hovertext\": [\"Japan\"], \"ids\": [\"Japan\"], \"legendgroup\": \"country=Japan\", \"marker\": {\"color\": \"#00cc96\", \"size\": [39.9], \"sizemode\": \"area\", \"sizeref\": 0.01484297520661157, \"symbol\": \"circle\"}, \"mode\": \"markers\", \"name\": \"country=Japan\", \"showlegend\": true, \"type\": \"scatter\", \"x\": [289.4], \"xaxis\": \"x\", \"y\": [39.9], \"yaxis\": \"y\"}, {\"hoverlabel\": {\"namelength\": 0}, \"hovertemplate\": \"<b>%{hovertext}</b><br><br>country=Australia<br>year=1991<br>gdp=%{x}<br>co2=%{marker.size}\", \"hovertext\": [\"Australia\"], \"ids\": [\"Australia\"], \"legendgroup\": \"country=Australia\", \"marker\": {\"color\": \"#ab63fa\", \"size\": [16.1], \"sizemode\": \"area\", \"sizeref\": 0.01484297520661157, \"symbol\": \"circle\"}, \"mode\": \"markers\", \"name\": \"country=Australia\", \"showlegend\": true, \"type\": \"scatter\", \"x\": [51584.9], \"xaxis\": \"x\", \"y\": [16.1], \"yaxis\": \"y\"}, {\"hoverlabel\": {\"namelength\": 0}, \"hovertemplate\": \"<b>%{hovertext}</b><br><br>country=Germany<br>year=1991<br>gdp=%{x}<br>co2=%{marker.size}\", \"hovertext\": [\"Germany\"], \"ids\": [\"Germany\"], \"legendgroup\": \"country=Germany\", \"marker\": {\"color\": \"#FFA15A\", \"size\": [40.9], \"sizemode\": \"area\", \"sizeref\": 0.01484297520661157, \"symbol\": \"circle\"}, \"mode\": \"markers\", \"name\": \"country=Germany\", \"showlegend\": true, \"type\": \"scatter\", \"x\": [25178.9], \"xaxis\": \"x\", \"y\": [40.9], \"yaxis\": \"y\"}],\n",
       "                        {\"height\": 600, \"legend\": {\"itemsizing\": \"constant\", \"tracegroupgap\": 0}, \"sliders\": [{\"active\": 0, \"currentvalue\": {\"prefix\": \"year=\"}, \"len\": 0.9, \"pad\": {\"b\": 10, \"t\": 60}, \"steps\": [{\"args\": [[\"1991\"], {\"frame\": {\"duration\": 0, \"redraw\": false}, \"fromcurrent\": true, \"mode\": \"immediate\", \"transition\": {\"duration\": 0, \"easing\": \"linear\"}}], \"label\": \"1991\", \"method\": \"animate\"}, {\"args\": [[\"1992\"], {\"frame\": {\"duration\": 0, \"redraw\": false}, \"fromcurrent\": true, \"mode\": \"immediate\", \"transition\": {\"duration\": 0, \"easing\": \"linear\"}}], \"label\": \"1992\", \"method\": \"animate\"}, {\"args\": [[\"1993\"], {\"frame\": {\"duration\": 0, \"redraw\": false}, \"fromcurrent\": true, \"mode\": \"immediate\", \"transition\": {\"duration\": 0, \"easing\": \"linear\"}}], \"label\": \"1993\", \"method\": \"animate\"}, {\"args\": [[\"1994\"], {\"frame\": {\"duration\": 0, \"redraw\": false}, \"fromcurrent\": true, \"mode\": \"immediate\", \"transition\": {\"duration\": 0, \"easing\": \"linear\"}}], \"label\": \"1994\", \"method\": \"animate\"}, {\"args\": [[\"1995\"], {\"frame\": {\"duration\": 0, \"redraw\": false}, \"fromcurrent\": true, \"mode\": \"immediate\", \"transition\": {\"duration\": 0, \"easing\": \"linear\"}}], \"label\": \"1995\", \"method\": \"animate\"}, {\"args\": [[\"1996\"], {\"frame\": {\"duration\": 0, \"redraw\": false}, \"fromcurrent\": true, \"mode\": \"immediate\", \"transition\": {\"duration\": 0, \"easing\": \"linear\"}}], \"label\": \"1996\", \"method\": \"animate\"}, {\"args\": [[\"1997\"], {\"frame\": {\"duration\": 0, \"redraw\": false}, \"fromcurrent\": true, \"mode\": \"immediate\", \"transition\": {\"duration\": 0, \"easing\": \"linear\"}}], \"label\": \"1997\", \"method\": \"animate\"}, {\"args\": [[\"1998\"], {\"frame\": {\"duration\": 0, \"redraw\": false}, \"fromcurrent\": true, \"mode\": \"immediate\", \"transition\": {\"duration\": 0, \"easing\": \"linear\"}}], \"label\": \"1998\", \"method\": \"animate\"}, {\"args\": [[\"1999\"], {\"frame\": {\"duration\": 0, \"redraw\": false}, \"fromcurrent\": true, \"mode\": \"immediate\", \"transition\": {\"duration\": 0, \"easing\": \"linear\"}}], \"label\": \"1999\", \"method\": \"animate\"}, {\"args\": [[\"2000\"], {\"frame\": {\"duration\": 0, \"redraw\": false}, \"fromcurrent\": true, \"mode\": \"immediate\", \"transition\": {\"duration\": 0, \"easing\": \"linear\"}}], \"label\": \"2000\", \"method\": \"animate\"}, {\"args\": [[\"2001\"], {\"frame\": {\"duration\": 0, \"redraw\": false}, \"fromcurrent\": true, \"mode\": \"immediate\", \"transition\": {\"duration\": 0, \"easing\": \"linear\"}}], \"label\": \"2001\", \"method\": \"animate\"}, {\"args\": [[\"2002\"], {\"frame\": {\"duration\": 0, \"redraw\": false}, \"fromcurrent\": true, \"mode\": \"immediate\", \"transition\": {\"duration\": 0, \"easing\": \"linear\"}}], \"label\": \"2002\", \"method\": \"animate\"}, {\"args\": [[\"2003\"], {\"frame\": {\"duration\": 0, \"redraw\": false}, \"fromcurrent\": true, \"mode\": \"immediate\", \"transition\": {\"duration\": 0, \"easing\": \"linear\"}}], \"label\": \"2003\", \"method\": \"animate\"}, {\"args\": [[\"2004\"], {\"frame\": {\"duration\": 0, \"redraw\": false}, \"fromcurrent\": true, \"mode\": \"immediate\", \"transition\": {\"duration\": 0, \"easing\": \"linear\"}}], \"label\": \"2004\", \"method\": \"animate\"}, {\"args\": [[\"2005\"], {\"frame\": {\"duration\": 0, \"redraw\": false}, \"fromcurrent\": true, \"mode\": \"immediate\", \"transition\": {\"duration\": 0, \"easing\": \"linear\"}}], \"label\": \"2005\", \"method\": \"animate\"}, {\"args\": [[\"2006\"], {\"frame\": {\"duration\": 0, \"redraw\": false}, \"fromcurrent\": true, \"mode\": \"immediate\", \"transition\": {\"duration\": 0, \"easing\": \"linear\"}}], \"label\": \"2006\", \"method\": \"animate\"}, {\"args\": [[\"2007\"], {\"frame\": {\"duration\": 0, \"redraw\": false}, \"fromcurrent\": true, \"mode\": \"immediate\", \"transition\": {\"duration\": 0, \"easing\": \"linear\"}}], \"label\": \"2007\", \"method\": \"animate\"}, {\"args\": [[\"2008\"], {\"frame\": {\"duration\": 0, \"redraw\": false}, \"fromcurrent\": true, \"mode\": \"immediate\", \"transition\": {\"duration\": 0, \"easing\": \"linear\"}}], \"label\": \"2008\", \"method\": \"animate\"}, {\"args\": [[\"2009\"], {\"frame\": {\"duration\": 0, \"redraw\": false}, \"fromcurrent\": true, \"mode\": \"immediate\", \"transition\": {\"duration\": 0, \"easing\": \"linear\"}}], \"label\": \"2009\", \"method\": \"animate\"}, {\"args\": [[\"2010\"], {\"frame\": {\"duration\": 0, \"redraw\": false}, \"fromcurrent\": true, \"mode\": \"immediate\", \"transition\": {\"duration\": 0, \"easing\": \"linear\"}}], \"label\": \"2010\", \"method\": \"animate\"}], \"x\": 0.1, \"xanchor\": \"left\", \"y\": 0, \"yanchor\": \"top\"}], \"template\": {\"data\": {\"bar\": [{\"error_x\": {\"color\": \"#2a3f5f\"}, \"error_y\": {\"color\": \"#2a3f5f\"}, \"marker\": {\"line\": {\"color\": \"#E5ECF6\", \"width\": 0.5}}, \"type\": \"bar\"}], \"barpolar\": [{\"marker\": {\"line\": {\"color\": \"#E5ECF6\", \"width\": 0.5}}, \"type\": \"barpolar\"}], \"carpet\": [{\"aaxis\": {\"endlinecolor\": \"#2a3f5f\", \"gridcolor\": \"white\", \"linecolor\": \"white\", \"minorgridcolor\": \"white\", \"startlinecolor\": \"#2a3f5f\"}, \"baxis\": {\"endlinecolor\": \"#2a3f5f\", \"gridcolor\": \"white\", \"linecolor\": \"white\", \"minorgridcolor\": \"white\", \"startlinecolor\": \"#2a3f5f\"}, \"type\": \"carpet\"}], \"choropleth\": [{\"colorbar\": {\"outlinewidth\": 0, \"ticks\": \"\"}, \"type\": \"choropleth\"}], \"contour\": [{\"colorbar\": {\"outlinewidth\": 0, \"ticks\": \"\"}, \"colorscale\": [[0.0, \"#0d0887\"], [0.1111111111111111, \"#46039f\"], [0.2222222222222222, \"#7201a8\"], [0.3333333333333333, \"#9c179e\"], [0.4444444444444444, \"#bd3786\"], [0.5555555555555556, \"#d8576b\"], [0.6666666666666666, \"#ed7953\"], [0.7777777777777778, \"#fb9f3a\"], [0.8888888888888888, \"#fdca26\"], [1.0, \"#f0f921\"]], \"type\": \"contour\"}], \"contourcarpet\": [{\"colorbar\": {\"outlinewidth\": 0, \"ticks\": \"\"}, \"type\": \"contourcarpet\"}], \"heatmap\": [{\"colorbar\": {\"outlinewidth\": 0, \"ticks\": \"\"}, \"colorscale\": [[0.0, \"#0d0887\"], [0.1111111111111111, \"#46039f\"], [0.2222222222222222, \"#7201a8\"], [0.3333333333333333, \"#9c179e\"], [0.4444444444444444, \"#bd3786\"], [0.5555555555555556, \"#d8576b\"], [0.6666666666666666, \"#ed7953\"], [0.7777777777777778, \"#fb9f3a\"], [0.8888888888888888, \"#fdca26\"], [1.0, \"#f0f921\"]], \"type\": \"heatmap\"}], \"heatmapgl\": [{\"colorbar\": {\"outlinewidth\": 0, \"ticks\": \"\"}, \"colorscale\": [[0.0, \"#0d0887\"], [0.1111111111111111, \"#46039f\"], [0.2222222222222222, \"#7201a8\"], [0.3333333333333333, \"#9c179e\"], [0.4444444444444444, \"#bd3786\"], [0.5555555555555556, \"#d8576b\"], [0.6666666666666666, \"#ed7953\"], [0.7777777777777778, \"#fb9f3a\"], [0.8888888888888888, \"#fdca26\"], [1.0, \"#f0f921\"]], \"type\": \"heatmapgl\"}], \"histogram\": [{\"marker\": {\"colorbar\": {\"outlinewidth\": 0, \"ticks\": \"\"}}, \"type\": \"histogram\"}], \"histogram2d\": [{\"colorbar\": {\"outlinewidth\": 0, \"ticks\": \"\"}, \"colorscale\": [[0.0, \"#0d0887\"], [0.1111111111111111, \"#46039f\"], [0.2222222222222222, \"#7201a8\"], [0.3333333333333333, \"#9c179e\"], [0.4444444444444444, \"#bd3786\"], [0.5555555555555556, \"#d8576b\"], [0.6666666666666666, \"#ed7953\"], [0.7777777777777778, \"#fb9f3a\"], [0.8888888888888888, \"#fdca26\"], [1.0, \"#f0f921\"]], \"type\": \"histogram2d\"}], \"histogram2dcontour\": [{\"colorbar\": {\"outlinewidth\": 0, \"ticks\": \"\"}, \"colorscale\": [[0.0, \"#0d0887\"], [0.1111111111111111, \"#46039f\"], [0.2222222222222222, \"#7201a8\"], [0.3333333333333333, \"#9c179e\"], [0.4444444444444444, \"#bd3786\"], [0.5555555555555556, \"#d8576b\"], [0.6666666666666666, \"#ed7953\"], [0.7777777777777778, \"#fb9f3a\"], [0.8888888888888888, \"#fdca26\"], [1.0, \"#f0f921\"]], \"type\": \"histogram2dcontour\"}], \"mesh3d\": [{\"colorbar\": {\"outlinewidth\": 0, \"ticks\": \"\"}, \"type\": \"mesh3d\"}], \"parcoords\": [{\"line\": {\"colorbar\": {\"outlinewidth\": 0, \"ticks\": \"\"}}, \"type\": \"parcoords\"}], \"scatter\": [{\"marker\": {\"colorbar\": {\"outlinewidth\": 0, \"ticks\": \"\"}}, \"type\": \"scatter\"}], \"scatter3d\": [{\"line\": {\"colorbar\": {\"outlinewidth\": 0, \"ticks\": \"\"}}, \"marker\": {\"colorbar\": {\"outlinewidth\": 0, \"ticks\": \"\"}}, \"type\": \"scatter3d\"}], \"scattercarpet\": [{\"marker\": {\"colorbar\": {\"outlinewidth\": 0, \"ticks\": \"\"}}, \"type\": \"scattercarpet\"}], \"scattergeo\": [{\"marker\": {\"colorbar\": {\"outlinewidth\": 0, \"ticks\": \"\"}}, \"type\": \"scattergeo\"}], \"scattergl\": [{\"marker\": {\"colorbar\": {\"outlinewidth\": 0, \"ticks\": \"\"}}, \"type\": \"scattergl\"}], \"scattermapbox\": [{\"marker\": {\"colorbar\": {\"outlinewidth\": 0, \"ticks\": \"\"}}, \"type\": \"scattermapbox\"}], \"scatterpolar\": [{\"marker\": {\"colorbar\": {\"outlinewidth\": 0, \"ticks\": \"\"}}, \"type\": \"scatterpolar\"}], \"scatterpolargl\": [{\"marker\": {\"colorbar\": {\"outlinewidth\": 0, \"ticks\": \"\"}}, \"type\": \"scatterpolargl\"}], \"scatterternary\": [{\"marker\": {\"colorbar\": {\"outlinewidth\": 0, \"ticks\": \"\"}}, \"type\": \"scatterternary\"}], \"surface\": [{\"colorbar\": {\"outlinewidth\": 0, \"ticks\": \"\"}, \"colorscale\": [[0.0, \"#0d0887\"], [0.1111111111111111, \"#46039f\"], [0.2222222222222222, \"#7201a8\"], [0.3333333333333333, \"#9c179e\"], [0.4444444444444444, \"#bd3786\"], [0.5555555555555556, \"#d8576b\"], [0.6666666666666666, \"#ed7953\"], [0.7777777777777778, \"#fb9f3a\"], [0.8888888888888888, \"#fdca26\"], [1.0, \"#f0f921\"]], \"type\": \"surface\"}], \"table\": [{\"cells\": {\"fill\": {\"color\": \"#EBF0F8\"}, \"line\": {\"color\": \"white\"}}, \"header\": {\"fill\": {\"color\": \"#C8D4E3\"}, \"line\": {\"color\": \"white\"}}, \"type\": \"table\"}]}, \"layout\": {\"annotationdefaults\": {\"arrowcolor\": \"#2a3f5f\", \"arrowhead\": 0, \"arrowwidth\": 1}, \"colorscale\": {\"diverging\": [[0, \"#8e0152\"], [0.1, \"#c51b7d\"], [0.2, \"#de77ae\"], [0.3, \"#f1b6da\"], [0.4, \"#fde0ef\"], [0.5, \"#f7f7f7\"], [0.6, \"#e6f5d0\"], [0.7, \"#b8e186\"], [0.8, \"#7fbc41\"], [0.9, \"#4d9221\"], [1, \"#276419\"]], \"sequential\": [[0.0, \"#0d0887\"], [0.1111111111111111, \"#46039f\"], [0.2222222222222222, \"#7201a8\"], [0.3333333333333333, \"#9c179e\"], [0.4444444444444444, \"#bd3786\"], [0.5555555555555556, \"#d8576b\"], [0.6666666666666666, \"#ed7953\"], [0.7777777777777778, \"#fb9f3a\"], [0.8888888888888888, \"#fdca26\"], [1.0, \"#f0f921\"]], \"sequentialminus\": [[0.0, \"#0d0887\"], [0.1111111111111111, \"#46039f\"], [0.2222222222222222, \"#7201a8\"], [0.3333333333333333, \"#9c179e\"], [0.4444444444444444, \"#bd3786\"], [0.5555555555555556, \"#d8576b\"], [0.6666666666666666, \"#ed7953\"], [0.7777777777777778, \"#fb9f3a\"], [0.8888888888888888, \"#fdca26\"], [1.0, \"#f0f921\"]]}, \"colorway\": [\"#636efa\", \"#EF553B\", \"#00cc96\", \"#ab63fa\", \"#FFA15A\", \"#19d3f3\", \"#FF6692\", \"#B6E880\", \"#FF97FF\", \"#FECB52\"], \"font\": {\"color\": \"#2a3f5f\"}, \"geo\": {\"bgcolor\": \"white\", \"lakecolor\": \"white\", \"landcolor\": \"#E5ECF6\", \"showlakes\": true, \"showland\": true, \"subunitcolor\": \"white\"}, \"hoverlabel\": {\"align\": \"left\"}, \"hovermode\": \"closest\", \"mapbox\": {\"style\": \"light\"}, \"paper_bgcolor\": \"white\", \"plot_bgcolor\": \"#E5ECF6\", \"polar\": {\"angularaxis\": {\"gridcolor\": \"white\", \"linecolor\": \"white\", \"ticks\": \"\"}, \"bgcolor\": \"#E5ECF6\", \"radialaxis\": {\"gridcolor\": \"white\", \"linecolor\": \"white\", \"ticks\": \"\"}}, \"scene\": {\"xaxis\": {\"backgroundcolor\": \"#E5ECF6\", \"gridcolor\": \"white\", \"gridwidth\": 2, \"linecolor\": \"white\", \"showbackground\": true, \"ticks\": \"\", \"zerolinecolor\": \"white\"}, \"yaxis\": {\"backgroundcolor\": \"#E5ECF6\", \"gridcolor\": \"white\", \"gridwidth\": 2, \"linecolor\": \"white\", \"showbackground\": true, \"ticks\": \"\", \"zerolinecolor\": \"white\"}, \"zaxis\": {\"backgroundcolor\": \"#E5ECF6\", \"gridcolor\": \"white\", \"gridwidth\": 2, \"linecolor\": \"white\", \"showbackground\": true, \"ticks\": \"\", \"zerolinecolor\": \"white\"}}, \"shapedefaults\": {\"line\": {\"color\": \"#2a3f5f\"}}, \"ternary\": {\"aaxis\": {\"gridcolor\": \"white\", \"linecolor\": \"white\", \"ticks\": \"\"}, \"baxis\": {\"gridcolor\": \"white\", \"linecolor\": \"white\", \"ticks\": \"\"}, \"bgcolor\": \"#E5ECF6\", \"caxis\": {\"gridcolor\": \"white\", \"linecolor\": \"white\", \"ticks\": \"\"}}, \"title\": {\"x\": 0.05}, \"xaxis\": {\"automargin\": true, \"gridcolor\": \"white\", \"linecolor\": \"white\", \"ticks\": \"\", \"zerolinecolor\": \"white\", \"zerolinewidth\": 2}, \"yaxis\": {\"automargin\": true, \"gridcolor\": \"white\", \"linecolor\": \"white\", \"ticks\": \"\", \"zerolinecolor\": \"white\", \"zerolinewidth\": 2}}}, \"title\": {\"text\": \"Time Series Plot Test\"}, \"updatemenus\": [{\"buttons\": [{\"args\": [null, {\"frame\": {\"duration\": 500, \"redraw\": false}, \"fromcurrent\": true, \"mode\": \"immediate\", \"transition\": {\"duration\": 500, \"easing\": \"linear\"}}], \"label\": \"&#9654;\", \"method\": \"animate\"}, {\"args\": [[null], {\"frame\": {\"duration\": 0, \"redraw\": false}, \"fromcurrent\": true, \"mode\": \"immediate\", \"transition\": {\"duration\": 0, \"easing\": \"linear\"}}], \"label\": \"&#9724;\", \"method\": \"animate\"}], \"direction\": \"left\", \"pad\": {\"r\": 10, \"t\": 70}, \"showactive\": false, \"type\": \"buttons\", \"x\": 0.1, \"xanchor\": \"right\", \"y\": 0, \"yanchor\": \"top\"}], \"xaxis\": {\"anchor\": \"y\", \"domain\": [0.0, 0.98], \"range\": [2.0, 5.301029995663981], \"title\": {\"text\": \"GDP per Capita\"}, \"type\": \"log\"}, \"yaxis\": {\"anchor\": \"x\", \"domain\": [0.0, 1.0], \"range\": [-10, 60], \"title\": {\"text\": \"CO2 emissions per capita\"}}},\n",
       "                        {\"responsive\": true}\n",
       "                    ).then(function(){\n",
       "                            Plotly.addFrames('1fc2d3a3-269a-43a4-9018-26bca9bd7df7', [{\"data\": [{\"hoverlabel\": {\"namelength\": 0}, \"hovertemplate\": \"<b>%{hovertext}</b><br><br>country=USA<br>year=1991<br>gdp=%{x}<br>co2=%{marker.size}\", \"hovertext\": [\"USA\"], \"ids\": [\"USA\"], \"legendgroup\": \"country=USA\", \"marker\": {\"color\": \"#636efa\", \"size\": [14.7], \"sizemode\": \"area\", \"sizeref\": 0.01484297520661157, \"symbol\": \"circle\"}, \"mode\": \"markers\", \"name\": \"country=USA\", \"showlegend\": true, \"x\": [71051.1], \"xaxis\": \"x\", \"y\": [14.7], \"yaxis\": \"y\", \"type\": \"scatter\"}, {\"hoverlabel\": {\"namelength\": 0}, \"hovertemplate\": \"<b>%{hovertext}</b><br><br>country=China<br>year=1991<br>gdp=%{x}<br>co2=%{marker.size}\", \"hovertext\": [\"China\"], \"ids\": [\"China\"], \"legendgroup\": \"country=China\", \"marker\": {\"color\": \"#EF553B\", \"size\": [23.7], \"sizemode\": \"area\", \"sizeref\": 0.01484297520661157, \"symbol\": \"circle\"}, \"mode\": \"markers\", \"name\": \"country=China\", \"showlegend\": true, \"x\": [122530.7], \"xaxis\": \"x\", \"y\": [23.7], \"yaxis\": \"y\", \"type\": \"scatter\"}, {\"hoverlabel\": {\"namelength\": 0}, \"hovertemplate\": \"<b>%{hovertext}</b><br><br>country=Japan<br>year=1991<br>gdp=%{x}<br>co2=%{marker.size}\", \"hovertext\": [\"Japan\"], \"ids\": [\"Japan\"], \"legendgroup\": \"country=Japan\", \"marker\": {\"color\": \"#00cc96\", \"size\": [39.9], \"sizemode\": \"area\", \"sizeref\": 0.01484297520661157, \"symbol\": \"circle\"}, \"mode\": \"markers\", \"name\": \"country=Japan\", \"showlegend\": true, \"x\": [289.4], \"xaxis\": \"x\", \"y\": [39.9], \"yaxis\": \"y\", \"type\": \"scatter\"}, {\"hoverlabel\": {\"namelength\": 0}, \"hovertemplate\": \"<b>%{hovertext}</b><br><br>country=Australia<br>year=1991<br>gdp=%{x}<br>co2=%{marker.size}\", \"hovertext\": [\"Australia\"], \"ids\": [\"Australia\"], \"legendgroup\": \"country=Australia\", \"marker\": {\"color\": \"#ab63fa\", \"size\": [16.1], \"sizemode\": \"area\", \"sizeref\": 0.01484297520661157, \"symbol\": \"circle\"}, \"mode\": \"markers\", \"name\": \"country=Australia\", \"showlegend\": true, \"x\": [51584.9], \"xaxis\": \"x\", \"y\": [16.1], \"yaxis\": \"y\", \"type\": \"scatter\"}, {\"hoverlabel\": {\"namelength\": 0}, \"hovertemplate\": \"<b>%{hovertext}</b><br><br>country=Germany<br>year=1991<br>gdp=%{x}<br>co2=%{marker.size}\", \"hovertext\": [\"Germany\"], \"ids\": [\"Germany\"], \"legendgroup\": \"country=Germany\", \"marker\": {\"color\": \"#FFA15A\", \"size\": [40.9], \"sizemode\": \"area\", \"sizeref\": 0.01484297520661157, \"symbol\": \"circle\"}, \"mode\": \"markers\", \"name\": \"country=Germany\", \"showlegend\": true, \"x\": [25178.9], \"xaxis\": \"x\", \"y\": [40.9], \"yaxis\": \"y\", \"type\": \"scatter\"}], \"name\": \"1991\"}, {\"data\": [{\"hoverlabel\": {\"namelength\": 0}, \"hovertemplate\": \"<b>%{hovertext}</b><br><br>country=USA<br>year=1992<br>gdp=%{x}<br>co2=%{marker.size}\", \"hovertext\": [\"USA\"], \"ids\": [\"USA\"], \"legendgroup\": \"country=USA\", \"marker\": {\"color\": \"#636efa\", \"size\": [28.1], \"sizemode\": \"area\", \"sizeref\": 0.01484297520661157, \"symbol\": \"circle\"}, \"mode\": \"markers\", \"name\": \"country=USA\", \"showlegend\": true, \"x\": [15942.6], \"xaxis\": \"x\", \"y\": [28.1], \"yaxis\": \"y\", \"type\": \"scatter\"}, {\"hoverlabel\": {\"namelength\": 0}, \"hovertemplate\": \"<b>%{hovertext}</b><br><br>country=China<br>year=1992<br>gdp=%{x}<br>co2=%{marker.size}\", \"hovertext\": [\"China\"], \"ids\": [\"China\"], \"legendgroup\": \"country=China\", \"marker\": {\"color\": \"#EF553B\", \"size\": [0.7], \"sizemode\": \"area\", \"sizeref\": 0.01484297520661157, \"symbol\": \"circle\"}, \"mode\": \"markers\", \"name\": \"country=China\", \"showlegend\": true, \"x\": [31883.9], \"xaxis\": \"x\", \"y\": [0.7], \"yaxis\": \"y\", \"type\": \"scatter\"}, {\"hoverlabel\": {\"namelength\": 0}, \"hovertemplate\": \"<b>%{hovertext}</b><br><br>country=Japan<br>year=1992<br>gdp=%{x}<br>co2=%{marker.size}\", \"hovertext\": [\"Japan\"], \"ids\": [\"Japan\"], \"legendgroup\": \"country=Japan\", \"marker\": {\"color\": \"#00cc96\", \"size\": [41.8], \"sizemode\": \"area\", \"sizeref\": 0.01484297520661157, \"symbol\": \"circle\"}, \"mode\": \"markers\", \"name\": \"country=Japan\", \"showlegend\": true, \"x\": [58922.0], \"xaxis\": \"x\", \"y\": [41.8], \"yaxis\": \"y\", \"type\": \"scatter\"}, {\"hoverlabel\": {\"namelength\": 0}, \"hovertemplate\": \"<b>%{hovertext}</b><br><br>country=Australia<br>year=1992<br>gdp=%{x}<br>co2=%{marker.size}\", \"hovertext\": [\"Australia\"], \"ids\": [\"Australia\"], \"legendgroup\": \"country=Australia\", \"marker\": {\"color\": \"#ab63fa\", \"size\": [31.1], \"sizemode\": \"area\", \"sizeref\": 0.01484297520661157, \"symbol\": \"circle\"}, \"mode\": \"markers\", \"name\": \"country=Australia\", \"showlegend\": true, \"x\": [67613.3], \"xaxis\": \"x\", \"y\": [31.1], \"yaxis\": \"y\", \"type\": \"scatter\"}, {\"hoverlabel\": {\"namelength\": 0}, \"hovertemplate\": \"<b>%{hovertext}</b><br><br>country=Germany<br>year=1992<br>gdp=%{x}<br>co2=%{marker.size}\", \"hovertext\": [\"Germany\"], \"ids\": [\"Germany\"], \"legendgroup\": \"country=Germany\", \"marker\": {\"color\": \"#FFA15A\", \"size\": [44.9], \"sizemode\": \"area\", \"sizeref\": 0.01484297520661157, \"symbol\": \"circle\"}, \"mode\": \"markers\", \"name\": \"country=Germany\", \"showlegend\": true, \"x\": [91723.4], \"xaxis\": \"x\", \"y\": [44.9], \"yaxis\": \"y\", \"type\": \"scatter\"}], \"name\": \"1992\"}, {\"data\": [{\"hoverlabel\": {\"namelength\": 0}, \"hovertemplate\": \"<b>%{hovertext}</b><br><br>country=USA<br>year=1993<br>gdp=%{x}<br>co2=%{marker.size}\", \"hovertext\": [\"USA\"], \"ids\": [\"USA\"], \"legendgroup\": \"country=USA\", \"marker\": {\"color\": \"#636efa\", \"size\": [7.8], \"sizemode\": \"area\", \"sizeref\": 0.01484297520661157, \"symbol\": \"circle\"}, \"mode\": \"markers\", \"name\": \"country=USA\", \"showlegend\": true, \"x\": [71419.9], \"xaxis\": \"x\", \"y\": [7.8], \"yaxis\": \"y\", \"type\": \"scatter\"}, {\"hoverlabel\": {\"namelength\": 0}, \"hovertemplate\": \"<b>%{hovertext}</b><br><br>country=China<br>year=1993<br>gdp=%{x}<br>co2=%{marker.size}\", \"hovertext\": [\"China\"], \"ids\": [\"China\"], \"legendgroup\": \"country=China\", \"marker\": {\"color\": \"#EF553B\", \"size\": [6.2], \"sizemode\": \"area\", \"sizeref\": 0.01484297520661157, \"symbol\": \"circle\"}, \"mode\": \"markers\", \"name\": \"country=China\", \"showlegend\": true, \"x\": [116572.3], \"xaxis\": \"x\", \"y\": [6.2], \"yaxis\": \"y\", \"type\": \"scatter\"}, {\"hoverlabel\": {\"namelength\": 0}, \"hovertemplate\": \"<b>%{hovertext}</b><br><br>country=Japan<br>year=1993<br>gdp=%{x}<br>co2=%{marker.size}\", \"hovertext\": [\"Japan\"], \"ids\": [\"Japan\"], \"legendgroup\": \"country=Japan\", \"marker\": {\"color\": \"#00cc96\", \"size\": [42.0], \"sizemode\": \"area\", \"sizeref\": 0.01484297520661157, \"symbol\": \"circle\"}, \"mode\": \"markers\", \"name\": \"country=Japan\", \"showlegend\": true, \"x\": [34971.7], \"xaxis\": \"x\", \"y\": [42.0], \"yaxis\": \"y\", \"type\": \"scatter\"}, {\"hoverlabel\": {\"namelength\": 0}, \"hovertemplate\": \"<b>%{hovertext}</b><br><br>country=Australia<br>year=1993<br>gdp=%{x}<br>co2=%{marker.size}\", \"hovertext\": [\"Australia\"], \"ids\": [\"Australia\"], \"legendgroup\": \"country=Australia\", \"marker\": {\"color\": \"#ab63fa\", \"size\": [31.4], \"sizemode\": \"area\", \"sizeref\": 0.01484297520661157, \"symbol\": \"circle\"}, \"mode\": \"markers\", \"name\": \"country=Australia\", \"showlegend\": true, \"x\": [149312.9], \"xaxis\": \"x\", \"y\": [31.4], \"yaxis\": \"y\", \"type\": \"scatter\"}, {\"hoverlabel\": {\"namelength\": 0}, \"hovertemplate\": \"<b>%{hovertext}</b><br><br>country=Germany<br>year=1993<br>gdp=%{x}<br>co2=%{marker.size}\", \"hovertext\": [\"Germany\"], \"ids\": [\"Germany\"], \"legendgroup\": \"country=Germany\", \"marker\": {\"color\": \"#FFA15A\", \"size\": [3.0], \"sizemode\": \"area\", \"sizeref\": 0.01484297520661157, \"symbol\": \"circle\"}, \"mode\": \"markers\", \"name\": \"country=Germany\", \"showlegend\": true, \"x\": [4918.5], \"xaxis\": \"x\", \"y\": [3.0], \"yaxis\": \"y\", \"type\": \"scatter\"}], \"name\": \"1993\"}, {\"data\": [{\"hoverlabel\": {\"namelength\": 0}, \"hovertemplate\": \"<b>%{hovertext}</b><br><br>country=USA<br>year=1994<br>gdp=%{x}<br>co2=%{marker.size}\", \"hovertext\": [\"USA\"], \"ids\": [\"USA\"], \"legendgroup\": \"country=USA\", \"marker\": {\"color\": \"#636efa\", \"size\": [34.0], \"sizemode\": \"area\", \"sizeref\": 0.01484297520661157, \"symbol\": \"circle\"}, \"mode\": \"markers\", \"name\": \"country=USA\", \"showlegend\": true, \"x\": [114068.5], \"xaxis\": \"x\", \"y\": [34.0], \"yaxis\": \"y\", \"type\": \"scatter\"}, {\"hoverlabel\": {\"namelength\": 0}, \"hovertemplate\": \"<b>%{hovertext}</b><br><br>country=China<br>year=1994<br>gdp=%{x}<br>co2=%{marker.size}\", \"hovertext\": [\"China\"], \"ids\": [\"China\"], \"legendgroup\": \"country=China\", \"marker\": {\"color\": \"#EF553B\", \"size\": [33.9], \"sizemode\": \"area\", \"sizeref\": 0.01484297520661157, \"symbol\": \"circle\"}, \"mode\": \"markers\", \"name\": \"country=China\", \"showlegend\": true, \"x\": [71099.1], \"xaxis\": \"x\", \"y\": [33.9], \"yaxis\": \"y\", \"type\": \"scatter\"}, {\"hoverlabel\": {\"namelength\": 0}, \"hovertemplate\": \"<b>%{hovertext}</b><br><br>country=Japan<br>year=1994<br>gdp=%{x}<br>co2=%{marker.size}\", \"hovertext\": [\"Japan\"], \"ids\": [\"Japan\"], \"legendgroup\": \"country=Japan\", \"marker\": {\"color\": \"#00cc96\", \"size\": [41.5], \"sizemode\": \"area\", \"sizeref\": 0.01484297520661157, \"symbol\": \"circle\"}, \"mode\": \"markers\", \"name\": \"country=Japan\", \"showlegend\": true, \"x\": [95096.4], \"xaxis\": \"x\", \"y\": [41.5], \"yaxis\": \"y\", \"type\": \"scatter\"}, {\"hoverlabel\": {\"namelength\": 0}, \"hovertemplate\": \"<b>%{hovertext}</b><br><br>country=Australia<br>year=1994<br>gdp=%{x}<br>co2=%{marker.size}\", \"hovertext\": [\"Australia\"], \"ids\": [\"Australia\"], \"legendgroup\": \"country=Australia\", \"marker\": {\"color\": \"#ab63fa\", \"size\": [32.0], \"sizemode\": \"area\", \"sizeref\": 0.01484297520661157, \"symbol\": \"circle\"}, \"mode\": \"markers\", \"name\": \"country=Australia\", \"showlegend\": true, \"x\": [24097.9], \"xaxis\": \"x\", \"y\": [32.0], \"yaxis\": \"y\", \"type\": \"scatter\"}, {\"hoverlabel\": {\"namelength\": 0}, \"hovertemplate\": \"<b>%{hovertext}</b><br><br>country=Germany<br>year=1994<br>gdp=%{x}<br>co2=%{marker.size}\", \"hovertext\": [\"Germany\"], \"ids\": [\"Germany\"], \"legendgroup\": \"country=Germany\", \"marker\": {\"color\": \"#FFA15A\", \"size\": [5.6], \"sizemode\": \"area\", \"sizeref\": 0.01484297520661157, \"symbol\": \"circle\"}, \"mode\": \"markers\", \"name\": \"country=Germany\", \"showlegend\": true, \"x\": [33893.8], \"xaxis\": \"x\", \"y\": [5.6], \"yaxis\": \"y\", \"type\": \"scatter\"}], \"name\": \"1994\"}, {\"data\": [{\"hoverlabel\": {\"namelength\": 0}, \"hovertemplate\": \"<b>%{hovertext}</b><br><br>country=USA<br>year=1995<br>gdp=%{x}<br>co2=%{marker.size}\", \"hovertext\": [\"USA\"], \"ids\": [\"USA\"], \"legendgroup\": \"country=USA\", \"marker\": {\"color\": \"#636efa\", \"size\": [0.9], \"sizemode\": \"area\", \"sizeref\": 0.01484297520661157, \"symbol\": \"circle\"}, \"mode\": \"markers\", \"name\": \"country=USA\", \"showlegend\": true, \"x\": [136180.4], \"xaxis\": \"x\", \"y\": [0.9], \"yaxis\": \"y\", \"type\": \"scatter\"}, {\"hoverlabel\": {\"namelength\": 0}, \"hovertemplate\": \"<b>%{hovertext}</b><br><br>country=China<br>year=1995<br>gdp=%{x}<br>co2=%{marker.size}\", \"hovertext\": [\"China\"], \"ids\": [\"China\"], \"legendgroup\": \"country=China\", \"marker\": {\"color\": \"#EF553B\", \"size\": [1.2], \"sizemode\": \"area\", \"sizeref\": 0.01484297520661157, \"symbol\": \"circle\"}, \"mode\": \"markers\", \"name\": \"country=China\", \"showlegend\": true, \"x\": [164613.0], \"xaxis\": \"x\", \"y\": [1.2], \"yaxis\": \"y\", \"type\": \"scatter\"}, {\"hoverlabel\": {\"namelength\": 0}, \"hovertemplate\": \"<b>%{hovertext}</b><br><br>country=Japan<br>year=1995<br>gdp=%{x}<br>co2=%{marker.size}\", \"hovertext\": [\"Japan\"], \"ids\": [\"Japan\"], \"legendgroup\": \"country=Japan\", \"marker\": {\"color\": \"#00cc96\", \"size\": [1.3], \"sizemode\": \"area\", \"sizeref\": 0.01484297520661157, \"symbol\": \"circle\"}, \"mode\": \"markers\", \"name\": \"country=Japan\", \"showlegend\": true, \"x\": [53467.5], \"xaxis\": \"x\", \"y\": [1.3], \"yaxis\": \"y\", \"type\": \"scatter\"}, {\"hoverlabel\": {\"namelength\": 0}, \"hovertemplate\": \"<b>%{hovertext}</b><br><br>country=Australia<br>year=1995<br>gdp=%{x}<br>co2=%{marker.size}\", \"hovertext\": [\"Australia\"], \"ids\": [\"Australia\"], \"legendgroup\": \"country=Australia\", \"marker\": {\"color\": \"#ab63fa\", \"size\": [11.1], \"sizemode\": \"area\", \"sizeref\": 0.01484297520661157, \"symbol\": \"circle\"}, \"mode\": \"markers\", \"name\": \"country=Australia\", \"showlegend\": true, \"x\": [117777.9], \"xaxis\": \"x\", \"y\": [11.1], \"yaxis\": \"y\", \"type\": \"scatter\"}, {\"hoverlabel\": {\"namelength\": 0}, \"hovertemplate\": \"<b>%{hovertext}</b><br><br>country=Germany<br>year=1995<br>gdp=%{x}<br>co2=%{marker.size}\", \"hovertext\": [\"Germany\"], \"ids\": [\"Germany\"], \"legendgroup\": \"country=Germany\", \"marker\": {\"color\": \"#FFA15A\", \"size\": [38.7], \"sizemode\": \"area\", \"sizeref\": 0.01484297520661157, \"symbol\": \"circle\"}, \"mode\": \"markers\", \"name\": \"country=Germany\", \"showlegend\": true, \"x\": [149019.5], \"xaxis\": \"x\", \"y\": [38.7], \"yaxis\": \"y\", \"type\": \"scatter\"}], \"name\": \"1995\"}, {\"data\": [{\"hoverlabel\": {\"namelength\": 0}, \"hovertemplate\": \"<b>%{hovertext}</b><br><br>country=USA<br>year=1996<br>gdp=%{x}<br>co2=%{marker.size}\", \"hovertext\": [\"USA\"], \"ids\": [\"USA\"], \"legendgroup\": \"country=USA\", \"marker\": {\"color\": \"#636efa\", \"size\": [24.2], \"sizemode\": \"area\", \"sizeref\": 0.01484297520661157, \"symbol\": \"circle\"}, \"mode\": \"markers\", \"name\": \"country=USA\", \"showlegend\": true, \"x\": [152111.6], \"xaxis\": \"x\", \"y\": [24.2], \"yaxis\": \"y\", \"type\": \"scatter\"}, {\"hoverlabel\": {\"namelength\": 0}, \"hovertemplate\": \"<b>%{hovertext}</b><br><br>country=China<br>year=1996<br>gdp=%{x}<br>co2=%{marker.size}\", \"hovertext\": [\"China\"], \"ids\": [\"China\"], \"legendgroup\": \"country=China\", \"marker\": {\"color\": \"#EF553B\", \"size\": [24.9], \"sizemode\": \"area\", \"sizeref\": 0.01484297520661157, \"symbol\": \"circle\"}, \"mode\": \"markers\", \"name\": \"country=China\", \"showlegend\": true, \"x\": [14704.6], \"xaxis\": \"x\", \"y\": [24.9], \"yaxis\": \"y\", \"type\": \"scatter\"}, {\"hoverlabel\": {\"namelength\": 0}, \"hovertemplate\": \"<b>%{hovertext}</b><br><br>country=Japan<br>year=1996<br>gdp=%{x}<br>co2=%{marker.size}\", \"hovertext\": [\"Japan\"], \"ids\": [\"Japan\"], \"legendgroup\": \"country=Japan\", \"marker\": {\"color\": \"#00cc96\", \"size\": [37.9], \"sizemode\": \"area\", \"sizeref\": 0.01484297520661157, \"symbol\": \"circle\"}, \"mode\": \"markers\", \"name\": \"country=Japan\", \"showlegend\": true, \"x\": [6898.8], \"xaxis\": \"x\", \"y\": [37.9], \"yaxis\": \"y\", \"type\": \"scatter\"}, {\"hoverlabel\": {\"namelength\": 0}, \"hovertemplate\": \"<b>%{hovertext}</b><br><br>country=Australia<br>year=1996<br>gdp=%{x}<br>co2=%{marker.size}\", \"hovertext\": [\"Australia\"], \"ids\": [\"Australia\"], \"legendgroup\": \"country=Australia\", \"marker\": {\"color\": \"#ab63fa\", \"size\": [5.6], \"sizemode\": \"area\", \"sizeref\": 0.01484297520661157, \"symbol\": \"circle\"}, \"mode\": \"markers\", \"name\": \"country=Australia\", \"showlegend\": true, \"x\": [29095.3], \"xaxis\": \"x\", \"y\": [5.6], \"yaxis\": \"y\", \"type\": \"scatter\"}, {\"hoverlabel\": {\"namelength\": 0}, \"hovertemplate\": \"<b>%{hovertext}</b><br><br>country=Germany<br>year=1996<br>gdp=%{x}<br>co2=%{marker.size}\", \"hovertext\": [\"Germany\"], \"ids\": [\"Germany\"], \"legendgroup\": \"country=Germany\", \"marker\": {\"color\": \"#FFA15A\", \"size\": [12.6], \"sizemode\": \"area\", \"sizeref\": 0.01484297520661157, \"symbol\": \"circle\"}, \"mode\": \"markers\", \"name\": \"country=Germany\", \"showlegend\": true, \"x\": [149317.1], \"xaxis\": \"x\", \"y\": [12.6], \"yaxis\": \"y\", \"type\": \"scatter\"}], \"name\": \"1996\"}, {\"data\": [{\"hoverlabel\": {\"namelength\": 0}, \"hovertemplate\": \"<b>%{hovertext}</b><br><br>country=USA<br>year=1997<br>gdp=%{x}<br>co2=%{marker.size}\", \"hovertext\": [\"USA\"], \"ids\": [\"USA\"], \"legendgroup\": \"country=USA\", \"marker\": {\"color\": \"#636efa\", \"size\": [26.4], \"sizemode\": \"area\", \"sizeref\": 0.01484297520661157, \"symbol\": \"circle\"}, \"mode\": \"markers\", \"name\": \"country=USA\", \"showlegend\": true, \"x\": [16962.4], \"xaxis\": \"x\", \"y\": [26.4], \"yaxis\": \"y\", \"type\": \"scatter\"}, {\"hoverlabel\": {\"namelength\": 0}, \"hovertemplate\": \"<b>%{hovertext}</b><br><br>country=China<br>year=1997<br>gdp=%{x}<br>co2=%{marker.size}\", \"hovertext\": [\"China\"], \"ids\": [\"China\"], \"legendgroup\": \"country=China\", \"marker\": {\"color\": \"#EF553B\", \"size\": [43.6], \"sizemode\": \"area\", \"sizeref\": 0.01484297520661157, \"symbol\": \"circle\"}, \"mode\": \"markers\", \"name\": \"country=China\", \"showlegend\": true, \"x\": [71744.6], \"xaxis\": \"x\", \"y\": [43.6], \"yaxis\": \"y\", \"type\": \"scatter\"}, {\"hoverlabel\": {\"namelength\": 0}, \"hovertemplate\": \"<b>%{hovertext}</b><br><br>country=Japan<br>year=1997<br>gdp=%{x}<br>co2=%{marker.size}\", \"hovertext\": [\"Japan\"], \"ids\": [\"Japan\"], \"legendgroup\": \"country=Japan\", \"marker\": {\"color\": \"#00cc96\", \"size\": [25.2], \"sizemode\": \"area\", \"sizeref\": 0.01484297520661157, \"symbol\": \"circle\"}, \"mode\": \"markers\", \"name\": \"country=Japan\", \"showlegend\": true, \"x\": [162852.6], \"xaxis\": \"x\", \"y\": [25.2], \"yaxis\": \"y\", \"type\": \"scatter\"}, {\"hoverlabel\": {\"namelength\": 0}, \"hovertemplate\": \"<b>%{hovertext}</b><br><br>country=Australia<br>year=1997<br>gdp=%{x}<br>co2=%{marker.size}\", \"hovertext\": [\"Australia\"], \"ids\": [\"Australia\"], \"legendgroup\": \"country=Australia\", \"marker\": {\"color\": \"#ab63fa\", \"size\": [0.8], \"sizemode\": \"area\", \"sizeref\": 0.01484297520661157, \"symbol\": \"circle\"}, \"mode\": \"markers\", \"name\": \"country=Australia\", \"showlegend\": true, \"x\": [90764.1], \"xaxis\": \"x\", \"y\": [0.8], \"yaxis\": \"y\", \"type\": \"scatter\"}, {\"hoverlabel\": {\"namelength\": 0}, \"hovertemplate\": \"<b>%{hovertext}</b><br><br>country=Germany<br>year=1997<br>gdp=%{x}<br>co2=%{marker.size}\", \"hovertext\": [\"Germany\"], \"ids\": [\"Germany\"], \"legendgroup\": \"country=Germany\", \"marker\": {\"color\": \"#FFA15A\", \"size\": [36.0], \"sizemode\": \"area\", \"sizeref\": 0.01484297520661157, \"symbol\": \"circle\"}, \"mode\": \"markers\", \"name\": \"country=Germany\", \"showlegend\": true, \"x\": [117702.3], \"xaxis\": \"x\", \"y\": [36.0], \"yaxis\": \"y\", \"type\": \"scatter\"}], \"name\": \"1997\"}, {\"data\": [{\"hoverlabel\": {\"namelength\": 0}, \"hovertemplate\": \"<b>%{hovertext}</b><br><br>country=USA<br>year=1998<br>gdp=%{x}<br>co2=%{marker.size}\", \"hovertext\": [\"USA\"], \"ids\": [\"USA\"], \"legendgroup\": \"country=USA\", \"marker\": {\"color\": \"#636efa\", \"size\": [10.5], \"sizemode\": \"area\", \"sizeref\": 0.01484297520661157, \"symbol\": \"circle\"}, \"mode\": \"markers\", \"name\": \"country=USA\", \"showlegend\": true, \"x\": [53822.5], \"xaxis\": \"x\", \"y\": [10.5], \"yaxis\": \"y\", \"type\": \"scatter\"}, {\"hoverlabel\": {\"namelength\": 0}, \"hovertemplate\": \"<b>%{hovertext}</b><br><br>country=China<br>year=1998<br>gdp=%{x}<br>co2=%{marker.size}\", \"hovertext\": [\"China\"], \"ids\": [\"China\"], \"legendgroup\": \"country=China\", \"marker\": {\"color\": \"#EF553B\", \"size\": [36.3], \"sizemode\": \"area\", \"sizeref\": 0.01484297520661157, \"symbol\": \"circle\"}, \"mode\": \"markers\", \"name\": \"country=China\", \"showlegend\": true, \"x\": [116789.8], \"xaxis\": \"x\", \"y\": [36.3], \"yaxis\": \"y\", \"type\": \"scatter\"}, {\"hoverlabel\": {\"namelength\": 0}, \"hovertemplate\": \"<b>%{hovertext}</b><br><br>country=Japan<br>year=1998<br>gdp=%{x}<br>co2=%{marker.size}\", \"hovertext\": [\"Japan\"], \"ids\": [\"Japan\"], \"legendgroup\": \"country=Japan\", \"marker\": {\"color\": \"#00cc96\", \"size\": [17.5], \"sizemode\": \"area\", \"sizeref\": 0.01484297520661157, \"symbol\": \"circle\"}, \"mode\": \"markers\", \"name\": \"country=Japan\", \"showlegend\": true, \"x\": [141931.0], \"xaxis\": \"x\", \"y\": [17.5], \"yaxis\": \"y\", \"type\": \"scatter\"}, {\"hoverlabel\": {\"namelength\": 0}, \"hovertemplate\": \"<b>%{hovertext}</b><br><br>country=Australia<br>year=1998<br>gdp=%{x}<br>co2=%{marker.size}\", \"hovertext\": [\"Australia\"], \"ids\": [\"Australia\"], \"legendgroup\": \"country=Australia\", \"marker\": {\"color\": \"#ab63fa\", \"size\": [38.9], \"sizemode\": \"area\", \"sizeref\": 0.01484297520661157, \"symbol\": \"circle\"}, \"mode\": \"markers\", \"name\": \"country=Australia\", \"showlegend\": true, \"x\": [3374.1], \"xaxis\": \"x\", \"y\": [38.9], \"yaxis\": \"y\", \"type\": \"scatter\"}, {\"hoverlabel\": {\"namelength\": 0}, \"hovertemplate\": \"<b>%{hovertext}</b><br><br>country=Germany<br>year=1998<br>gdp=%{x}<br>co2=%{marker.size}\", \"hovertext\": [\"Germany\"], \"ids\": [\"Germany\"], \"legendgroup\": \"country=Germany\", \"marker\": {\"color\": \"#FFA15A\", \"size\": [33.6], \"sizemode\": \"area\", \"sizeref\": 0.01484297520661157, \"symbol\": \"circle\"}, \"mode\": \"markers\", \"name\": \"country=Germany\", \"showlegend\": true, \"x\": [127592.0], \"xaxis\": \"x\", \"y\": [33.6], \"yaxis\": \"y\", \"type\": \"scatter\"}], \"name\": \"1998\"}, {\"data\": [{\"hoverlabel\": {\"namelength\": 0}, \"hovertemplate\": \"<b>%{hovertext}</b><br><br>country=USA<br>year=1999<br>gdp=%{x}<br>co2=%{marker.size}\", \"hovertext\": [\"USA\"], \"ids\": [\"USA\"], \"legendgroup\": \"country=USA\", \"marker\": {\"color\": \"#636efa\", \"size\": [25.0], \"sizemode\": \"area\", \"sizeref\": 0.01484297520661157, \"symbol\": \"circle\"}, \"mode\": \"markers\", \"name\": \"country=USA\", \"showlegend\": true, \"x\": [168109.4], \"xaxis\": \"x\", \"y\": [25.0], \"yaxis\": \"y\", \"type\": \"scatter\"}, {\"hoverlabel\": {\"namelength\": 0}, \"hovertemplate\": \"<b>%{hovertext}</b><br><br>country=China<br>year=1999<br>gdp=%{x}<br>co2=%{marker.size}\", \"hovertext\": [\"China\"], \"ids\": [\"China\"], \"legendgroup\": \"country=China\", \"marker\": {\"color\": \"#EF553B\", \"size\": [6.1], \"sizemode\": \"area\", \"sizeref\": 0.01484297520661157, \"symbol\": \"circle\"}, \"mode\": \"markers\", \"name\": \"country=China\", \"showlegend\": true, \"x\": [127256.2], \"xaxis\": \"x\", \"y\": [6.1], \"yaxis\": \"y\", \"type\": \"scatter\"}, {\"hoverlabel\": {\"namelength\": 0}, \"hovertemplate\": \"<b>%{hovertext}</b><br><br>country=Japan<br>year=1999<br>gdp=%{x}<br>co2=%{marker.size}\", \"hovertext\": [\"Japan\"], \"ids\": [\"Japan\"], \"legendgroup\": \"country=Japan\", \"marker\": {\"color\": \"#00cc96\", \"size\": [2.7], \"sizemode\": \"area\", \"sizeref\": 0.01484297520661157, \"symbol\": \"circle\"}, \"mode\": \"markers\", \"name\": \"country=Japan\", \"showlegend\": true, \"x\": [47869.8], \"xaxis\": \"x\", \"y\": [2.7], \"yaxis\": \"y\", \"type\": \"scatter\"}, {\"hoverlabel\": {\"namelength\": 0}, \"hovertemplate\": \"<b>%{hovertext}</b><br><br>country=Australia<br>year=1999<br>gdp=%{x}<br>co2=%{marker.size}\", \"hovertext\": [\"Australia\"], \"ids\": [\"Australia\"], \"legendgroup\": \"country=Australia\", \"marker\": {\"color\": \"#ab63fa\", \"size\": [5.5], \"sizemode\": \"area\", \"sizeref\": 0.01484297520661157, \"symbol\": \"circle\"}, \"mode\": \"markers\", \"name\": \"country=Australia\", \"showlegend\": true, \"x\": [134234.4], \"xaxis\": \"x\", \"y\": [5.5], \"yaxis\": \"y\", \"type\": \"scatter\"}, {\"hoverlabel\": {\"namelength\": 0}, \"hovertemplate\": \"<b>%{hovertext}</b><br><br>country=Germany<br>year=1999<br>gdp=%{x}<br>co2=%{marker.size}\", \"hovertext\": [\"Germany\"], \"ids\": [\"Germany\"], \"legendgroup\": \"country=Germany\", \"marker\": {\"color\": \"#FFA15A\", \"size\": [2.0], \"sizemode\": \"area\", \"sizeref\": 0.01484297520661157, \"symbol\": \"circle\"}, \"mode\": \"markers\", \"name\": \"country=Germany\", \"showlegend\": true, \"x\": [17790.6], \"xaxis\": \"x\", \"y\": [2.0], \"yaxis\": \"y\", \"type\": \"scatter\"}], \"name\": \"1999\"}, {\"data\": [{\"hoverlabel\": {\"namelength\": 0}, \"hovertemplate\": \"<b>%{hovertext}</b><br><br>country=USA<br>year=2000<br>gdp=%{x}<br>co2=%{marker.size}\", \"hovertext\": [\"USA\"], \"ids\": [\"USA\"], \"legendgroup\": \"country=USA\", \"marker\": {\"color\": \"#636efa\", \"size\": [4.8], \"sizemode\": \"area\", \"sizeref\": 0.01484297520661157, \"symbol\": \"circle\"}, \"mode\": \"markers\", \"name\": \"country=USA\", \"showlegend\": true, \"x\": [76291.0], \"xaxis\": \"x\", \"y\": [4.8], \"yaxis\": \"y\", \"type\": \"scatter\"}, {\"hoverlabel\": {\"namelength\": 0}, \"hovertemplate\": \"<b>%{hovertext}</b><br><br>country=China<br>year=2000<br>gdp=%{x}<br>co2=%{marker.size}\", \"hovertext\": [\"China\"], \"ids\": [\"China\"], \"legendgroup\": \"country=China\", \"marker\": {\"color\": \"#EF553B\", \"size\": [10.2], \"sizemode\": \"area\", \"sizeref\": 0.01484297520661157, \"symbol\": \"circle\"}, \"mode\": \"markers\", \"name\": \"country=China\", \"showlegend\": true, \"x\": [154485.9], \"xaxis\": \"x\", \"y\": [10.2], \"yaxis\": \"y\", \"type\": \"scatter\"}, {\"hoverlabel\": {\"namelength\": 0}, \"hovertemplate\": \"<b>%{hovertext}</b><br><br>country=Japan<br>year=2000<br>gdp=%{x}<br>co2=%{marker.size}\", \"hovertext\": [\"Japan\"], \"ids\": [\"Japan\"], \"legendgroup\": \"country=Japan\", \"marker\": {\"color\": \"#00cc96\", \"size\": [32.1], \"sizemode\": \"area\", \"sizeref\": 0.01484297520661157, \"symbol\": \"circle\"}, \"mode\": \"markers\", \"name\": \"country=Japan\", \"showlegend\": true, \"x\": [50105.1], \"xaxis\": \"x\", \"y\": [32.1], \"yaxis\": \"y\", \"type\": \"scatter\"}, {\"hoverlabel\": {\"namelength\": 0}, \"hovertemplate\": \"<b>%{hovertext}</b><br><br>country=Australia<br>year=2000<br>gdp=%{x}<br>co2=%{marker.size}\", \"hovertext\": [\"Australia\"], \"ids\": [\"Australia\"], \"legendgroup\": \"country=Australia\", \"marker\": {\"color\": \"#ab63fa\", \"size\": [25.2], \"sizemode\": \"area\", \"sizeref\": 0.01484297520661157, \"symbol\": \"circle\"}, \"mode\": \"markers\", \"name\": \"country=Australia\", \"showlegend\": true, \"x\": [49114.1], \"xaxis\": \"x\", \"y\": [25.2], \"yaxis\": \"y\", \"type\": \"scatter\"}, {\"hoverlabel\": {\"namelength\": 0}, \"hovertemplate\": \"<b>%{hovertext}</b><br><br>country=Germany<br>year=2000<br>gdp=%{x}<br>co2=%{marker.size}\", \"hovertext\": [\"Germany\"], \"ids\": [\"Germany\"], \"legendgroup\": \"country=Germany\", \"marker\": {\"color\": \"#FFA15A\", \"size\": [0.6], \"sizemode\": \"area\", \"sizeref\": 0.01484297520661157, \"symbol\": \"circle\"}, \"mode\": \"markers\", \"name\": \"country=Germany\", \"showlegend\": true, \"x\": [22339.7], \"xaxis\": \"x\", \"y\": [0.6], \"yaxis\": \"y\", \"type\": \"scatter\"}], \"name\": \"2000\"}, {\"data\": [{\"hoverlabel\": {\"namelength\": 0}, \"hovertemplate\": \"<b>%{hovertext}</b><br><br>country=USA<br>year=2001<br>gdp=%{x}<br>co2=%{marker.size}\", \"hovertext\": [\"USA\"], \"ids\": [\"USA\"], \"legendgroup\": \"country=USA\", \"marker\": {\"color\": \"#636efa\", \"size\": [3.2], \"sizemode\": \"area\", \"sizeref\": 0.01484297520661157, \"symbol\": \"circle\"}, \"mode\": \"markers\", \"name\": \"country=USA\", \"showlegend\": true, \"x\": [3557.2], \"xaxis\": \"x\", \"y\": [3.2], \"yaxis\": \"y\", \"type\": \"scatter\"}, {\"hoverlabel\": {\"namelength\": 0}, \"hovertemplate\": \"<b>%{hovertext}</b><br><br>country=China<br>year=2001<br>gdp=%{x}<br>co2=%{marker.size}\", \"hovertext\": [\"China\"], \"ids\": [\"China\"], \"legendgroup\": \"country=China\", \"marker\": {\"color\": \"#EF553B\", \"size\": [43.5], \"sizemode\": \"area\", \"sizeref\": 0.01484297520661157, \"symbol\": \"circle\"}, \"mode\": \"markers\", \"name\": \"country=China\", \"showlegend\": true, \"x\": [115488.8], \"xaxis\": \"x\", \"y\": [43.5], \"yaxis\": \"y\", \"type\": \"scatter\"}, {\"hoverlabel\": {\"namelength\": 0}, \"hovertemplate\": \"<b>%{hovertext}</b><br><br>country=Japan<br>year=2001<br>gdp=%{x}<br>co2=%{marker.size}\", \"hovertext\": [\"Japan\"], \"ids\": [\"Japan\"], \"legendgroup\": \"country=Japan\", \"marker\": {\"color\": \"#00cc96\", \"size\": [25.6], \"sizemode\": \"area\", \"sizeref\": 0.01484297520661157, \"symbol\": \"circle\"}, \"mode\": \"markers\", \"name\": \"country=Japan\", \"showlegend\": true, \"x\": [36189.6], \"xaxis\": \"x\", \"y\": [25.6], \"yaxis\": \"y\", \"type\": \"scatter\"}, {\"hoverlabel\": {\"namelength\": 0}, \"hovertemplate\": \"<b>%{hovertext}</b><br><br>country=Australia<br>year=2001<br>gdp=%{x}<br>co2=%{marker.size}\", \"hovertext\": [\"Australia\"], \"ids\": [\"Australia\"], \"legendgroup\": \"country=Australia\", \"marker\": {\"color\": \"#ab63fa\", \"size\": [9.1], \"sizemode\": \"area\", \"sizeref\": 0.01484297520661157, \"symbol\": \"circle\"}, \"mode\": \"markers\", \"name\": \"country=Australia\", \"showlegend\": true, \"x\": [45341.2], \"xaxis\": \"x\", \"y\": [9.1], \"yaxis\": \"y\", \"type\": \"scatter\"}, {\"hoverlabel\": {\"namelength\": 0}, \"hovertemplate\": \"<b>%{hovertext}</b><br><br>country=Germany<br>year=2001<br>gdp=%{x}<br>co2=%{marker.size}\", \"hovertext\": [\"Germany\"], \"ids\": [\"Germany\"], \"legendgroup\": \"country=Germany\", \"marker\": {\"color\": \"#FFA15A\", \"size\": [11.4], \"sizemode\": \"area\", \"sizeref\": 0.01484297520661157, \"symbol\": \"circle\"}, \"mode\": \"markers\", \"name\": \"country=Germany\", \"showlegend\": true, \"x\": [83704.7], \"xaxis\": \"x\", \"y\": [11.4], \"yaxis\": \"y\", \"type\": \"scatter\"}], \"name\": \"2001\"}, {\"data\": [{\"hoverlabel\": {\"namelength\": 0}, \"hovertemplate\": \"<b>%{hovertext}</b><br><br>country=USA<br>year=2002<br>gdp=%{x}<br>co2=%{marker.size}\", \"hovertext\": [\"USA\"], \"ids\": [\"USA\"], \"legendgroup\": \"country=USA\", \"marker\": {\"color\": \"#636efa\", \"size\": [33.5], \"sizemode\": \"area\", \"sizeref\": 0.01484297520661157, \"symbol\": \"circle\"}, \"mode\": \"markers\", \"name\": \"country=USA\", \"showlegend\": true, \"x\": [9327.2], \"xaxis\": \"x\", \"y\": [33.5], \"yaxis\": \"y\", \"type\": \"scatter\"}, {\"hoverlabel\": {\"namelength\": 0}, \"hovertemplate\": \"<b>%{hovertext}</b><br><br>country=China<br>year=2002<br>gdp=%{x}<br>co2=%{marker.size}\", \"hovertext\": [\"China\"], \"ids\": [\"China\"], \"legendgroup\": \"country=China\", \"marker\": {\"color\": \"#EF553B\", \"size\": [8.8], \"sizemode\": \"area\", \"sizeref\": 0.01484297520661157, \"symbol\": \"circle\"}, \"mode\": \"markers\", \"name\": \"country=China\", \"showlegend\": true, \"x\": [97715.0], \"xaxis\": \"x\", \"y\": [8.8], \"yaxis\": \"y\", \"type\": \"scatter\"}, {\"hoverlabel\": {\"namelength\": 0}, \"hovertemplate\": \"<b>%{hovertext}</b><br><br>country=Japan<br>year=2002<br>gdp=%{x}<br>co2=%{marker.size}\", \"hovertext\": [\"Japan\"], \"ids\": [\"Japan\"], \"legendgroup\": \"country=Japan\", \"marker\": {\"color\": \"#00cc96\", \"size\": [26.2], \"sizemode\": \"area\", \"sizeref\": 0.01484297520661157, \"symbol\": \"circle\"}, \"mode\": \"markers\", \"name\": \"country=Japan\", \"showlegend\": true, \"x\": [25174.2], \"xaxis\": \"x\", \"y\": [26.2], \"yaxis\": \"y\", \"type\": \"scatter\"}, {\"hoverlabel\": {\"namelength\": 0}, \"hovertemplate\": \"<b>%{hovertext}</b><br><br>country=Australia<br>year=2002<br>gdp=%{x}<br>co2=%{marker.size}\", \"hovertext\": [\"Australia\"], \"ids\": [\"Australia\"], \"legendgroup\": \"country=Australia\", \"marker\": {\"color\": \"#ab63fa\", \"size\": [43.7], \"sizemode\": \"area\", \"sizeref\": 0.01484297520661157, \"symbol\": \"circle\"}, \"mode\": \"markers\", \"name\": \"country=Australia\", \"showlegend\": true, \"x\": [100292.8], \"xaxis\": \"x\", \"y\": [43.7], \"yaxis\": \"y\", \"type\": \"scatter\"}, {\"hoverlabel\": {\"namelength\": 0}, \"hovertemplate\": \"<b>%{hovertext}</b><br><br>country=Germany<br>year=2002<br>gdp=%{x}<br>co2=%{marker.size}\", \"hovertext\": [\"Germany\"], \"ids\": [\"Germany\"], \"legendgroup\": \"country=Germany\", \"marker\": {\"color\": \"#FFA15A\", \"size\": [38.1], \"sizemode\": \"area\", \"sizeref\": 0.01484297520661157, \"symbol\": \"circle\"}, \"mode\": \"markers\", \"name\": \"country=Germany\", \"showlegend\": true, \"x\": [119040.0], \"xaxis\": \"x\", \"y\": [38.1], \"yaxis\": \"y\", \"type\": \"scatter\"}], \"name\": \"2002\"}, {\"data\": [{\"hoverlabel\": {\"namelength\": 0}, \"hovertemplate\": \"<b>%{hovertext}</b><br><br>country=USA<br>year=2003<br>gdp=%{x}<br>co2=%{marker.size}\", \"hovertext\": [\"USA\"], \"ids\": [\"USA\"], \"legendgroup\": \"country=USA\", \"marker\": {\"color\": \"#636efa\", \"size\": [10.8], \"sizemode\": \"area\", \"sizeref\": 0.01484297520661157, \"symbol\": \"circle\"}, \"mode\": \"markers\", \"name\": \"country=USA\", \"showlegend\": true, \"x\": [17639.2], \"xaxis\": \"x\", \"y\": [10.8], \"yaxis\": \"y\", \"type\": \"scatter\"}, {\"hoverlabel\": {\"namelength\": 0}, \"hovertemplate\": \"<b>%{hovertext}</b><br><br>country=China<br>year=2003<br>gdp=%{x}<br>co2=%{marker.size}\", \"hovertext\": [\"China\"], \"ids\": [\"China\"], \"legendgroup\": \"country=China\", \"marker\": {\"color\": \"#EF553B\", \"size\": [22.2], \"sizemode\": \"area\", \"sizeref\": 0.01484297520661157, \"symbol\": \"circle\"}, \"mode\": \"markers\", \"name\": \"country=China\", \"showlegend\": true, \"x\": [70547.7], \"xaxis\": \"x\", \"y\": [22.2], \"yaxis\": \"y\", \"type\": \"scatter\"}, {\"hoverlabel\": {\"namelength\": 0}, \"hovertemplate\": \"<b>%{hovertext}</b><br><br>country=Japan<br>year=2003<br>gdp=%{x}<br>co2=%{marker.size}\", \"hovertext\": [\"Japan\"], \"ids\": [\"Japan\"], \"legendgroup\": \"country=Japan\", \"marker\": {\"color\": \"#00cc96\", \"size\": [27.9], \"sizemode\": \"area\", \"sizeref\": 0.01484297520661157, \"symbol\": \"circle\"}, \"mode\": \"markers\", \"name\": \"country=Japan\", \"showlegend\": true, \"x\": [118130.5], \"xaxis\": \"x\", \"y\": [27.9], \"yaxis\": \"y\", \"type\": \"scatter\"}, {\"hoverlabel\": {\"namelength\": 0}, \"hovertemplate\": \"<b>%{hovertext}</b><br><br>country=Australia<br>year=2003<br>gdp=%{x}<br>co2=%{marker.size}\", \"hovertext\": [\"Australia\"], \"ids\": [\"Australia\"], \"legendgroup\": \"country=Australia\", \"marker\": {\"color\": \"#ab63fa\", \"size\": [37.3], \"sizemode\": \"area\", \"sizeref\": 0.01484297520661157, \"symbol\": \"circle\"}, \"mode\": \"markers\", \"name\": \"country=Australia\", \"showlegend\": true, \"x\": [70568.6], \"xaxis\": \"x\", \"y\": [37.3], \"yaxis\": \"y\", \"type\": \"scatter\"}, {\"hoverlabel\": {\"namelength\": 0}, \"hovertemplate\": \"<b>%{hovertext}</b><br><br>country=Germany<br>year=2003<br>gdp=%{x}<br>co2=%{marker.size}\", \"hovertext\": [\"Germany\"], \"ids\": [\"Germany\"], \"legendgroup\": \"country=Germany\", \"marker\": {\"color\": \"#FFA15A\", \"size\": [7.1], \"sizemode\": \"area\", \"sizeref\": 0.01484297520661157, \"symbol\": \"circle\"}, \"mode\": \"markers\", \"name\": \"country=Germany\", \"showlegend\": true, \"x\": [8748.6], \"xaxis\": \"x\", \"y\": [7.1], \"yaxis\": \"y\", \"type\": \"scatter\"}], \"name\": \"2003\"}, {\"data\": [{\"hoverlabel\": {\"namelength\": 0}, \"hovertemplate\": \"<b>%{hovertext}</b><br><br>country=USA<br>year=2004<br>gdp=%{x}<br>co2=%{marker.size}\", \"hovertext\": [\"USA\"], \"ids\": [\"USA\"], \"legendgroup\": \"country=USA\", \"marker\": {\"color\": \"#636efa\", \"size\": [0.8], \"sizemode\": \"area\", \"sizeref\": 0.01484297520661157, \"symbol\": \"circle\"}, \"mode\": \"markers\", \"name\": \"country=USA\", \"showlegend\": true, \"x\": [91227.7], \"xaxis\": \"x\", \"y\": [0.8], \"yaxis\": \"y\", \"type\": \"scatter\"}, {\"hoverlabel\": {\"namelength\": 0}, \"hovertemplate\": \"<b>%{hovertext}</b><br><br>country=China<br>year=2004<br>gdp=%{x}<br>co2=%{marker.size}\", \"hovertext\": [\"China\"], \"ids\": [\"China\"], \"legendgroup\": \"country=China\", \"marker\": {\"color\": \"#EF553B\", \"size\": [3.2], \"sizemode\": \"area\", \"sizeref\": 0.01484297520661157, \"symbol\": \"circle\"}, \"mode\": \"markers\", \"name\": \"country=China\", \"showlegend\": true, \"x\": [112935.9], \"xaxis\": \"x\", \"y\": [3.2], \"yaxis\": \"y\", \"type\": \"scatter\"}, {\"hoverlabel\": {\"namelength\": 0}, \"hovertemplate\": \"<b>%{hovertext}</b><br><br>country=Japan<br>year=2004<br>gdp=%{x}<br>co2=%{marker.size}\", \"hovertext\": [\"Japan\"], \"ids\": [\"Japan\"], \"legendgroup\": \"country=Japan\", \"marker\": {\"color\": \"#00cc96\", \"size\": [21.9], \"sizemode\": \"area\", \"sizeref\": 0.01484297520661157, \"symbol\": \"circle\"}, \"mode\": \"markers\", \"name\": \"country=Japan\", \"showlegend\": true, \"x\": [87662.1], \"xaxis\": \"x\", \"y\": [21.9], \"yaxis\": \"y\", \"type\": \"scatter\"}, {\"hoverlabel\": {\"namelength\": 0}, \"hovertemplate\": \"<b>%{hovertext}</b><br><br>country=Australia<br>year=2004<br>gdp=%{x}<br>co2=%{marker.size}\", \"hovertext\": [\"Australia\"], \"ids\": [\"Australia\"], \"legendgroup\": \"country=Australia\", \"marker\": {\"color\": \"#ab63fa\", \"size\": [27.3], \"sizemode\": \"area\", \"sizeref\": 0.01484297520661157, \"symbol\": \"circle\"}, \"mode\": \"markers\", \"name\": \"country=Australia\", \"showlegend\": true, \"x\": [160596.1], \"xaxis\": \"x\", \"y\": [27.3], \"yaxis\": \"y\", \"type\": \"scatter\"}, {\"hoverlabel\": {\"namelength\": 0}, \"hovertemplate\": \"<b>%{hovertext}</b><br><br>country=Germany<br>year=2004<br>gdp=%{x}<br>co2=%{marker.size}\", \"hovertext\": [\"Germany\"], \"ids\": [\"Germany\"], \"legendgroup\": \"country=Germany\", \"marker\": {\"color\": \"#FFA15A\", \"size\": [25.6], \"sizemode\": \"area\", \"sizeref\": 0.01484297520661157, \"symbol\": \"circle\"}, \"mode\": \"markers\", \"name\": \"country=Germany\", \"showlegend\": true, \"x\": [99826.0], \"xaxis\": \"x\", \"y\": [25.6], \"yaxis\": \"y\", \"type\": \"scatter\"}], \"name\": \"2004\"}, {\"data\": [{\"hoverlabel\": {\"namelength\": 0}, \"hovertemplate\": \"<b>%{hovertext}</b><br><br>country=USA<br>year=2005<br>gdp=%{x}<br>co2=%{marker.size}\", \"hovertext\": [\"USA\"], \"ids\": [\"USA\"], \"legendgroup\": \"country=USA\", \"marker\": {\"color\": \"#636efa\", \"size\": [14.3], \"sizemode\": \"area\", \"sizeref\": 0.01484297520661157, \"symbol\": \"circle\"}, \"mode\": \"markers\", \"name\": \"country=USA\", \"showlegend\": true, \"x\": [153604.4], \"xaxis\": \"x\", \"y\": [14.3], \"yaxis\": \"y\", \"type\": \"scatter\"}, {\"hoverlabel\": {\"namelength\": 0}, \"hovertemplate\": \"<b>%{hovertext}</b><br><br>country=China<br>year=2005<br>gdp=%{x}<br>co2=%{marker.size}\", \"hovertext\": [\"China\"], \"ids\": [\"China\"], \"legendgroup\": \"country=China\", \"marker\": {\"color\": \"#EF553B\", \"size\": [44.5], \"sizemode\": \"area\", \"sizeref\": 0.01484297520661157, \"symbol\": \"circle\"}, \"mode\": \"markers\", \"name\": \"country=China\", \"showlegend\": true, \"x\": [23603.6], \"xaxis\": \"x\", \"y\": [44.5], \"yaxis\": \"y\", \"type\": \"scatter\"}, {\"hoverlabel\": {\"namelength\": 0}, \"hovertemplate\": \"<b>%{hovertext}</b><br><br>country=Japan<br>year=2005<br>gdp=%{x}<br>co2=%{marker.size}\", \"hovertext\": [\"Japan\"], \"ids\": [\"Japan\"], \"legendgroup\": \"country=Japan\", \"marker\": {\"color\": \"#00cc96\", \"size\": [26.1], \"sizemode\": \"area\", \"sizeref\": 0.01484297520661157, \"symbol\": \"circle\"}, \"mode\": \"markers\", \"name\": \"country=Japan\", \"showlegend\": true, \"x\": [23909.4], \"xaxis\": \"x\", \"y\": [26.1], \"yaxis\": \"y\", \"type\": \"scatter\"}, {\"hoverlabel\": {\"namelength\": 0}, \"hovertemplate\": \"<b>%{hovertext}</b><br><br>country=Australia<br>year=2005<br>gdp=%{x}<br>co2=%{marker.size}\", \"hovertext\": [\"Australia\"], \"ids\": [\"Australia\"], \"legendgroup\": \"country=Australia\", \"marker\": {\"color\": \"#ab63fa\", \"size\": [17.1], \"sizemode\": \"area\", \"sizeref\": 0.01484297520661157, \"symbol\": \"circle\"}, \"mode\": \"markers\", \"name\": \"country=Australia\", \"showlegend\": true, \"x\": [137308.5], \"xaxis\": \"x\", \"y\": [17.1], \"yaxis\": \"y\", \"type\": \"scatter\"}, {\"hoverlabel\": {\"namelength\": 0}, \"hovertemplate\": \"<b>%{hovertext}</b><br><br>country=Germany<br>year=2005<br>gdp=%{x}<br>co2=%{marker.size}\", \"hovertext\": [\"Germany\"], \"ids\": [\"Germany\"], \"legendgroup\": \"country=Germany\", \"marker\": {\"color\": \"#FFA15A\", \"size\": [24.8], \"sizemode\": \"area\", \"sizeref\": 0.01484297520661157, \"symbol\": \"circle\"}, \"mode\": \"markers\", \"name\": \"country=Germany\", \"showlegend\": true, \"x\": [67767.7], \"xaxis\": \"x\", \"y\": [24.8], \"yaxis\": \"y\", \"type\": \"scatter\"}], \"name\": \"2005\"}, {\"data\": [{\"hoverlabel\": {\"namelength\": 0}, \"hovertemplate\": \"<b>%{hovertext}</b><br><br>country=USA<br>year=2006<br>gdp=%{x}<br>co2=%{marker.size}\", \"hovertext\": [\"USA\"], \"ids\": [\"USA\"], \"legendgroup\": \"country=USA\", \"marker\": {\"color\": \"#636efa\", \"size\": [33.5], \"sizemode\": \"area\", \"sizeref\": 0.01484297520661157, \"symbol\": \"circle\"}, \"mode\": \"markers\", \"name\": \"country=USA\", \"showlegend\": true, \"x\": [28335.6], \"xaxis\": \"x\", \"y\": [33.5], \"yaxis\": \"y\", \"type\": \"scatter\"}, {\"hoverlabel\": {\"namelength\": 0}, \"hovertemplate\": \"<b>%{hovertext}</b><br><br>country=China<br>year=2006<br>gdp=%{x}<br>co2=%{marker.size}\", \"hovertext\": [\"China\"], \"ids\": [\"China\"], \"legendgroup\": \"country=China\", \"marker\": {\"color\": \"#EF553B\", \"size\": [30.1], \"sizemode\": \"area\", \"sizeref\": 0.01484297520661157, \"symbol\": \"circle\"}, \"mode\": \"markers\", \"name\": \"country=China\", \"showlegend\": true, \"x\": [157696.0], \"xaxis\": \"x\", \"y\": [30.1], \"yaxis\": \"y\", \"type\": \"scatter\"}, {\"hoverlabel\": {\"namelength\": 0}, \"hovertemplate\": \"<b>%{hovertext}</b><br><br>country=Japan<br>year=2006<br>gdp=%{x}<br>co2=%{marker.size}\", \"hovertext\": [\"Japan\"], \"ids\": [\"Japan\"], \"legendgroup\": \"country=Japan\", \"marker\": {\"color\": \"#00cc96\", \"size\": [11.9], \"sizemode\": \"area\", \"sizeref\": 0.01484297520661157, \"symbol\": \"circle\"}, \"mode\": \"markers\", \"name\": \"country=Japan\", \"showlegend\": true, \"x\": [59296.3], \"xaxis\": \"x\", \"y\": [11.9], \"yaxis\": \"y\", \"type\": \"scatter\"}, {\"hoverlabel\": {\"namelength\": 0}, \"hovertemplate\": \"<b>%{hovertext}</b><br><br>country=Australia<br>year=2006<br>gdp=%{x}<br>co2=%{marker.size}\", \"hovertext\": [\"Australia\"], \"ids\": [\"Australia\"], \"legendgroup\": \"country=Australia\", \"marker\": {\"color\": \"#ab63fa\", \"size\": [3.0], \"sizemode\": \"area\", \"sizeref\": 0.01484297520661157, \"symbol\": \"circle\"}, \"mode\": \"markers\", \"name\": \"country=Australia\", \"showlegend\": true, \"x\": [127705.3], \"xaxis\": \"x\", \"y\": [3.0], \"yaxis\": \"y\", \"type\": \"scatter\"}, {\"hoverlabel\": {\"namelength\": 0}, \"hovertemplate\": \"<b>%{hovertext}</b><br><br>country=Germany<br>year=2006<br>gdp=%{x}<br>co2=%{marker.size}\", \"hovertext\": [\"Germany\"], \"ids\": [\"Germany\"], \"legendgroup\": \"country=Germany\", \"marker\": {\"color\": \"#FFA15A\", \"size\": [16.7], \"sizemode\": \"area\", \"sizeref\": 0.01484297520661157, \"symbol\": \"circle\"}, \"mode\": \"markers\", \"name\": \"country=Germany\", \"showlegend\": true, \"x\": [123493.6], \"xaxis\": \"x\", \"y\": [16.7], \"yaxis\": \"y\", \"type\": \"scatter\"}], \"name\": \"2006\"}, {\"data\": [{\"hoverlabel\": {\"namelength\": 0}, \"hovertemplate\": \"<b>%{hovertext}</b><br><br>country=USA<br>year=2007<br>gdp=%{x}<br>co2=%{marker.size}\", \"hovertext\": [\"USA\"], \"ids\": [\"USA\"], \"legendgroup\": \"country=USA\", \"marker\": {\"color\": \"#636efa\", \"size\": [28.3], \"sizemode\": \"area\", \"sizeref\": 0.01484297520661157, \"symbol\": \"circle\"}, \"mode\": \"markers\", \"name\": \"country=USA\", \"showlegend\": true, \"x\": [150193.5], \"xaxis\": \"x\", \"y\": [28.3], \"yaxis\": \"y\", \"type\": \"scatter\"}, {\"hoverlabel\": {\"namelength\": 0}, \"hovertemplate\": \"<b>%{hovertext}</b><br><br>country=China<br>year=2007<br>gdp=%{x}<br>co2=%{marker.size}\", \"hovertext\": [\"China\"], \"ids\": [\"China\"], \"legendgroup\": \"country=China\", \"marker\": {\"color\": \"#EF553B\", \"size\": [9.5], \"sizemode\": \"area\", \"sizeref\": 0.01484297520661157, \"symbol\": \"circle\"}, \"mode\": \"markers\", \"name\": \"country=China\", \"showlegend\": true, \"x\": [106125.9], \"xaxis\": \"x\", \"y\": [9.5], \"yaxis\": \"y\", \"type\": \"scatter\"}, {\"hoverlabel\": {\"namelength\": 0}, \"hovertemplate\": \"<b>%{hovertext}</b><br><br>country=Japan<br>year=2007<br>gdp=%{x}<br>co2=%{marker.size}\", \"hovertext\": [\"Japan\"], \"ids\": [\"Japan\"], \"legendgroup\": \"country=Japan\", \"marker\": {\"color\": \"#00cc96\", \"size\": [33.9], \"sizemode\": \"area\", \"sizeref\": 0.01484297520661157, \"symbol\": \"circle\"}, \"mode\": \"markers\", \"name\": \"country=Japan\", \"showlegend\": true, \"x\": [127727.5], \"xaxis\": \"x\", \"y\": [33.9], \"yaxis\": \"y\", \"type\": \"scatter\"}, {\"hoverlabel\": {\"namelength\": 0}, \"hovertemplate\": \"<b>%{hovertext}</b><br><br>country=Australia<br>year=2007<br>gdp=%{x}<br>co2=%{marker.size}\", \"hovertext\": [\"Australia\"], \"ids\": [\"Australia\"], \"legendgroup\": \"country=Australia\", \"marker\": {\"color\": \"#ab63fa\", \"size\": [3.0], \"sizemode\": \"area\", \"sizeref\": 0.01484297520661157, \"symbol\": \"circle\"}, \"mode\": \"markers\", \"name\": \"country=Australia\", \"showlegend\": true, \"x\": [59488.5], \"xaxis\": \"x\", \"y\": [3.0], \"yaxis\": \"y\", \"type\": \"scatter\"}, {\"hoverlabel\": {\"namelength\": 0}, \"hovertemplate\": \"<b>%{hovertext}</b><br><br>country=Germany<br>year=2007<br>gdp=%{x}<br>co2=%{marker.size}\", \"hovertext\": [\"Germany\"], \"ids\": [\"Germany\"], \"legendgroup\": \"country=Germany\", \"marker\": {\"color\": \"#FFA15A\", \"size\": [11.7], \"sizemode\": \"area\", \"sizeref\": 0.01484297520661157, \"symbol\": \"circle\"}, \"mode\": \"markers\", \"name\": \"country=Germany\", \"showlegend\": true, \"x\": [46084.9], \"xaxis\": \"x\", \"y\": [11.7], \"yaxis\": \"y\", \"type\": \"scatter\"}], \"name\": \"2007\"}, {\"data\": [{\"hoverlabel\": {\"namelength\": 0}, \"hovertemplate\": \"<b>%{hovertext}</b><br><br>country=USA<br>year=2008<br>gdp=%{x}<br>co2=%{marker.size}\", \"hovertext\": [\"USA\"], \"ids\": [\"USA\"], \"legendgroup\": \"country=USA\", \"marker\": {\"color\": \"#636efa\", \"size\": [36.2], \"sizemode\": \"area\", \"sizeref\": 0.01484297520661157, \"symbol\": \"circle\"}, \"mode\": \"markers\", \"name\": \"country=USA\", \"showlegend\": true, \"x\": [152328.8], \"xaxis\": \"x\", \"y\": [36.2], \"yaxis\": \"y\", \"type\": \"scatter\"}, {\"hoverlabel\": {\"namelength\": 0}, \"hovertemplate\": \"<b>%{hovertext}</b><br><br>country=China<br>year=2008<br>gdp=%{x}<br>co2=%{marker.size}\", \"hovertext\": [\"China\"], \"ids\": [\"China\"], \"legendgroup\": \"country=China\", \"marker\": {\"color\": \"#EF553B\", \"size\": [8.7], \"sizemode\": \"area\", \"sizeref\": 0.01484297520661157, \"symbol\": \"circle\"}, \"mode\": \"markers\", \"name\": \"country=China\", \"showlegend\": true, \"x\": [72929.9], \"xaxis\": \"x\", \"y\": [8.7], \"yaxis\": \"y\", \"type\": \"scatter\"}, {\"hoverlabel\": {\"namelength\": 0}, \"hovertemplate\": \"<b>%{hovertext}</b><br><br>country=Japan<br>year=2008<br>gdp=%{x}<br>co2=%{marker.size}\", \"hovertext\": [\"Japan\"], \"ids\": [\"Japan\"], \"legendgroup\": \"country=Japan\", \"marker\": {\"color\": \"#00cc96\", \"size\": [28.8], \"sizemode\": \"area\", \"sizeref\": 0.01484297520661157, \"symbol\": \"circle\"}, \"mode\": \"markers\", \"name\": \"country=Japan\", \"showlegend\": true, \"x\": [164032.3], \"xaxis\": \"x\", \"y\": [28.8], \"yaxis\": \"y\", \"type\": \"scatter\"}, {\"hoverlabel\": {\"namelength\": 0}, \"hovertemplate\": \"<b>%{hovertext}</b><br><br>country=Australia<br>year=2008<br>gdp=%{x}<br>co2=%{marker.size}\", \"hovertext\": [\"Australia\"], \"ids\": [\"Australia\"], \"legendgroup\": \"country=Australia\", \"marker\": {\"color\": \"#ab63fa\", \"size\": [23.6], \"sizemode\": \"area\", \"sizeref\": 0.01484297520661157, \"symbol\": \"circle\"}, \"mode\": \"markers\", \"name\": \"country=Australia\", \"showlegend\": true, \"x\": [112875.9], \"xaxis\": \"x\", \"y\": [23.6], \"yaxis\": \"y\", \"type\": \"scatter\"}, {\"hoverlabel\": {\"namelength\": 0}, \"hovertemplate\": \"<b>%{hovertext}</b><br><br>country=Germany<br>year=2008<br>gdp=%{x}<br>co2=%{marker.size}\", \"hovertext\": [\"Germany\"], \"ids\": [\"Germany\"], \"legendgroup\": \"country=Germany\", \"marker\": {\"color\": \"#FFA15A\", \"size\": [41.6], \"sizemode\": \"area\", \"sizeref\": 0.01484297520661157, \"symbol\": \"circle\"}, \"mode\": \"markers\", \"name\": \"country=Germany\", \"showlegend\": true, \"x\": [105790.4], \"xaxis\": \"x\", \"y\": [41.6], \"yaxis\": \"y\", \"type\": \"scatter\"}], \"name\": \"2008\"}, {\"data\": [{\"hoverlabel\": {\"namelength\": 0}, \"hovertemplate\": \"<b>%{hovertext}</b><br><br>country=USA<br>year=2009<br>gdp=%{x}<br>co2=%{marker.size}\", \"hovertext\": [\"USA\"], \"ids\": [\"USA\"], \"legendgroup\": \"country=USA\", \"marker\": {\"color\": \"#636efa\", \"size\": [11.8], \"sizemode\": \"area\", \"sizeref\": 0.01484297520661157, \"symbol\": \"circle\"}, \"mode\": \"markers\", \"name\": \"country=USA\", \"showlegend\": true, \"x\": [19745.8], \"xaxis\": \"x\", \"y\": [11.8], \"yaxis\": \"y\", \"type\": \"scatter\"}, {\"hoverlabel\": {\"namelength\": 0}, \"hovertemplate\": \"<b>%{hovertext}</b><br><br>country=China<br>year=2009<br>gdp=%{x}<br>co2=%{marker.size}\", \"hovertext\": [\"China\"], \"ids\": [\"China\"], \"legendgroup\": \"country=China\", \"marker\": {\"color\": \"#EF553B\", \"size\": [3.0], \"sizemode\": \"area\", \"sizeref\": 0.01484297520661157, \"symbol\": \"circle\"}, \"mode\": \"markers\", \"name\": \"country=China\", \"showlegend\": true, \"x\": [161426.8], \"xaxis\": \"x\", \"y\": [3.0], \"yaxis\": \"y\", \"type\": \"scatter\"}, {\"hoverlabel\": {\"namelength\": 0}, \"hovertemplate\": \"<b>%{hovertext}</b><br><br>country=Japan<br>year=2009<br>gdp=%{x}<br>co2=%{marker.size}\", \"hovertext\": [\"Japan\"], \"ids\": [\"Japan\"], \"legendgroup\": \"country=Japan\", \"marker\": {\"color\": \"#00cc96\", \"size\": [33.1], \"sizemode\": \"area\", \"sizeref\": 0.01484297520661157, \"symbol\": \"circle\"}, \"mode\": \"markers\", \"name\": \"country=Japan\", \"showlegend\": true, \"x\": [76633.6], \"xaxis\": \"x\", \"y\": [33.1], \"yaxis\": \"y\", \"type\": \"scatter\"}, {\"hoverlabel\": {\"namelength\": 0}, \"hovertemplate\": \"<b>%{hovertext}</b><br><br>country=Australia<br>year=2009<br>gdp=%{x}<br>co2=%{marker.size}\", \"hovertext\": [\"Australia\"], \"ids\": [\"Australia\"], \"legendgroup\": \"country=Australia\", \"marker\": {\"color\": \"#ab63fa\", \"size\": [34.7], \"sizemode\": \"area\", \"sizeref\": 0.01484297520661157, \"symbol\": \"circle\"}, \"mode\": \"markers\", \"name\": \"country=Australia\", \"showlegend\": true, \"x\": [98440.1], \"xaxis\": \"x\", \"y\": [34.7], \"yaxis\": \"y\", \"type\": \"scatter\"}, {\"hoverlabel\": {\"namelength\": 0}, \"hovertemplate\": \"<b>%{hovertext}</b><br><br>country=Germany<br>year=2009<br>gdp=%{x}<br>co2=%{marker.size}\", \"hovertext\": [\"Germany\"], \"ids\": [\"Germany\"], \"legendgroup\": \"country=Germany\", \"marker\": {\"color\": \"#FFA15A\", \"size\": [40.9], \"sizemode\": \"area\", \"sizeref\": 0.01484297520661157, \"symbol\": \"circle\"}, \"mode\": \"markers\", \"name\": \"country=Germany\", \"showlegend\": true, \"x\": [69543.1], \"xaxis\": \"x\", \"y\": [40.9], \"yaxis\": \"y\", \"type\": \"scatter\"}], \"name\": \"2009\"}, {\"data\": [{\"hoverlabel\": {\"namelength\": 0}, \"hovertemplate\": \"<b>%{hovertext}</b><br><br>country=USA<br>year=2010<br>gdp=%{x}<br>co2=%{marker.size}\", \"hovertext\": [\"USA\"], \"ids\": [\"USA\"], \"legendgroup\": \"country=USA\", \"marker\": {\"color\": \"#636efa\", \"size\": [41.9], \"sizemode\": \"area\", \"sizeref\": 0.01484297520661157, \"symbol\": \"circle\"}, \"mode\": \"markers\", \"name\": \"country=USA\", \"showlegend\": true, \"x\": [40500.6], \"xaxis\": \"x\", \"y\": [41.9], \"yaxis\": \"y\", \"type\": \"scatter\"}, {\"hoverlabel\": {\"namelength\": 0}, \"hovertemplate\": \"<b>%{hovertext}</b><br><br>country=China<br>year=2010<br>gdp=%{x}<br>co2=%{marker.size}\", \"hovertext\": [\"China\"], \"ids\": [\"China\"], \"legendgroup\": \"country=China\", \"marker\": {\"color\": \"#EF553B\", \"size\": [0.6], \"sizemode\": \"area\", \"sizeref\": 0.01484297520661157, \"symbol\": \"circle\"}, \"mode\": \"markers\", \"name\": \"country=China\", \"showlegend\": true, \"x\": [153600.6], \"xaxis\": \"x\", \"y\": [0.6], \"yaxis\": \"y\", \"type\": \"scatter\"}, {\"hoverlabel\": {\"namelength\": 0}, \"hovertemplate\": \"<b>%{hovertext}</b><br><br>country=Japan<br>year=2010<br>gdp=%{x}<br>co2=%{marker.size}\", \"hovertext\": [\"Japan\"], \"ids\": [\"Japan\"], \"legendgroup\": \"country=Japan\", \"marker\": {\"color\": \"#00cc96\", \"size\": [10.5], \"sizemode\": \"area\", \"sizeref\": 0.01484297520661157, \"symbol\": \"circle\"}, \"mode\": \"markers\", \"name\": \"country=Japan\", \"showlegend\": true, \"x\": [97640.6], \"xaxis\": \"x\", \"y\": [10.5], \"yaxis\": \"y\", \"type\": \"scatter\"}, {\"hoverlabel\": {\"namelength\": 0}, \"hovertemplate\": \"<b>%{hovertext}</b><br><br>country=Australia<br>year=2010<br>gdp=%{x}<br>co2=%{marker.size}\", \"hovertext\": [\"Australia\"], \"ids\": [\"Australia\"], \"legendgroup\": \"country=Australia\", \"marker\": {\"color\": \"#ab63fa\", \"size\": [27.8], \"sizemode\": \"area\", \"sizeref\": 0.01484297520661157, \"symbol\": \"circle\"}, \"mode\": \"markers\", \"name\": \"country=Australia\", \"showlegend\": true, \"x\": [757.2], \"xaxis\": \"x\", \"y\": [27.8], \"yaxis\": \"y\", \"type\": \"scatter\"}, {\"hoverlabel\": {\"namelength\": 0}, \"hovertemplate\": \"<b>%{hovertext}</b><br><br>country=Germany<br>year=2010<br>gdp=%{x}<br>co2=%{marker.size}\", \"hovertext\": [\"Germany\"], \"ids\": [\"Germany\"], \"legendgroup\": \"country=Germany\", \"marker\": {\"color\": \"#FFA15A\", \"size\": [42.7], \"sizemode\": \"area\", \"sizeref\": 0.01484297520661157, \"symbol\": \"circle\"}, \"mode\": \"markers\", \"name\": \"country=Germany\", \"showlegend\": true, \"x\": [105018.0], \"xaxis\": \"x\", \"y\": [42.7], \"yaxis\": \"y\", \"type\": \"scatter\"}], \"name\": \"2010\"}]);\n",
       "                        }).then(function(){\n",
       "                            \n",
       "var gd = document.getElementById('1fc2d3a3-269a-43a4-9018-26bca9bd7df7');\n",
       "var x = new MutationObserver(function (mutations, observer) {{\n",
       "        var display = window.getComputedStyle(gd).display;\n",
       "        if (!display || display === 'none') {{\n",
       "            console.log([gd, 'removed!']);\n",
       "            Plotly.purge(gd);\n",
       "            observer.disconnect();\n",
       "        }}\n",
       "}});\n",
       "\n",
       "// Listen for the removal of the full notebook cells\n",
       "var notebookContainer = gd.closest('#notebook-container');\n",
       "if (notebookContainer) {{\n",
       "    x.observe(notebookContainer, {childList: true});\n",
       "}}\n",
       "\n",
       "// Listen for the clearing of the current output cell\n",
       "var outputEl = gd.closest('.output');\n",
       "if (outputEl) {{\n",
       "    x.observe(outputEl, {childList: true});\n",
       "}}\n",
       "\n",
       "                        })\n",
       "                };\n",
       "                });\n",
       "            </script>\n",
       "        </div>"
      ]
     },
     "metadata": {},
     "output_type": "display_data"
    }
   ],
   "source": [
    "import plotly.express as px\n",
    "\n",
    "fig = px.scatter(df, x=\"gdp\", y=\"co2\", animation_frame=\"year\", animation_group=\"country\",\n",
    "           size=\"co2\", color=\"country\", hover_name=\"country\", title = 'Time Series Plot Test',\n",
    "           log_x=True, size_max=55, range_x=[100,200e3], range_y=[-10,60])\n",
    "\n",
    "fig.update_xaxes(title_text='GDP per Capita')\n",
    "fig.update_yaxes(title_text='CO2 emissions per capita')"
   ]
  },
  {
   "cell_type": "markdown",
   "metadata": {},
   "source": [
    "## Using `bubbly.bubbleplot`"
   ]
  },
  {
   "cell_type": "code",
   "execution_count": 5,
   "metadata": {},
   "outputs": [
    {
     "data": {
      "application/vnd.plotly.v1+json": {
       "config": {
        "linkText": "Export to plot.ly",
        "plotlyServerURL": "https://plot.ly",
        "showLink": false
       },
       "data": [
        {
         "marker": {
          "size": [
           14.7
          ],
          "sizemode": "area",
          "sizeref": 0.0046770833333333334
         },
         "mode": "markers",
         "name": "USA",
         "text": [
          "USA"
         ],
         "type": "scatter",
         "x": [
          71051.1
         ],
         "y": [
          14.7
         ]
        },
        {
         "marker": {
          "size": [
           23.7
          ],
          "sizemode": "area",
          "sizeref": 0.0046770833333333334
         },
         "mode": "markers",
         "name": "China",
         "text": [
          "China"
         ],
         "type": "scatter",
         "x": [
          122530.7
         ],
         "y": [
          23.7
         ]
        },
        {
         "marker": {
          "size": [
           39.9
          ],
          "sizemode": "area",
          "sizeref": 0.0046770833333333334
         },
         "mode": "markers",
         "name": "Japan",
         "text": [
          "Japan"
         ],
         "type": "scatter",
         "x": [
          289.4
         ],
         "y": [
          39.9
         ]
        },
        {
         "marker": {
          "size": [
           16.1
          ],
          "sizemode": "area",
          "sizeref": 0.0046770833333333334
         },
         "mode": "markers",
         "name": "Australia",
         "text": [
          "Australia"
         ],
         "type": "scatter",
         "x": [
          51584.9
         ],
         "y": [
          16.1
         ]
        },
        {
         "marker": {
          "size": [
           40.9
          ],
          "sizemode": "area",
          "sizeref": 0.0046770833333333334
         },
         "mode": "markers",
         "name": "Germany",
         "text": [
          "Germany"
         ],
         "type": "scatter",
         "x": [
          25178.9
         ],
         "y": [
          40.9
         ]
        }
       ],
       "frames": [
        {
         "data": [
          {
           "marker": {
            "size": [
             14.7
            ],
            "sizemode": "area",
            "sizeref": 0.0046770833333333334
           },
           "mode": "markers",
           "name": "USA",
           "text": [
            "USA"
           ],
           "type": "scatter",
           "x": [
            71051.1
           ],
           "y": [
            14.7
           ]
          },
          {
           "marker": {
            "size": [
             23.7
            ],
            "sizemode": "area",
            "sizeref": 0.0046770833333333334
           },
           "mode": "markers",
           "name": "China",
           "text": [
            "China"
           ],
           "type": "scatter",
           "x": [
            122530.7
           ],
           "y": [
            23.7
           ]
          },
          {
           "marker": {
            "size": [
             39.9
            ],
            "sizemode": "area",
            "sizeref": 0.0046770833333333334
           },
           "mode": "markers",
           "name": "Japan",
           "text": [
            "Japan"
           ],
           "type": "scatter",
           "x": [
            289.4
           ],
           "y": [
            39.9
           ]
          },
          {
           "marker": {
            "size": [
             16.1
            ],
            "sizemode": "area",
            "sizeref": 0.0046770833333333334
           },
           "mode": "markers",
           "name": "Australia",
           "text": [
            "Australia"
           ],
           "type": "scatter",
           "x": [
            51584.9
           ],
           "y": [
            16.1
           ]
          },
          {
           "marker": {
            "size": [
             40.9
            ],
            "sizemode": "area",
            "sizeref": 0.0046770833333333334
           },
           "mode": "markers",
           "name": "Germany",
           "text": [
            "Germany"
           ],
           "type": "scatter",
           "x": [
            25178.9
           ],
           "y": [
            40.9
           ]
          }
         ],
         "name": "1991"
        },
        {
         "data": [
          {
           "marker": {
            "size": [
             28.1
            ],
            "sizemode": "area",
            "sizeref": 0.0046770833333333334
           },
           "mode": "markers",
           "name": "USA",
           "text": [
            "USA"
           ],
           "type": "scatter",
           "x": [
            15942.6
           ],
           "y": [
            28.1
           ]
          },
          {
           "marker": {
            "size": [
             0.7
            ],
            "sizemode": "area",
            "sizeref": 0.0046770833333333334
           },
           "mode": "markers",
           "name": "China",
           "text": [
            "China"
           ],
           "type": "scatter",
           "x": [
            31883.9
           ],
           "y": [
            0.7
           ]
          },
          {
           "marker": {
            "size": [
             41.8
            ],
            "sizemode": "area",
            "sizeref": 0.0046770833333333334
           },
           "mode": "markers",
           "name": "Japan",
           "text": [
            "Japan"
           ],
           "type": "scatter",
           "x": [
            58922
           ],
           "y": [
            41.8
           ]
          },
          {
           "marker": {
            "size": [
             31.1
            ],
            "sizemode": "area",
            "sizeref": 0.0046770833333333334
           },
           "mode": "markers",
           "name": "Australia",
           "text": [
            "Australia"
           ],
           "type": "scatter",
           "x": [
            67613.3
           ],
           "y": [
            31.1
           ]
          },
          {
           "marker": {
            "size": [
             44.9
            ],
            "sizemode": "area",
            "sizeref": 0.0046770833333333334
           },
           "mode": "markers",
           "name": "Germany",
           "text": [
            "Germany"
           ],
           "type": "scatter",
           "x": [
            91723.4
           ],
           "y": [
            44.9
           ]
          }
         ],
         "name": "1992"
        },
        {
         "data": [
          {
           "marker": {
            "size": [
             7.8
            ],
            "sizemode": "area",
            "sizeref": 0.0046770833333333334
           },
           "mode": "markers",
           "name": "USA",
           "text": [
            "USA"
           ],
           "type": "scatter",
           "x": [
            71419.9
           ],
           "y": [
            7.8
           ]
          },
          {
           "marker": {
            "size": [
             6.2
            ],
            "sizemode": "area",
            "sizeref": 0.0046770833333333334
           },
           "mode": "markers",
           "name": "China",
           "text": [
            "China"
           ],
           "type": "scatter",
           "x": [
            116572.3
           ],
           "y": [
            6.2
           ]
          },
          {
           "marker": {
            "size": [
             42
            ],
            "sizemode": "area",
            "sizeref": 0.0046770833333333334
           },
           "mode": "markers",
           "name": "Japan",
           "text": [
            "Japan"
           ],
           "type": "scatter",
           "x": [
            34971.7
           ],
           "y": [
            42
           ]
          },
          {
           "marker": {
            "size": [
             31.4
            ],
            "sizemode": "area",
            "sizeref": 0.0046770833333333334
           },
           "mode": "markers",
           "name": "Australia",
           "text": [
            "Australia"
           ],
           "type": "scatter",
           "x": [
            149312.9
           ],
           "y": [
            31.4
           ]
          },
          {
           "marker": {
            "size": [
             3
            ],
            "sizemode": "area",
            "sizeref": 0.0046770833333333334
           },
           "mode": "markers",
           "name": "Germany",
           "text": [
            "Germany"
           ],
           "type": "scatter",
           "x": [
            4918.5
           ],
           "y": [
            3
           ]
          }
         ],
         "name": "1993"
        },
        {
         "data": [
          {
           "marker": {
            "size": [
             34
            ],
            "sizemode": "area",
            "sizeref": 0.0046770833333333334
           },
           "mode": "markers",
           "name": "USA",
           "text": [
            "USA"
           ],
           "type": "scatter",
           "x": [
            114068.5
           ],
           "y": [
            34
           ]
          },
          {
           "marker": {
            "size": [
             33.9
            ],
            "sizemode": "area",
            "sizeref": 0.0046770833333333334
           },
           "mode": "markers",
           "name": "China",
           "text": [
            "China"
           ],
           "type": "scatter",
           "x": [
            71099.1
           ],
           "y": [
            33.9
           ]
          },
          {
           "marker": {
            "size": [
             41.5
            ],
            "sizemode": "area",
            "sizeref": 0.0046770833333333334
           },
           "mode": "markers",
           "name": "Japan",
           "text": [
            "Japan"
           ],
           "type": "scatter",
           "x": [
            95096.4
           ],
           "y": [
            41.5
           ]
          },
          {
           "marker": {
            "size": [
             32
            ],
            "sizemode": "area",
            "sizeref": 0.0046770833333333334
           },
           "mode": "markers",
           "name": "Australia",
           "text": [
            "Australia"
           ],
           "type": "scatter",
           "x": [
            24097.9
           ],
           "y": [
            32
           ]
          },
          {
           "marker": {
            "size": [
             5.6
            ],
            "sizemode": "area",
            "sizeref": 0.0046770833333333334
           },
           "mode": "markers",
           "name": "Germany",
           "text": [
            "Germany"
           ],
           "type": "scatter",
           "x": [
            33893.8
           ],
           "y": [
            5.6
           ]
          }
         ],
         "name": "1994"
        },
        {
         "data": [
          {
           "marker": {
            "size": [
             0.9
            ],
            "sizemode": "area",
            "sizeref": 0.0046770833333333334
           },
           "mode": "markers",
           "name": "USA",
           "text": [
            "USA"
           ],
           "type": "scatter",
           "x": [
            136180.4
           ],
           "y": [
            0.9
           ]
          },
          {
           "marker": {
            "size": [
             1.2
            ],
            "sizemode": "area",
            "sizeref": 0.0046770833333333334
           },
           "mode": "markers",
           "name": "China",
           "text": [
            "China"
           ],
           "type": "scatter",
           "x": [
            164613
           ],
           "y": [
            1.2
           ]
          },
          {
           "marker": {
            "size": [
             1.3
            ],
            "sizemode": "area",
            "sizeref": 0.0046770833333333334
           },
           "mode": "markers",
           "name": "Japan",
           "text": [
            "Japan"
           ],
           "type": "scatter",
           "x": [
            53467.5
           ],
           "y": [
            1.3
           ]
          },
          {
           "marker": {
            "size": [
             11.1
            ],
            "sizemode": "area",
            "sizeref": 0.0046770833333333334
           },
           "mode": "markers",
           "name": "Australia",
           "text": [
            "Australia"
           ],
           "type": "scatter",
           "x": [
            117777.9
           ],
           "y": [
            11.1
           ]
          },
          {
           "marker": {
            "size": [
             38.7
            ],
            "sizemode": "area",
            "sizeref": 0.0046770833333333334
           },
           "mode": "markers",
           "name": "Germany",
           "text": [
            "Germany"
           ],
           "type": "scatter",
           "x": [
            149019.5
           ],
           "y": [
            38.7
           ]
          }
         ],
         "name": "1995"
        },
        {
         "data": [
          {
           "marker": {
            "size": [
             24.2
            ],
            "sizemode": "area",
            "sizeref": 0.0046770833333333334
           },
           "mode": "markers",
           "name": "USA",
           "text": [
            "USA"
           ],
           "type": "scatter",
           "x": [
            152111.6
           ],
           "y": [
            24.2
           ]
          },
          {
           "marker": {
            "size": [
             24.9
            ],
            "sizemode": "area",
            "sizeref": 0.0046770833333333334
           },
           "mode": "markers",
           "name": "China",
           "text": [
            "China"
           ],
           "type": "scatter",
           "x": [
            14704.6
           ],
           "y": [
            24.9
           ]
          },
          {
           "marker": {
            "size": [
             37.9
            ],
            "sizemode": "area",
            "sizeref": 0.0046770833333333334
           },
           "mode": "markers",
           "name": "Japan",
           "text": [
            "Japan"
           ],
           "type": "scatter",
           "x": [
            6898.8
           ],
           "y": [
            37.9
           ]
          },
          {
           "marker": {
            "size": [
             5.6
            ],
            "sizemode": "area",
            "sizeref": 0.0046770833333333334
           },
           "mode": "markers",
           "name": "Australia",
           "text": [
            "Australia"
           ],
           "type": "scatter",
           "x": [
            29095.3
           ],
           "y": [
            5.6
           ]
          },
          {
           "marker": {
            "size": [
             12.6
            ],
            "sizemode": "area",
            "sizeref": 0.0046770833333333334
           },
           "mode": "markers",
           "name": "Germany",
           "text": [
            "Germany"
           ],
           "type": "scatter",
           "x": [
            149317.1
           ],
           "y": [
            12.6
           ]
          }
         ],
         "name": "1996"
        },
        {
         "data": [
          {
           "marker": {
            "size": [
             26.4
            ],
            "sizemode": "area",
            "sizeref": 0.0046770833333333334
           },
           "mode": "markers",
           "name": "USA",
           "text": [
            "USA"
           ],
           "type": "scatter",
           "x": [
            16962.4
           ],
           "y": [
            26.4
           ]
          },
          {
           "marker": {
            "size": [
             43.6
            ],
            "sizemode": "area",
            "sizeref": 0.0046770833333333334
           },
           "mode": "markers",
           "name": "China",
           "text": [
            "China"
           ],
           "type": "scatter",
           "x": [
            71744.6
           ],
           "y": [
            43.6
           ]
          },
          {
           "marker": {
            "size": [
             25.2
            ],
            "sizemode": "area",
            "sizeref": 0.0046770833333333334
           },
           "mode": "markers",
           "name": "Japan",
           "text": [
            "Japan"
           ],
           "type": "scatter",
           "x": [
            162852.6
           ],
           "y": [
            25.2
           ]
          },
          {
           "marker": {
            "size": [
             0.8
            ],
            "sizemode": "area",
            "sizeref": 0.0046770833333333334
           },
           "mode": "markers",
           "name": "Australia",
           "text": [
            "Australia"
           ],
           "type": "scatter",
           "x": [
            90764.1
           ],
           "y": [
            0.8
           ]
          },
          {
           "marker": {
            "size": [
             36
            ],
            "sizemode": "area",
            "sizeref": 0.0046770833333333334
           },
           "mode": "markers",
           "name": "Germany",
           "text": [
            "Germany"
           ],
           "type": "scatter",
           "x": [
            117702.3
           ],
           "y": [
            36
           ]
          }
         ],
         "name": "1997"
        },
        {
         "data": [
          {
           "marker": {
            "size": [
             10.5
            ],
            "sizemode": "area",
            "sizeref": 0.0046770833333333334
           },
           "mode": "markers",
           "name": "USA",
           "text": [
            "USA"
           ],
           "type": "scatter",
           "x": [
            53822.5
           ],
           "y": [
            10.5
           ]
          },
          {
           "marker": {
            "size": [
             36.3
            ],
            "sizemode": "area",
            "sizeref": 0.0046770833333333334
           },
           "mode": "markers",
           "name": "China",
           "text": [
            "China"
           ],
           "type": "scatter",
           "x": [
            116789.8
           ],
           "y": [
            36.3
           ]
          },
          {
           "marker": {
            "size": [
             17.5
            ],
            "sizemode": "area",
            "sizeref": 0.0046770833333333334
           },
           "mode": "markers",
           "name": "Japan",
           "text": [
            "Japan"
           ],
           "type": "scatter",
           "x": [
            141931
           ],
           "y": [
            17.5
           ]
          },
          {
           "marker": {
            "size": [
             38.9
            ],
            "sizemode": "area",
            "sizeref": 0.0046770833333333334
           },
           "mode": "markers",
           "name": "Australia",
           "text": [
            "Australia"
           ],
           "type": "scatter",
           "x": [
            3374.1
           ],
           "y": [
            38.9
           ]
          },
          {
           "marker": {
            "size": [
             33.6
            ],
            "sizemode": "area",
            "sizeref": 0.0046770833333333334
           },
           "mode": "markers",
           "name": "Germany",
           "text": [
            "Germany"
           ],
           "type": "scatter",
           "x": [
            127592
           ],
           "y": [
            33.6
           ]
          }
         ],
         "name": "1998"
        },
        {
         "data": [
          {
           "marker": {
            "size": [
             25
            ],
            "sizemode": "area",
            "sizeref": 0.0046770833333333334
           },
           "mode": "markers",
           "name": "USA",
           "text": [
            "USA"
           ],
           "type": "scatter",
           "x": [
            168109.4
           ],
           "y": [
            25
           ]
          },
          {
           "marker": {
            "size": [
             6.1
            ],
            "sizemode": "area",
            "sizeref": 0.0046770833333333334
           },
           "mode": "markers",
           "name": "China",
           "text": [
            "China"
           ],
           "type": "scatter",
           "x": [
            127256.2
           ],
           "y": [
            6.1
           ]
          },
          {
           "marker": {
            "size": [
             2.7
            ],
            "sizemode": "area",
            "sizeref": 0.0046770833333333334
           },
           "mode": "markers",
           "name": "Japan",
           "text": [
            "Japan"
           ],
           "type": "scatter",
           "x": [
            47869.8
           ],
           "y": [
            2.7
           ]
          },
          {
           "marker": {
            "size": [
             5.5
            ],
            "sizemode": "area",
            "sizeref": 0.0046770833333333334
           },
           "mode": "markers",
           "name": "Australia",
           "text": [
            "Australia"
           ],
           "type": "scatter",
           "x": [
            134234.4
           ],
           "y": [
            5.5
           ]
          },
          {
           "marker": {
            "size": [
             2
            ],
            "sizemode": "area",
            "sizeref": 0.0046770833333333334
           },
           "mode": "markers",
           "name": "Germany",
           "text": [
            "Germany"
           ],
           "type": "scatter",
           "x": [
            17790.6
           ],
           "y": [
            2
           ]
          }
         ],
         "name": "1999"
        },
        {
         "data": [
          {
           "marker": {
            "size": [
             4.8
            ],
            "sizemode": "area",
            "sizeref": 0.0046770833333333334
           },
           "mode": "markers",
           "name": "USA",
           "text": [
            "USA"
           ],
           "type": "scatter",
           "x": [
            76291
           ],
           "y": [
            4.8
           ]
          },
          {
           "marker": {
            "size": [
             10.2
            ],
            "sizemode": "area",
            "sizeref": 0.0046770833333333334
           },
           "mode": "markers",
           "name": "China",
           "text": [
            "China"
           ],
           "type": "scatter",
           "x": [
            154485.9
           ],
           "y": [
            10.2
           ]
          },
          {
           "marker": {
            "size": [
             32.1
            ],
            "sizemode": "area",
            "sizeref": 0.0046770833333333334
           },
           "mode": "markers",
           "name": "Japan",
           "text": [
            "Japan"
           ],
           "type": "scatter",
           "x": [
            50105.1
           ],
           "y": [
            32.1
           ]
          },
          {
           "marker": {
            "size": [
             25.2
            ],
            "sizemode": "area",
            "sizeref": 0.0046770833333333334
           },
           "mode": "markers",
           "name": "Australia",
           "text": [
            "Australia"
           ],
           "type": "scatter",
           "x": [
            49114.1
           ],
           "y": [
            25.2
           ]
          },
          {
           "marker": {
            "size": [
             0.6
            ],
            "sizemode": "area",
            "sizeref": 0.0046770833333333334
           },
           "mode": "markers",
           "name": "Germany",
           "text": [
            "Germany"
           ],
           "type": "scatter",
           "x": [
            22339.7
           ],
           "y": [
            0.6
           ]
          }
         ],
         "name": "2000"
        },
        {
         "data": [
          {
           "marker": {
            "size": [
             3.2
            ],
            "sizemode": "area",
            "sizeref": 0.0046770833333333334
           },
           "mode": "markers",
           "name": "USA",
           "text": [
            "USA"
           ],
           "type": "scatter",
           "x": [
            3557.2
           ],
           "y": [
            3.2
           ]
          },
          {
           "marker": {
            "size": [
             43.5
            ],
            "sizemode": "area",
            "sizeref": 0.0046770833333333334
           },
           "mode": "markers",
           "name": "China",
           "text": [
            "China"
           ],
           "type": "scatter",
           "x": [
            115488.8
           ],
           "y": [
            43.5
           ]
          },
          {
           "marker": {
            "size": [
             25.6
            ],
            "sizemode": "area",
            "sizeref": 0.0046770833333333334
           },
           "mode": "markers",
           "name": "Japan",
           "text": [
            "Japan"
           ],
           "type": "scatter",
           "x": [
            36189.6
           ],
           "y": [
            25.6
           ]
          },
          {
           "marker": {
            "size": [
             9.1
            ],
            "sizemode": "area",
            "sizeref": 0.0046770833333333334
           },
           "mode": "markers",
           "name": "Australia",
           "text": [
            "Australia"
           ],
           "type": "scatter",
           "x": [
            45341.2
           ],
           "y": [
            9.1
           ]
          },
          {
           "marker": {
            "size": [
             11.4
            ],
            "sizemode": "area",
            "sizeref": 0.0046770833333333334
           },
           "mode": "markers",
           "name": "Germany",
           "text": [
            "Germany"
           ],
           "type": "scatter",
           "x": [
            83704.7
           ],
           "y": [
            11.4
           ]
          }
         ],
         "name": "2001"
        },
        {
         "data": [
          {
           "marker": {
            "size": [
             33.5
            ],
            "sizemode": "area",
            "sizeref": 0.0046770833333333334
           },
           "mode": "markers",
           "name": "USA",
           "text": [
            "USA"
           ],
           "type": "scatter",
           "x": [
            9327.2
           ],
           "y": [
            33.5
           ]
          },
          {
           "marker": {
            "size": [
             8.8
            ],
            "sizemode": "area",
            "sizeref": 0.0046770833333333334
           },
           "mode": "markers",
           "name": "China",
           "text": [
            "China"
           ],
           "type": "scatter",
           "x": [
            97715
           ],
           "y": [
            8.8
           ]
          },
          {
           "marker": {
            "size": [
             26.2
            ],
            "sizemode": "area",
            "sizeref": 0.0046770833333333334
           },
           "mode": "markers",
           "name": "Japan",
           "text": [
            "Japan"
           ],
           "type": "scatter",
           "x": [
            25174.2
           ],
           "y": [
            26.2
           ]
          },
          {
           "marker": {
            "size": [
             43.7
            ],
            "sizemode": "area",
            "sizeref": 0.0046770833333333334
           },
           "mode": "markers",
           "name": "Australia",
           "text": [
            "Australia"
           ],
           "type": "scatter",
           "x": [
            100292.8
           ],
           "y": [
            43.7
           ]
          },
          {
           "marker": {
            "size": [
             38.1
            ],
            "sizemode": "area",
            "sizeref": 0.0046770833333333334
           },
           "mode": "markers",
           "name": "Germany",
           "text": [
            "Germany"
           ],
           "type": "scatter",
           "x": [
            119040
           ],
           "y": [
            38.1
           ]
          }
         ],
         "name": "2002"
        },
        {
         "data": [
          {
           "marker": {
            "size": [
             10.8
            ],
            "sizemode": "area",
            "sizeref": 0.0046770833333333334
           },
           "mode": "markers",
           "name": "USA",
           "text": [
            "USA"
           ],
           "type": "scatter",
           "x": [
            17639.2
           ],
           "y": [
            10.8
           ]
          },
          {
           "marker": {
            "size": [
             22.2
            ],
            "sizemode": "area",
            "sizeref": 0.0046770833333333334
           },
           "mode": "markers",
           "name": "China",
           "text": [
            "China"
           ],
           "type": "scatter",
           "x": [
            70547.7
           ],
           "y": [
            22.2
           ]
          },
          {
           "marker": {
            "size": [
             27.9
            ],
            "sizemode": "area",
            "sizeref": 0.0046770833333333334
           },
           "mode": "markers",
           "name": "Japan",
           "text": [
            "Japan"
           ],
           "type": "scatter",
           "x": [
            118130.5
           ],
           "y": [
            27.9
           ]
          },
          {
           "marker": {
            "size": [
             37.3
            ],
            "sizemode": "area",
            "sizeref": 0.0046770833333333334
           },
           "mode": "markers",
           "name": "Australia",
           "text": [
            "Australia"
           ],
           "type": "scatter",
           "x": [
            70568.6
           ],
           "y": [
            37.3
           ]
          },
          {
           "marker": {
            "size": [
             7.1
            ],
            "sizemode": "area",
            "sizeref": 0.0046770833333333334
           },
           "mode": "markers",
           "name": "Germany",
           "text": [
            "Germany"
           ],
           "type": "scatter",
           "x": [
            8748.6
           ],
           "y": [
            7.1
           ]
          }
         ],
         "name": "2003"
        },
        {
         "data": [
          {
           "marker": {
            "size": [
             0.8
            ],
            "sizemode": "area",
            "sizeref": 0.0046770833333333334
           },
           "mode": "markers",
           "name": "USA",
           "text": [
            "USA"
           ],
           "type": "scatter",
           "x": [
            91227.7
           ],
           "y": [
            0.8
           ]
          },
          {
           "marker": {
            "size": [
             3.2
            ],
            "sizemode": "area",
            "sizeref": 0.0046770833333333334
           },
           "mode": "markers",
           "name": "China",
           "text": [
            "China"
           ],
           "type": "scatter",
           "x": [
            112935.9
           ],
           "y": [
            3.2
           ]
          },
          {
           "marker": {
            "size": [
             21.9
            ],
            "sizemode": "area",
            "sizeref": 0.0046770833333333334
           },
           "mode": "markers",
           "name": "Japan",
           "text": [
            "Japan"
           ],
           "type": "scatter",
           "x": [
            87662.1
           ],
           "y": [
            21.9
           ]
          },
          {
           "marker": {
            "size": [
             27.3
            ],
            "sizemode": "area",
            "sizeref": 0.0046770833333333334
           },
           "mode": "markers",
           "name": "Australia",
           "text": [
            "Australia"
           ],
           "type": "scatter",
           "x": [
            160596.1
           ],
           "y": [
            27.3
           ]
          },
          {
           "marker": {
            "size": [
             25.6
            ],
            "sizemode": "area",
            "sizeref": 0.0046770833333333334
           },
           "mode": "markers",
           "name": "Germany",
           "text": [
            "Germany"
           ],
           "type": "scatter",
           "x": [
            99826
           ],
           "y": [
            25.6
           ]
          }
         ],
         "name": "2004"
        },
        {
         "data": [
          {
           "marker": {
            "size": [
             14.3
            ],
            "sizemode": "area",
            "sizeref": 0.0046770833333333334
           },
           "mode": "markers",
           "name": "USA",
           "text": [
            "USA"
           ],
           "type": "scatter",
           "x": [
            153604.4
           ],
           "y": [
            14.3
           ]
          },
          {
           "marker": {
            "size": [
             44.5
            ],
            "sizemode": "area",
            "sizeref": 0.0046770833333333334
           },
           "mode": "markers",
           "name": "China",
           "text": [
            "China"
           ],
           "type": "scatter",
           "x": [
            23603.6
           ],
           "y": [
            44.5
           ]
          },
          {
           "marker": {
            "size": [
             26.1
            ],
            "sizemode": "area",
            "sizeref": 0.0046770833333333334
           },
           "mode": "markers",
           "name": "Japan",
           "text": [
            "Japan"
           ],
           "type": "scatter",
           "x": [
            23909.4
           ],
           "y": [
            26.1
           ]
          },
          {
           "marker": {
            "size": [
             17.1
            ],
            "sizemode": "area",
            "sizeref": 0.0046770833333333334
           },
           "mode": "markers",
           "name": "Australia",
           "text": [
            "Australia"
           ],
           "type": "scatter",
           "x": [
            137308.5
           ],
           "y": [
            17.1
           ]
          },
          {
           "marker": {
            "size": [
             24.8
            ],
            "sizemode": "area",
            "sizeref": 0.0046770833333333334
           },
           "mode": "markers",
           "name": "Germany",
           "text": [
            "Germany"
           ],
           "type": "scatter",
           "x": [
            67767.7
           ],
           "y": [
            24.8
           ]
          }
         ],
         "name": "2005"
        },
        {
         "data": [
          {
           "marker": {
            "size": [
             33.5
            ],
            "sizemode": "area",
            "sizeref": 0.0046770833333333334
           },
           "mode": "markers",
           "name": "USA",
           "text": [
            "USA"
           ],
           "type": "scatter",
           "x": [
            28335.6
           ],
           "y": [
            33.5
           ]
          },
          {
           "marker": {
            "size": [
             30.1
            ],
            "sizemode": "area",
            "sizeref": 0.0046770833333333334
           },
           "mode": "markers",
           "name": "China",
           "text": [
            "China"
           ],
           "type": "scatter",
           "x": [
            157696
           ],
           "y": [
            30.1
           ]
          },
          {
           "marker": {
            "size": [
             11.9
            ],
            "sizemode": "area",
            "sizeref": 0.0046770833333333334
           },
           "mode": "markers",
           "name": "Japan",
           "text": [
            "Japan"
           ],
           "type": "scatter",
           "x": [
            59296.3
           ],
           "y": [
            11.9
           ]
          },
          {
           "marker": {
            "size": [
             3
            ],
            "sizemode": "area",
            "sizeref": 0.0046770833333333334
           },
           "mode": "markers",
           "name": "Australia",
           "text": [
            "Australia"
           ],
           "type": "scatter",
           "x": [
            127705.3
           ],
           "y": [
            3
           ]
          },
          {
           "marker": {
            "size": [
             16.7
            ],
            "sizemode": "area",
            "sizeref": 0.0046770833333333334
           },
           "mode": "markers",
           "name": "Germany",
           "text": [
            "Germany"
           ],
           "type": "scatter",
           "x": [
            123493.6
           ],
           "y": [
            16.7
           ]
          }
         ],
         "name": "2006"
        },
        {
         "data": [
          {
           "marker": {
            "size": [
             28.3
            ],
            "sizemode": "area",
            "sizeref": 0.0046770833333333334
           },
           "mode": "markers",
           "name": "USA",
           "text": [
            "USA"
           ],
           "type": "scatter",
           "x": [
            150193.5
           ],
           "y": [
            28.3
           ]
          },
          {
           "marker": {
            "size": [
             9.5
            ],
            "sizemode": "area",
            "sizeref": 0.0046770833333333334
           },
           "mode": "markers",
           "name": "China",
           "text": [
            "China"
           ],
           "type": "scatter",
           "x": [
            106125.9
           ],
           "y": [
            9.5
           ]
          },
          {
           "marker": {
            "size": [
             33.9
            ],
            "sizemode": "area",
            "sizeref": 0.0046770833333333334
           },
           "mode": "markers",
           "name": "Japan",
           "text": [
            "Japan"
           ],
           "type": "scatter",
           "x": [
            127727.5
           ],
           "y": [
            33.9
           ]
          },
          {
           "marker": {
            "size": [
             3
            ],
            "sizemode": "area",
            "sizeref": 0.0046770833333333334
           },
           "mode": "markers",
           "name": "Australia",
           "text": [
            "Australia"
           ],
           "type": "scatter",
           "x": [
            59488.5
           ],
           "y": [
            3
           ]
          },
          {
           "marker": {
            "size": [
             11.7
            ],
            "sizemode": "area",
            "sizeref": 0.0046770833333333334
           },
           "mode": "markers",
           "name": "Germany",
           "text": [
            "Germany"
           ],
           "type": "scatter",
           "x": [
            46084.9
           ],
           "y": [
            11.7
           ]
          }
         ],
         "name": "2007"
        },
        {
         "data": [
          {
           "marker": {
            "size": [
             36.2
            ],
            "sizemode": "area",
            "sizeref": 0.0046770833333333334
           },
           "mode": "markers",
           "name": "USA",
           "text": [
            "USA"
           ],
           "type": "scatter",
           "x": [
            152328.8
           ],
           "y": [
            36.2
           ]
          },
          {
           "marker": {
            "size": [
             8.7
            ],
            "sizemode": "area",
            "sizeref": 0.0046770833333333334
           },
           "mode": "markers",
           "name": "China",
           "text": [
            "China"
           ],
           "type": "scatter",
           "x": [
            72929.9
           ],
           "y": [
            8.7
           ]
          },
          {
           "marker": {
            "size": [
             28.8
            ],
            "sizemode": "area",
            "sizeref": 0.0046770833333333334
           },
           "mode": "markers",
           "name": "Japan",
           "text": [
            "Japan"
           ],
           "type": "scatter",
           "x": [
            164032.3
           ],
           "y": [
            28.8
           ]
          },
          {
           "marker": {
            "size": [
             23.6
            ],
            "sizemode": "area",
            "sizeref": 0.0046770833333333334
           },
           "mode": "markers",
           "name": "Australia",
           "text": [
            "Australia"
           ],
           "type": "scatter",
           "x": [
            112875.9
           ],
           "y": [
            23.6
           ]
          },
          {
           "marker": {
            "size": [
             41.6
            ],
            "sizemode": "area",
            "sizeref": 0.0046770833333333334
           },
           "mode": "markers",
           "name": "Germany",
           "text": [
            "Germany"
           ],
           "type": "scatter",
           "x": [
            105790.4
           ],
           "y": [
            41.6
           ]
          }
         ],
         "name": "2008"
        },
        {
         "data": [
          {
           "marker": {
            "size": [
             11.8
            ],
            "sizemode": "area",
            "sizeref": 0.0046770833333333334
           },
           "mode": "markers",
           "name": "USA",
           "text": [
            "USA"
           ],
           "type": "scatter",
           "x": [
            19745.8
           ],
           "y": [
            11.8
           ]
          },
          {
           "marker": {
            "size": [
             3
            ],
            "sizemode": "area",
            "sizeref": 0.0046770833333333334
           },
           "mode": "markers",
           "name": "China",
           "text": [
            "China"
           ],
           "type": "scatter",
           "x": [
            161426.8
           ],
           "y": [
            3
           ]
          },
          {
           "marker": {
            "size": [
             33.1
            ],
            "sizemode": "area",
            "sizeref": 0.0046770833333333334
           },
           "mode": "markers",
           "name": "Japan",
           "text": [
            "Japan"
           ],
           "type": "scatter",
           "x": [
            76633.6
           ],
           "y": [
            33.1
           ]
          },
          {
           "marker": {
            "size": [
             34.7
            ],
            "sizemode": "area",
            "sizeref": 0.0046770833333333334
           },
           "mode": "markers",
           "name": "Australia",
           "text": [
            "Australia"
           ],
           "type": "scatter",
           "x": [
            98440.1
           ],
           "y": [
            34.7
           ]
          },
          {
           "marker": {
            "size": [
             40.9
            ],
            "sizemode": "area",
            "sizeref": 0.0046770833333333334
           },
           "mode": "markers",
           "name": "Germany",
           "text": [
            "Germany"
           ],
           "type": "scatter",
           "x": [
            69543.1
           ],
           "y": [
            40.9
           ]
          }
         ],
         "name": "2009"
        },
        {
         "data": [
          {
           "marker": {
            "size": [
             41.9
            ],
            "sizemode": "area",
            "sizeref": 0.0046770833333333334
           },
           "mode": "markers",
           "name": "USA",
           "text": [
            "USA"
           ],
           "type": "scatter",
           "x": [
            40500.6
           ],
           "y": [
            41.9
           ]
          },
          {
           "marker": {
            "size": [
             0.6
            ],
            "sizemode": "area",
            "sizeref": 0.0046770833333333334
           },
           "mode": "markers",
           "name": "China",
           "text": [
            "China"
           ],
           "type": "scatter",
           "x": [
            153600.6
           ],
           "y": [
            0.6
           ]
          },
          {
           "marker": {
            "size": [
             10.5
            ],
            "sizemode": "area",
            "sizeref": 0.0046770833333333334
           },
           "mode": "markers",
           "name": "Japan",
           "text": [
            "Japan"
           ],
           "type": "scatter",
           "x": [
            97640.6
           ],
           "y": [
            10.5
           ]
          },
          {
           "marker": {
            "size": [
             27.8
            ],
            "sizemode": "area",
            "sizeref": 0.0046770833333333334
           },
           "mode": "markers",
           "name": "Australia",
           "text": [
            "Australia"
           ],
           "type": "scatter",
           "x": [
            757.2
           ],
           "y": [
            27.8
           ]
          },
          {
           "marker": {
            "size": [
             42.7
            ],
            "sizemode": "area",
            "sizeref": 0.0046770833333333334
           },
           "mode": "markers",
           "name": "Germany",
           "text": [
            "Germany"
           ],
           "type": "scatter",
           "x": [
            105018
           ],
           "y": [
            42.7
           ]
          }
         ],
         "name": "2010"
        }
       ],
       "layout": {
        "height": 650,
        "hovermode": "closest",
        "margin": {
         "b": 50,
         "pad": 5,
         "t": 50
        },
        "showlegend": true,
        "sliders": [
         {
          "active": 0,
          "currentvalue": {
           "font": {
            "size": 20
           },
           "prefix": "Year:",
           "visible": true,
           "xanchor": "right"
          },
          "len": 0.9,
          "pad": {
           "b": 10,
           "t": 50
          },
          "steps": [
           {
            "args": [
             [
              1991
             ],
             {
              "frame": {
               "duration": 300,
               "redraw": false
              },
              "mode": "immediate",
              "transition": {
               "duration": 300
              }
             }
            ],
            "label": "1991",
            "method": "animate"
           },
           {
            "args": [
             [
              1992
             ],
             {
              "frame": {
               "duration": 300,
               "redraw": false
              },
              "mode": "immediate",
              "transition": {
               "duration": 300
              }
             }
            ],
            "label": "1992",
            "method": "animate"
           },
           {
            "args": [
             [
              1993
             ],
             {
              "frame": {
               "duration": 300,
               "redraw": false
              },
              "mode": "immediate",
              "transition": {
               "duration": 300
              }
             }
            ],
            "label": "1993",
            "method": "animate"
           },
           {
            "args": [
             [
              1994
             ],
             {
              "frame": {
               "duration": 300,
               "redraw": false
              },
              "mode": "immediate",
              "transition": {
               "duration": 300
              }
             }
            ],
            "label": "1994",
            "method": "animate"
           },
           {
            "args": [
             [
              1995
             ],
             {
              "frame": {
               "duration": 300,
               "redraw": false
              },
              "mode": "immediate",
              "transition": {
               "duration": 300
              }
             }
            ],
            "label": "1995",
            "method": "animate"
           },
           {
            "args": [
             [
              1996
             ],
             {
              "frame": {
               "duration": 300,
               "redraw": false
              },
              "mode": "immediate",
              "transition": {
               "duration": 300
              }
             }
            ],
            "label": "1996",
            "method": "animate"
           },
           {
            "args": [
             [
              1997
             ],
             {
              "frame": {
               "duration": 300,
               "redraw": false
              },
              "mode": "immediate",
              "transition": {
               "duration": 300
              }
             }
            ],
            "label": "1997",
            "method": "animate"
           },
           {
            "args": [
             [
              1998
             ],
             {
              "frame": {
               "duration": 300,
               "redraw": false
              },
              "mode": "immediate",
              "transition": {
               "duration": 300
              }
             }
            ],
            "label": "1998",
            "method": "animate"
           },
           {
            "args": [
             [
              1999
             ],
             {
              "frame": {
               "duration": 300,
               "redraw": false
              },
              "mode": "immediate",
              "transition": {
               "duration": 300
              }
             }
            ],
            "label": "1999",
            "method": "animate"
           },
           {
            "args": [
             [
              2000
             ],
             {
              "frame": {
               "duration": 300,
               "redraw": false
              },
              "mode": "immediate",
              "transition": {
               "duration": 300
              }
             }
            ],
            "label": "2000",
            "method": "animate"
           },
           {
            "args": [
             [
              2001
             ],
             {
              "frame": {
               "duration": 300,
               "redraw": false
              },
              "mode": "immediate",
              "transition": {
               "duration": 300
              }
             }
            ],
            "label": "2001",
            "method": "animate"
           },
           {
            "args": [
             [
              2002
             ],
             {
              "frame": {
               "duration": 300,
               "redraw": false
              },
              "mode": "immediate",
              "transition": {
               "duration": 300
              }
             }
            ],
            "label": "2002",
            "method": "animate"
           },
           {
            "args": [
             [
              2003
             ],
             {
              "frame": {
               "duration": 300,
               "redraw": false
              },
              "mode": "immediate",
              "transition": {
               "duration": 300
              }
             }
            ],
            "label": "2003",
            "method": "animate"
           },
           {
            "args": [
             [
              2004
             ],
             {
              "frame": {
               "duration": 300,
               "redraw": false
              },
              "mode": "immediate",
              "transition": {
               "duration": 300
              }
             }
            ],
            "label": "2004",
            "method": "animate"
           },
           {
            "args": [
             [
              2005
             ],
             {
              "frame": {
               "duration": 300,
               "redraw": false
              },
              "mode": "immediate",
              "transition": {
               "duration": 300
              }
             }
            ],
            "label": "2005",
            "method": "animate"
           },
           {
            "args": [
             [
              2006
             ],
             {
              "frame": {
               "duration": 300,
               "redraw": false
              },
              "mode": "immediate",
              "transition": {
               "duration": 300
              }
             }
            ],
            "label": "2006",
            "method": "animate"
           },
           {
            "args": [
             [
              2007
             ],
             {
              "frame": {
               "duration": 300,
               "redraw": false
              },
              "mode": "immediate",
              "transition": {
               "duration": 300
              }
             }
            ],
            "label": "2007",
            "method": "animate"
           },
           {
            "args": [
             [
              2008
             ],
             {
              "frame": {
               "duration": 300,
               "redraw": false
              },
              "mode": "immediate",
              "transition": {
               "duration": 300
              }
             }
            ],
            "label": "2008",
            "method": "animate"
           },
           {
            "args": [
             [
              2009
             ],
             {
              "frame": {
               "duration": 300,
               "redraw": false
              },
              "mode": "immediate",
              "transition": {
               "duration": 300
              }
             }
            ],
            "label": "2009",
            "method": "animate"
           },
           {
            "args": [
             [
              2010
             ],
             {
              "frame": {
               "duration": 300,
               "redraw": false
              },
              "mode": "immediate",
              "transition": {
               "duration": 300
              }
             }
            ],
            "label": "2010",
            "method": "animate"
           }
          ],
          "transition": {
           "duration": 300,
           "easing": "cubic-in-out"
          },
          "x": 0.1,
          "xanchor": "left",
          "y": 0,
          "yanchor": "top"
         }
        ],
        "template": {
         "data": {
          "bar": [
           {
            "error_x": {
             "color": "#2a3f5f"
            },
            "error_y": {
             "color": "#2a3f5f"
            },
            "marker": {
             "line": {
              "color": "#E5ECF6",
              "width": 0.5
             }
            },
            "type": "bar"
           }
          ],
          "barpolar": [
           {
            "marker": {
             "line": {
              "color": "#E5ECF6",
              "width": 0.5
             }
            },
            "type": "barpolar"
           }
          ],
          "carpet": [
           {
            "aaxis": {
             "endlinecolor": "#2a3f5f",
             "gridcolor": "white",
             "linecolor": "white",
             "minorgridcolor": "white",
             "startlinecolor": "#2a3f5f"
            },
            "baxis": {
             "endlinecolor": "#2a3f5f",
             "gridcolor": "white",
             "linecolor": "white",
             "minorgridcolor": "white",
             "startlinecolor": "#2a3f5f"
            },
            "type": "carpet"
           }
          ],
          "choropleth": [
           {
            "colorbar": {
             "outlinewidth": 0,
             "ticks": ""
            },
            "type": "choropleth"
           }
          ],
          "contour": [
           {
            "colorbar": {
             "outlinewidth": 0,
             "ticks": ""
            },
            "colorscale": [
             [
              0,
              "#0d0887"
             ],
             [
              0.1111111111111111,
              "#46039f"
             ],
             [
              0.2222222222222222,
              "#7201a8"
             ],
             [
              0.3333333333333333,
              "#9c179e"
             ],
             [
              0.4444444444444444,
              "#bd3786"
             ],
             [
              0.5555555555555556,
              "#d8576b"
             ],
             [
              0.6666666666666666,
              "#ed7953"
             ],
             [
              0.7777777777777778,
              "#fb9f3a"
             ],
             [
              0.8888888888888888,
              "#fdca26"
             ],
             [
              1,
              "#f0f921"
             ]
            ],
            "type": "contour"
           }
          ],
          "contourcarpet": [
           {
            "colorbar": {
             "outlinewidth": 0,
             "ticks": ""
            },
            "type": "contourcarpet"
           }
          ],
          "heatmap": [
           {
            "colorbar": {
             "outlinewidth": 0,
             "ticks": ""
            },
            "colorscale": [
             [
              0,
              "#0d0887"
             ],
             [
              0.1111111111111111,
              "#46039f"
             ],
             [
              0.2222222222222222,
              "#7201a8"
             ],
             [
              0.3333333333333333,
              "#9c179e"
             ],
             [
              0.4444444444444444,
              "#bd3786"
             ],
             [
              0.5555555555555556,
              "#d8576b"
             ],
             [
              0.6666666666666666,
              "#ed7953"
             ],
             [
              0.7777777777777778,
              "#fb9f3a"
             ],
             [
              0.8888888888888888,
              "#fdca26"
             ],
             [
              1,
              "#f0f921"
             ]
            ],
            "type": "heatmap"
           }
          ],
          "heatmapgl": [
           {
            "colorbar": {
             "outlinewidth": 0,
             "ticks": ""
            },
            "colorscale": [
             [
              0,
              "#0d0887"
             ],
             [
              0.1111111111111111,
              "#46039f"
             ],
             [
              0.2222222222222222,
              "#7201a8"
             ],
             [
              0.3333333333333333,
              "#9c179e"
             ],
             [
              0.4444444444444444,
              "#bd3786"
             ],
             [
              0.5555555555555556,
              "#d8576b"
             ],
             [
              0.6666666666666666,
              "#ed7953"
             ],
             [
              0.7777777777777778,
              "#fb9f3a"
             ],
             [
              0.8888888888888888,
              "#fdca26"
             ],
             [
              1,
              "#f0f921"
             ]
            ],
            "type": "heatmapgl"
           }
          ],
          "histogram": [
           {
            "marker": {
             "colorbar": {
              "outlinewidth": 0,
              "ticks": ""
             }
            },
            "type": "histogram"
           }
          ],
          "histogram2d": [
           {
            "colorbar": {
             "outlinewidth": 0,
             "ticks": ""
            },
            "colorscale": [
             [
              0,
              "#0d0887"
             ],
             [
              0.1111111111111111,
              "#46039f"
             ],
             [
              0.2222222222222222,
              "#7201a8"
             ],
             [
              0.3333333333333333,
              "#9c179e"
             ],
             [
              0.4444444444444444,
              "#bd3786"
             ],
             [
              0.5555555555555556,
              "#d8576b"
             ],
             [
              0.6666666666666666,
              "#ed7953"
             ],
             [
              0.7777777777777778,
              "#fb9f3a"
             ],
             [
              0.8888888888888888,
              "#fdca26"
             ],
             [
              1,
              "#f0f921"
             ]
            ],
            "type": "histogram2d"
           }
          ],
          "histogram2dcontour": [
           {
            "colorbar": {
             "outlinewidth": 0,
             "ticks": ""
            },
            "colorscale": [
             [
              0,
              "#0d0887"
             ],
             [
              0.1111111111111111,
              "#46039f"
             ],
             [
              0.2222222222222222,
              "#7201a8"
             ],
             [
              0.3333333333333333,
              "#9c179e"
             ],
             [
              0.4444444444444444,
              "#bd3786"
             ],
             [
              0.5555555555555556,
              "#d8576b"
             ],
             [
              0.6666666666666666,
              "#ed7953"
             ],
             [
              0.7777777777777778,
              "#fb9f3a"
             ],
             [
              0.8888888888888888,
              "#fdca26"
             ],
             [
              1,
              "#f0f921"
             ]
            ],
            "type": "histogram2dcontour"
           }
          ],
          "mesh3d": [
           {
            "colorbar": {
             "outlinewidth": 0,
             "ticks": ""
            },
            "type": "mesh3d"
           }
          ],
          "parcoords": [
           {
            "line": {
             "colorbar": {
              "outlinewidth": 0,
              "ticks": ""
             }
            },
            "type": "parcoords"
           }
          ],
          "scatter": [
           {
            "marker": {
             "colorbar": {
              "outlinewidth": 0,
              "ticks": ""
             }
            },
            "type": "scatter"
           }
          ],
          "scatter3d": [
           {
            "line": {
             "colorbar": {
              "outlinewidth": 0,
              "ticks": ""
             }
            },
            "marker": {
             "colorbar": {
              "outlinewidth": 0,
              "ticks": ""
             }
            },
            "type": "scatter3d"
           }
          ],
          "scattercarpet": [
           {
            "marker": {
             "colorbar": {
              "outlinewidth": 0,
              "ticks": ""
             }
            },
            "type": "scattercarpet"
           }
          ],
          "scattergeo": [
           {
            "marker": {
             "colorbar": {
              "outlinewidth": 0,
              "ticks": ""
             }
            },
            "type": "scattergeo"
           }
          ],
          "scattergl": [
           {
            "marker": {
             "colorbar": {
              "outlinewidth": 0,
              "ticks": ""
             }
            },
            "type": "scattergl"
           }
          ],
          "scattermapbox": [
           {
            "marker": {
             "colorbar": {
              "outlinewidth": 0,
              "ticks": ""
             }
            },
            "type": "scattermapbox"
           }
          ],
          "scatterpolar": [
           {
            "marker": {
             "colorbar": {
              "outlinewidth": 0,
              "ticks": ""
             }
            },
            "type": "scatterpolar"
           }
          ],
          "scatterpolargl": [
           {
            "marker": {
             "colorbar": {
              "outlinewidth": 0,
              "ticks": ""
             }
            },
            "type": "scatterpolargl"
           }
          ],
          "scatterternary": [
           {
            "marker": {
             "colorbar": {
              "outlinewidth": 0,
              "ticks": ""
             }
            },
            "type": "scatterternary"
           }
          ],
          "surface": [
           {
            "colorbar": {
             "outlinewidth": 0,
             "ticks": ""
            },
            "colorscale": [
             [
              0,
              "#0d0887"
             ],
             [
              0.1111111111111111,
              "#46039f"
             ],
             [
              0.2222222222222222,
              "#7201a8"
             ],
             [
              0.3333333333333333,
              "#9c179e"
             ],
             [
              0.4444444444444444,
              "#bd3786"
             ],
             [
              0.5555555555555556,
              "#d8576b"
             ],
             [
              0.6666666666666666,
              "#ed7953"
             ],
             [
              0.7777777777777778,
              "#fb9f3a"
             ],
             [
              0.8888888888888888,
              "#fdca26"
             ],
             [
              1,
              "#f0f921"
             ]
            ],
            "type": "surface"
           }
          ],
          "table": [
           {
            "cells": {
             "fill": {
              "color": "#EBF0F8"
             },
             "line": {
              "color": "white"
             }
            },
            "header": {
             "fill": {
              "color": "#C8D4E3"
             },
             "line": {
              "color": "white"
             }
            },
            "type": "table"
           }
          ]
         },
         "layout": {
          "annotationdefaults": {
           "arrowcolor": "#2a3f5f",
           "arrowhead": 0,
           "arrowwidth": 1
          },
          "colorscale": {
           "diverging": [
            [
             0,
             "#8e0152"
            ],
            [
             0.1,
             "#c51b7d"
            ],
            [
             0.2,
             "#de77ae"
            ],
            [
             0.3,
             "#f1b6da"
            ],
            [
             0.4,
             "#fde0ef"
            ],
            [
             0.5,
             "#f7f7f7"
            ],
            [
             0.6,
             "#e6f5d0"
            ],
            [
             0.7,
             "#b8e186"
            ],
            [
             0.8,
             "#7fbc41"
            ],
            [
             0.9,
             "#4d9221"
            ],
            [
             1,
             "#276419"
            ]
           ],
           "sequential": [
            [
             0,
             "#0d0887"
            ],
            [
             0.1111111111111111,
             "#46039f"
            ],
            [
             0.2222222222222222,
             "#7201a8"
            ],
            [
             0.3333333333333333,
             "#9c179e"
            ],
            [
             0.4444444444444444,
             "#bd3786"
            ],
            [
             0.5555555555555556,
             "#d8576b"
            ],
            [
             0.6666666666666666,
             "#ed7953"
            ],
            [
             0.7777777777777778,
             "#fb9f3a"
            ],
            [
             0.8888888888888888,
             "#fdca26"
            ],
            [
             1,
             "#f0f921"
            ]
           ],
           "sequentialminus": [
            [
             0,
             "#0d0887"
            ],
            [
             0.1111111111111111,
             "#46039f"
            ],
            [
             0.2222222222222222,
             "#7201a8"
            ],
            [
             0.3333333333333333,
             "#9c179e"
            ],
            [
             0.4444444444444444,
             "#bd3786"
            ],
            [
             0.5555555555555556,
             "#d8576b"
            ],
            [
             0.6666666666666666,
             "#ed7953"
            ],
            [
             0.7777777777777778,
             "#fb9f3a"
            ],
            [
             0.8888888888888888,
             "#fdca26"
            ],
            [
             1,
             "#f0f921"
            ]
           ]
          },
          "colorway": [
           "#636efa",
           "#EF553B",
           "#00cc96",
           "#ab63fa",
           "#FFA15A",
           "#19d3f3",
           "#FF6692",
           "#B6E880",
           "#FF97FF",
           "#FECB52"
          ],
          "font": {
           "color": "#2a3f5f"
          },
          "geo": {
           "bgcolor": "white",
           "lakecolor": "white",
           "landcolor": "#E5ECF6",
           "showlakes": true,
           "showland": true,
           "subunitcolor": "white"
          },
          "hoverlabel": {
           "align": "left"
          },
          "hovermode": "closest",
          "mapbox": {
           "style": "light"
          },
          "paper_bgcolor": "white",
          "plot_bgcolor": "#E5ECF6",
          "polar": {
           "angularaxis": {
            "gridcolor": "white",
            "linecolor": "white",
            "ticks": ""
           },
           "bgcolor": "#E5ECF6",
           "radialaxis": {
            "gridcolor": "white",
            "linecolor": "white",
            "ticks": ""
           }
          },
          "scene": {
           "xaxis": {
            "backgroundcolor": "#E5ECF6",
            "gridcolor": "white",
            "gridwidth": 2,
            "linecolor": "white",
            "showbackground": true,
            "ticks": "",
            "zerolinecolor": "white"
           },
           "yaxis": {
            "backgroundcolor": "#E5ECF6",
            "gridcolor": "white",
            "gridwidth": 2,
            "linecolor": "white",
            "showbackground": true,
            "ticks": "",
            "zerolinecolor": "white"
           },
           "zaxis": {
            "backgroundcolor": "#E5ECF6",
            "gridcolor": "white",
            "gridwidth": 2,
            "linecolor": "white",
            "showbackground": true,
            "ticks": "",
            "zerolinecolor": "white"
           }
          },
          "shapedefaults": {
           "line": {
            "color": "#2a3f5f"
           }
          },
          "ternary": {
           "aaxis": {
            "gridcolor": "white",
            "linecolor": "white",
            "ticks": ""
           },
           "baxis": {
            "gridcolor": "white",
            "linecolor": "white",
            "ticks": ""
           },
           "bgcolor": "#E5ECF6",
           "caxis": {
            "gridcolor": "white",
            "linecolor": "white",
            "ticks": ""
           }
          },
          "title": {
           "x": 0.05
          },
          "xaxis": {
           "automargin": true,
           "gridcolor": "white",
           "linecolor": "white",
           "ticks": "",
           "zerolinecolor": "white",
           "zerolinewidth": 2
          },
          "yaxis": {
           "automargin": true,
           "gridcolor": "white",
           "linecolor": "white",
           "ticks": "",
           "zerolinecolor": "white",
           "zerolinewidth": 2
          }
         }
        },
        "title": {
         "text": "Time Series Plot Test"
        },
        "updatemenus": [
         {
          "buttons": [
           {
            "args": [
             null,
             {
              "frame": {
               "duration": 500,
               "redraw": false
              },
              "fromcurrent": true,
              "transition": {
               "duration": 300,
               "easing": "quadratic-in-out"
              }
             }
            ],
            "label": "Play",
            "method": "animate"
           },
           {
            "args": [
             [
              null
             ],
             {
              "frame": {
               "duration": 0,
               "redraw": false
              },
              "mode": "immediate",
              "transition": {
               "duration": 0
              }
             }
            ],
            "label": "Pause",
            "method": "animate"
           }
          ],
          "direction": "left",
          "pad": {
           "r": 10,
           "t": 87
          },
          "showactive": false,
          "type": "buttons",
          "x": 0.1,
          "xanchor": "right",
          "y": 0,
          "yanchor": "top"
         }
        ],
        "xaxis": {
         "autorange": false,
         "range": [
          2.387653570979528,
          5.434615678039827
         ],
         "title": {
          "text": "GDP per Capita"
         },
         "type": "log"
        },
        "yaxis": {
         "autorange": false,
         "range": [
          0.42,
          62.85999999999999
         ],
         "title": {
          "text": "CO2 emissions per capita"
         }
        }
       }
      },
      "text/html": [
       "<div>\n",
       "        \n",
       "        \n",
       "            <div id=\"50050612-bdd5-4ceb-bcbe-e4594ee5e523\" class=\"plotly-graph-div\" style=\"height:650px; width:100%;\"></div>\n",
       "            <script type=\"text/javascript\">\n",
       "                require([\"plotly\"], function(Plotly) {\n",
       "                    window.PLOTLYENV=window.PLOTLYENV || {};\n",
       "                    \n",
       "                if (document.getElementById(\"50050612-bdd5-4ceb-bcbe-e4594ee5e523\")) {\n",
       "                    Plotly.newPlot(\n",
       "                        '50050612-bdd5-4ceb-bcbe-e4594ee5e523',\n",
       "                        [{\"marker\": {\"size\": [14.7], \"sizemode\": \"area\", \"sizeref\": 0.0046770833333333334}, \"mode\": \"markers\", \"name\": \"USA\", \"text\": [\"USA\"], \"type\": \"scatter\", \"x\": [71051.1], \"y\": [14.7]}, {\"marker\": {\"size\": [23.7], \"sizemode\": \"area\", \"sizeref\": 0.0046770833333333334}, \"mode\": \"markers\", \"name\": \"China\", \"text\": [\"China\"], \"type\": \"scatter\", \"x\": [122530.7], \"y\": [23.7]}, {\"marker\": {\"size\": [39.9], \"sizemode\": \"area\", \"sizeref\": 0.0046770833333333334}, \"mode\": \"markers\", \"name\": \"Japan\", \"text\": [\"Japan\"], \"type\": \"scatter\", \"x\": [289.4], \"y\": [39.9]}, {\"marker\": {\"size\": [16.1], \"sizemode\": \"area\", \"sizeref\": 0.0046770833333333334}, \"mode\": \"markers\", \"name\": \"Australia\", \"text\": [\"Australia\"], \"type\": \"scatter\", \"x\": [51584.9], \"y\": [16.1]}, {\"marker\": {\"size\": [40.9], \"sizemode\": \"area\", \"sizeref\": 0.0046770833333333334}, \"mode\": \"markers\", \"name\": \"Germany\", \"text\": [\"Germany\"], \"type\": \"scatter\", \"x\": [25178.9], \"y\": [40.9]}],\n",
       "                        {\"height\": 650, \"hovermode\": \"closest\", \"margin\": {\"b\": 50, \"pad\": 5, \"t\": 50}, \"showlegend\": true, \"sliders\": [{\"active\": 0, \"currentvalue\": {\"font\": {\"size\": 20}, \"prefix\": \"Year:\", \"visible\": true, \"xanchor\": \"right\"}, \"len\": 0.9, \"pad\": {\"b\": 10, \"t\": 50}, \"steps\": [{\"args\": [[1991], {\"frame\": {\"duration\": 300, \"redraw\": false}, \"mode\": \"immediate\", \"transition\": {\"duration\": 300}}], \"label\": \"1991\", \"method\": \"animate\"}, {\"args\": [[1992], {\"frame\": {\"duration\": 300, \"redraw\": false}, \"mode\": \"immediate\", \"transition\": {\"duration\": 300}}], \"label\": \"1992\", \"method\": \"animate\"}, {\"args\": [[1993], {\"frame\": {\"duration\": 300, \"redraw\": false}, \"mode\": \"immediate\", \"transition\": {\"duration\": 300}}], \"label\": \"1993\", \"method\": \"animate\"}, {\"args\": [[1994], {\"frame\": {\"duration\": 300, \"redraw\": false}, \"mode\": \"immediate\", \"transition\": {\"duration\": 300}}], \"label\": \"1994\", \"method\": \"animate\"}, {\"args\": [[1995], {\"frame\": {\"duration\": 300, \"redraw\": false}, \"mode\": \"immediate\", \"transition\": {\"duration\": 300}}], \"label\": \"1995\", \"method\": \"animate\"}, {\"args\": [[1996], {\"frame\": {\"duration\": 300, \"redraw\": false}, \"mode\": \"immediate\", \"transition\": {\"duration\": 300}}], \"label\": \"1996\", \"method\": \"animate\"}, {\"args\": [[1997], {\"frame\": {\"duration\": 300, \"redraw\": false}, \"mode\": \"immediate\", \"transition\": {\"duration\": 300}}], \"label\": \"1997\", \"method\": \"animate\"}, {\"args\": [[1998], {\"frame\": {\"duration\": 300, \"redraw\": false}, \"mode\": \"immediate\", \"transition\": {\"duration\": 300}}], \"label\": \"1998\", \"method\": \"animate\"}, {\"args\": [[1999], {\"frame\": {\"duration\": 300, \"redraw\": false}, \"mode\": \"immediate\", \"transition\": {\"duration\": 300}}], \"label\": \"1999\", \"method\": \"animate\"}, {\"args\": [[2000], {\"frame\": {\"duration\": 300, \"redraw\": false}, \"mode\": \"immediate\", \"transition\": {\"duration\": 300}}], \"label\": \"2000\", \"method\": \"animate\"}, {\"args\": [[2001], {\"frame\": {\"duration\": 300, \"redraw\": false}, \"mode\": \"immediate\", \"transition\": {\"duration\": 300}}], \"label\": \"2001\", \"method\": \"animate\"}, {\"args\": [[2002], {\"frame\": {\"duration\": 300, \"redraw\": false}, \"mode\": \"immediate\", \"transition\": {\"duration\": 300}}], \"label\": \"2002\", \"method\": \"animate\"}, {\"args\": [[2003], {\"frame\": {\"duration\": 300, \"redraw\": false}, \"mode\": \"immediate\", \"transition\": {\"duration\": 300}}], \"label\": \"2003\", \"method\": \"animate\"}, {\"args\": [[2004], {\"frame\": {\"duration\": 300, \"redraw\": false}, \"mode\": \"immediate\", \"transition\": {\"duration\": 300}}], \"label\": \"2004\", \"method\": \"animate\"}, {\"args\": [[2005], {\"frame\": {\"duration\": 300, \"redraw\": false}, \"mode\": \"immediate\", \"transition\": {\"duration\": 300}}], \"label\": \"2005\", \"method\": \"animate\"}, {\"args\": [[2006], {\"frame\": {\"duration\": 300, \"redraw\": false}, \"mode\": \"immediate\", \"transition\": {\"duration\": 300}}], \"label\": \"2006\", \"method\": \"animate\"}, {\"args\": [[2007], {\"frame\": {\"duration\": 300, \"redraw\": false}, \"mode\": \"immediate\", \"transition\": {\"duration\": 300}}], \"label\": \"2007\", \"method\": \"animate\"}, {\"args\": [[2008], {\"frame\": {\"duration\": 300, \"redraw\": false}, \"mode\": \"immediate\", \"transition\": {\"duration\": 300}}], \"label\": \"2008\", \"method\": \"animate\"}, {\"args\": [[2009], {\"frame\": {\"duration\": 300, \"redraw\": false}, \"mode\": \"immediate\", \"transition\": {\"duration\": 300}}], \"label\": \"2009\", \"method\": \"animate\"}, {\"args\": [[2010], {\"frame\": {\"duration\": 300, \"redraw\": false}, \"mode\": \"immediate\", \"transition\": {\"duration\": 300}}], \"label\": \"2010\", \"method\": \"animate\"}], \"transition\": {\"duration\": 300, \"easing\": \"cubic-in-out\"}, \"x\": 0.1, \"xanchor\": \"left\", \"y\": 0, \"yanchor\": \"top\"}], \"template\": {\"data\": {\"bar\": [{\"error_x\": {\"color\": \"#2a3f5f\"}, \"error_y\": {\"color\": \"#2a3f5f\"}, \"marker\": {\"line\": {\"color\": \"#E5ECF6\", \"width\": 0.5}}, \"type\": \"bar\"}], \"barpolar\": [{\"marker\": {\"line\": {\"color\": \"#E5ECF6\", \"width\": 0.5}}, \"type\": \"barpolar\"}], \"carpet\": [{\"aaxis\": {\"endlinecolor\": \"#2a3f5f\", \"gridcolor\": \"white\", \"linecolor\": \"white\", \"minorgridcolor\": \"white\", \"startlinecolor\": \"#2a3f5f\"}, \"baxis\": {\"endlinecolor\": \"#2a3f5f\", \"gridcolor\": \"white\", \"linecolor\": \"white\", \"minorgridcolor\": \"white\", \"startlinecolor\": \"#2a3f5f\"}, \"type\": \"carpet\"}], \"choropleth\": [{\"colorbar\": {\"outlinewidth\": 0, \"ticks\": \"\"}, \"type\": \"choropleth\"}], \"contour\": [{\"colorbar\": {\"outlinewidth\": 0, \"ticks\": \"\"}, \"colorscale\": [[0.0, \"#0d0887\"], [0.1111111111111111, \"#46039f\"], [0.2222222222222222, \"#7201a8\"], [0.3333333333333333, \"#9c179e\"], [0.4444444444444444, \"#bd3786\"], [0.5555555555555556, \"#d8576b\"], [0.6666666666666666, \"#ed7953\"], [0.7777777777777778, \"#fb9f3a\"], [0.8888888888888888, \"#fdca26\"], [1.0, \"#f0f921\"]], \"type\": \"contour\"}], \"contourcarpet\": [{\"colorbar\": {\"outlinewidth\": 0, \"ticks\": \"\"}, \"type\": \"contourcarpet\"}], \"heatmap\": [{\"colorbar\": {\"outlinewidth\": 0, \"ticks\": \"\"}, \"colorscale\": [[0.0, \"#0d0887\"], [0.1111111111111111, \"#46039f\"], [0.2222222222222222, \"#7201a8\"], [0.3333333333333333, \"#9c179e\"], [0.4444444444444444, \"#bd3786\"], [0.5555555555555556, \"#d8576b\"], [0.6666666666666666, \"#ed7953\"], [0.7777777777777778, \"#fb9f3a\"], [0.8888888888888888, \"#fdca26\"], [1.0, \"#f0f921\"]], \"type\": \"heatmap\"}], \"heatmapgl\": [{\"colorbar\": {\"outlinewidth\": 0, \"ticks\": \"\"}, \"colorscale\": [[0.0, \"#0d0887\"], [0.1111111111111111, \"#46039f\"], [0.2222222222222222, \"#7201a8\"], [0.3333333333333333, \"#9c179e\"], [0.4444444444444444, \"#bd3786\"], [0.5555555555555556, \"#d8576b\"], [0.6666666666666666, \"#ed7953\"], [0.7777777777777778, \"#fb9f3a\"], [0.8888888888888888, \"#fdca26\"], [1.0, \"#f0f921\"]], \"type\": \"heatmapgl\"}], \"histogram\": [{\"marker\": {\"colorbar\": {\"outlinewidth\": 0, \"ticks\": \"\"}}, \"type\": \"histogram\"}], \"histogram2d\": [{\"colorbar\": {\"outlinewidth\": 0, \"ticks\": \"\"}, \"colorscale\": [[0.0, \"#0d0887\"], [0.1111111111111111, \"#46039f\"], [0.2222222222222222, \"#7201a8\"], [0.3333333333333333, \"#9c179e\"], [0.4444444444444444, \"#bd3786\"], [0.5555555555555556, \"#d8576b\"], [0.6666666666666666, \"#ed7953\"], [0.7777777777777778, \"#fb9f3a\"], [0.8888888888888888, \"#fdca26\"], [1.0, \"#f0f921\"]], \"type\": \"histogram2d\"}], \"histogram2dcontour\": [{\"colorbar\": {\"outlinewidth\": 0, \"ticks\": \"\"}, \"colorscale\": [[0.0, \"#0d0887\"], [0.1111111111111111, \"#46039f\"], [0.2222222222222222, \"#7201a8\"], [0.3333333333333333, \"#9c179e\"], [0.4444444444444444, \"#bd3786\"], [0.5555555555555556, \"#d8576b\"], [0.6666666666666666, \"#ed7953\"], [0.7777777777777778, \"#fb9f3a\"], [0.8888888888888888, \"#fdca26\"], [1.0, \"#f0f921\"]], \"type\": \"histogram2dcontour\"}], \"mesh3d\": [{\"colorbar\": {\"outlinewidth\": 0, \"ticks\": \"\"}, \"type\": \"mesh3d\"}], \"parcoords\": [{\"line\": {\"colorbar\": {\"outlinewidth\": 0, \"ticks\": \"\"}}, \"type\": \"parcoords\"}], \"scatter\": [{\"marker\": {\"colorbar\": {\"outlinewidth\": 0, \"ticks\": \"\"}}, \"type\": \"scatter\"}], \"scatter3d\": [{\"line\": {\"colorbar\": {\"outlinewidth\": 0, \"ticks\": \"\"}}, \"marker\": {\"colorbar\": {\"outlinewidth\": 0, \"ticks\": \"\"}}, \"type\": \"scatter3d\"}], \"scattercarpet\": [{\"marker\": {\"colorbar\": {\"outlinewidth\": 0, \"ticks\": \"\"}}, \"type\": \"scattercarpet\"}], \"scattergeo\": [{\"marker\": {\"colorbar\": {\"outlinewidth\": 0, \"ticks\": \"\"}}, \"type\": \"scattergeo\"}], \"scattergl\": [{\"marker\": {\"colorbar\": {\"outlinewidth\": 0, \"ticks\": \"\"}}, \"type\": \"scattergl\"}], \"scattermapbox\": [{\"marker\": {\"colorbar\": {\"outlinewidth\": 0, \"ticks\": \"\"}}, \"type\": \"scattermapbox\"}], \"scatterpolar\": [{\"marker\": {\"colorbar\": {\"outlinewidth\": 0, \"ticks\": \"\"}}, \"type\": \"scatterpolar\"}], \"scatterpolargl\": [{\"marker\": {\"colorbar\": {\"outlinewidth\": 0, \"ticks\": \"\"}}, \"type\": \"scatterpolargl\"}], \"scatterternary\": [{\"marker\": {\"colorbar\": {\"outlinewidth\": 0, \"ticks\": \"\"}}, \"type\": \"scatterternary\"}], \"surface\": [{\"colorbar\": {\"outlinewidth\": 0, \"ticks\": \"\"}, \"colorscale\": [[0.0, \"#0d0887\"], [0.1111111111111111, \"#46039f\"], [0.2222222222222222, \"#7201a8\"], [0.3333333333333333, \"#9c179e\"], [0.4444444444444444, \"#bd3786\"], [0.5555555555555556, \"#d8576b\"], [0.6666666666666666, \"#ed7953\"], [0.7777777777777778, \"#fb9f3a\"], [0.8888888888888888, \"#fdca26\"], [1.0, \"#f0f921\"]], \"type\": \"surface\"}], \"table\": [{\"cells\": {\"fill\": {\"color\": \"#EBF0F8\"}, \"line\": {\"color\": \"white\"}}, \"header\": {\"fill\": {\"color\": \"#C8D4E3\"}, \"line\": {\"color\": \"white\"}}, \"type\": \"table\"}]}, \"layout\": {\"annotationdefaults\": {\"arrowcolor\": \"#2a3f5f\", \"arrowhead\": 0, \"arrowwidth\": 1}, \"colorscale\": {\"diverging\": [[0, \"#8e0152\"], [0.1, \"#c51b7d\"], [0.2, \"#de77ae\"], [0.3, \"#f1b6da\"], [0.4, \"#fde0ef\"], [0.5, \"#f7f7f7\"], [0.6, \"#e6f5d0\"], [0.7, \"#b8e186\"], [0.8, \"#7fbc41\"], [0.9, \"#4d9221\"], [1, \"#276419\"]], \"sequential\": [[0.0, \"#0d0887\"], [0.1111111111111111, \"#46039f\"], [0.2222222222222222, \"#7201a8\"], [0.3333333333333333, \"#9c179e\"], [0.4444444444444444, \"#bd3786\"], [0.5555555555555556, \"#d8576b\"], [0.6666666666666666, \"#ed7953\"], [0.7777777777777778, \"#fb9f3a\"], [0.8888888888888888, \"#fdca26\"], [1.0, \"#f0f921\"]], \"sequentialminus\": [[0.0, \"#0d0887\"], [0.1111111111111111, \"#46039f\"], [0.2222222222222222, \"#7201a8\"], [0.3333333333333333, \"#9c179e\"], [0.4444444444444444, \"#bd3786\"], [0.5555555555555556, \"#d8576b\"], [0.6666666666666666, \"#ed7953\"], [0.7777777777777778, \"#fb9f3a\"], [0.8888888888888888, \"#fdca26\"], [1.0, \"#f0f921\"]]}, \"colorway\": [\"#636efa\", \"#EF553B\", \"#00cc96\", \"#ab63fa\", \"#FFA15A\", \"#19d3f3\", \"#FF6692\", \"#B6E880\", \"#FF97FF\", \"#FECB52\"], \"font\": {\"color\": \"#2a3f5f\"}, \"geo\": {\"bgcolor\": \"white\", \"lakecolor\": \"white\", \"landcolor\": \"#E5ECF6\", \"showlakes\": true, \"showland\": true, \"subunitcolor\": \"white\"}, \"hoverlabel\": {\"align\": \"left\"}, \"hovermode\": \"closest\", \"mapbox\": {\"style\": \"light\"}, \"paper_bgcolor\": \"white\", \"plot_bgcolor\": \"#E5ECF6\", \"polar\": {\"angularaxis\": {\"gridcolor\": \"white\", \"linecolor\": \"white\", \"ticks\": \"\"}, \"bgcolor\": \"#E5ECF6\", \"radialaxis\": {\"gridcolor\": \"white\", \"linecolor\": \"white\", \"ticks\": \"\"}}, \"scene\": {\"xaxis\": {\"backgroundcolor\": \"#E5ECF6\", \"gridcolor\": \"white\", \"gridwidth\": 2, \"linecolor\": \"white\", \"showbackground\": true, \"ticks\": \"\", \"zerolinecolor\": \"white\"}, \"yaxis\": {\"backgroundcolor\": \"#E5ECF6\", \"gridcolor\": \"white\", \"gridwidth\": 2, \"linecolor\": \"white\", \"showbackground\": true, \"ticks\": \"\", \"zerolinecolor\": \"white\"}, \"zaxis\": {\"backgroundcolor\": \"#E5ECF6\", \"gridcolor\": \"white\", \"gridwidth\": 2, \"linecolor\": \"white\", \"showbackground\": true, \"ticks\": \"\", \"zerolinecolor\": \"white\"}}, \"shapedefaults\": {\"line\": {\"color\": \"#2a3f5f\"}}, \"ternary\": {\"aaxis\": {\"gridcolor\": \"white\", \"linecolor\": \"white\", \"ticks\": \"\"}, \"baxis\": {\"gridcolor\": \"white\", \"linecolor\": \"white\", \"ticks\": \"\"}, \"bgcolor\": \"#E5ECF6\", \"caxis\": {\"gridcolor\": \"white\", \"linecolor\": \"white\", \"ticks\": \"\"}}, \"title\": {\"x\": 0.05}, \"xaxis\": {\"automargin\": true, \"gridcolor\": \"white\", \"linecolor\": \"white\", \"ticks\": \"\", \"zerolinecolor\": \"white\", \"zerolinewidth\": 2}, \"yaxis\": {\"automargin\": true, \"gridcolor\": \"white\", \"linecolor\": \"white\", \"ticks\": \"\", \"zerolinecolor\": \"white\", \"zerolinewidth\": 2}}}, \"title\": {\"text\": \"Time Series Plot Test\"}, \"updatemenus\": [{\"buttons\": [{\"args\": [null, {\"frame\": {\"duration\": 500, \"redraw\": false}, \"fromcurrent\": true, \"transition\": {\"duration\": 300, \"easing\": \"quadratic-in-out\"}}], \"label\": \"Play\", \"method\": \"animate\"}, {\"args\": [[null], {\"frame\": {\"duration\": 0, \"redraw\": false}, \"mode\": \"immediate\", \"transition\": {\"duration\": 0}}], \"label\": \"Pause\", \"method\": \"animate\"}], \"direction\": \"left\", \"pad\": {\"r\": 10, \"t\": 87}, \"showactive\": false, \"type\": \"buttons\", \"x\": 0.1, \"xanchor\": \"right\", \"y\": 0, \"yanchor\": \"top\"}], \"xaxis\": {\"autorange\": false, \"range\": [2.387653570979528, 5.434615678039827], \"title\": {\"text\": \"GDP per Capita\"}, \"type\": \"log\"}, \"yaxis\": {\"autorange\": false, \"range\": [0.42, 62.85999999999999], \"title\": {\"text\": \"CO2 emissions per capita\"}}},\n",
       "                        {\"responsive\": true}\n",
       "                    ).then(function(){\n",
       "                            Plotly.addFrames('50050612-bdd5-4ceb-bcbe-e4594ee5e523', [{\"data\": [{\"marker\": {\"size\": [14.7], \"sizemode\": \"area\", \"sizeref\": 0.0046770833333333334}, \"mode\": \"markers\", \"name\": \"USA\", \"text\": [\"USA\"], \"x\": [71051.1], \"y\": [14.7], \"type\": \"scatter\"}, {\"marker\": {\"size\": [23.7], \"sizemode\": \"area\", \"sizeref\": 0.0046770833333333334}, \"mode\": \"markers\", \"name\": \"China\", \"text\": [\"China\"], \"x\": [122530.7], \"y\": [23.7], \"type\": \"scatter\"}, {\"marker\": {\"size\": [39.9], \"sizemode\": \"area\", \"sizeref\": 0.0046770833333333334}, \"mode\": \"markers\", \"name\": \"Japan\", \"text\": [\"Japan\"], \"x\": [289.4], \"y\": [39.9], \"type\": \"scatter\"}, {\"marker\": {\"size\": [16.1], \"sizemode\": \"area\", \"sizeref\": 0.0046770833333333334}, \"mode\": \"markers\", \"name\": \"Australia\", \"text\": [\"Australia\"], \"x\": [51584.9], \"y\": [16.1], \"type\": \"scatter\"}, {\"marker\": {\"size\": [40.9], \"sizemode\": \"area\", \"sizeref\": 0.0046770833333333334}, \"mode\": \"markers\", \"name\": \"Germany\", \"text\": [\"Germany\"], \"x\": [25178.9], \"y\": [40.9], \"type\": \"scatter\"}], \"name\": \"1991\"}, {\"data\": [{\"marker\": {\"size\": [28.1], \"sizemode\": \"area\", \"sizeref\": 0.0046770833333333334}, \"mode\": \"markers\", \"name\": \"USA\", \"text\": [\"USA\"], \"x\": [15942.6], \"y\": [28.1], \"type\": \"scatter\"}, {\"marker\": {\"size\": [0.7], \"sizemode\": \"area\", \"sizeref\": 0.0046770833333333334}, \"mode\": \"markers\", \"name\": \"China\", \"text\": [\"China\"], \"x\": [31883.9], \"y\": [0.7], \"type\": \"scatter\"}, {\"marker\": {\"size\": [41.8], \"sizemode\": \"area\", \"sizeref\": 0.0046770833333333334}, \"mode\": \"markers\", \"name\": \"Japan\", \"text\": [\"Japan\"], \"x\": [58922.0], \"y\": [41.8], \"type\": \"scatter\"}, {\"marker\": {\"size\": [31.1], \"sizemode\": \"area\", \"sizeref\": 0.0046770833333333334}, \"mode\": \"markers\", \"name\": \"Australia\", \"text\": [\"Australia\"], \"x\": [67613.3], \"y\": [31.1], \"type\": \"scatter\"}, {\"marker\": {\"size\": [44.9], \"sizemode\": \"area\", \"sizeref\": 0.0046770833333333334}, \"mode\": \"markers\", \"name\": \"Germany\", \"text\": [\"Germany\"], \"x\": [91723.4], \"y\": [44.9], \"type\": \"scatter\"}], \"name\": \"1992\"}, {\"data\": [{\"marker\": {\"size\": [7.8], \"sizemode\": \"area\", \"sizeref\": 0.0046770833333333334}, \"mode\": \"markers\", \"name\": \"USA\", \"text\": [\"USA\"], \"x\": [71419.9], \"y\": [7.8], \"type\": \"scatter\"}, {\"marker\": {\"size\": [6.2], \"sizemode\": \"area\", \"sizeref\": 0.0046770833333333334}, \"mode\": \"markers\", \"name\": \"China\", \"text\": [\"China\"], \"x\": [116572.3], \"y\": [6.2], \"type\": \"scatter\"}, {\"marker\": {\"size\": [42.0], \"sizemode\": \"area\", \"sizeref\": 0.0046770833333333334}, \"mode\": \"markers\", \"name\": \"Japan\", \"text\": [\"Japan\"], \"x\": [34971.7], \"y\": [42.0], \"type\": \"scatter\"}, {\"marker\": {\"size\": [31.4], \"sizemode\": \"area\", \"sizeref\": 0.0046770833333333334}, \"mode\": \"markers\", \"name\": \"Australia\", \"text\": [\"Australia\"], \"x\": [149312.9], \"y\": [31.4], \"type\": \"scatter\"}, {\"marker\": {\"size\": [3.0], \"sizemode\": \"area\", \"sizeref\": 0.0046770833333333334}, \"mode\": \"markers\", \"name\": \"Germany\", \"text\": [\"Germany\"], \"x\": [4918.5], \"y\": [3.0], \"type\": \"scatter\"}], \"name\": \"1993\"}, {\"data\": [{\"marker\": {\"size\": [34.0], \"sizemode\": \"area\", \"sizeref\": 0.0046770833333333334}, \"mode\": \"markers\", \"name\": \"USA\", \"text\": [\"USA\"], \"x\": [114068.5], \"y\": [34.0], \"type\": \"scatter\"}, {\"marker\": {\"size\": [33.9], \"sizemode\": \"area\", \"sizeref\": 0.0046770833333333334}, \"mode\": \"markers\", \"name\": \"China\", \"text\": [\"China\"], \"x\": [71099.1], \"y\": [33.9], \"type\": \"scatter\"}, {\"marker\": {\"size\": [41.5], \"sizemode\": \"area\", \"sizeref\": 0.0046770833333333334}, \"mode\": \"markers\", \"name\": \"Japan\", \"text\": [\"Japan\"], \"x\": [95096.4], \"y\": [41.5], \"type\": \"scatter\"}, {\"marker\": {\"size\": [32.0], \"sizemode\": \"area\", \"sizeref\": 0.0046770833333333334}, \"mode\": \"markers\", \"name\": \"Australia\", \"text\": [\"Australia\"], \"x\": [24097.9], \"y\": [32.0], \"type\": \"scatter\"}, {\"marker\": {\"size\": [5.6], \"sizemode\": \"area\", \"sizeref\": 0.0046770833333333334}, \"mode\": \"markers\", \"name\": \"Germany\", \"text\": [\"Germany\"], \"x\": [33893.8], \"y\": [5.6], \"type\": \"scatter\"}], \"name\": \"1994\"}, {\"data\": [{\"marker\": {\"size\": [0.9], \"sizemode\": \"area\", \"sizeref\": 0.0046770833333333334}, \"mode\": \"markers\", \"name\": \"USA\", \"text\": [\"USA\"], \"x\": [136180.4], \"y\": [0.9], \"type\": \"scatter\"}, {\"marker\": {\"size\": [1.2], \"sizemode\": \"area\", \"sizeref\": 0.0046770833333333334}, \"mode\": \"markers\", \"name\": \"China\", \"text\": [\"China\"], \"x\": [164613.0], \"y\": [1.2], \"type\": \"scatter\"}, {\"marker\": {\"size\": [1.3], \"sizemode\": \"area\", \"sizeref\": 0.0046770833333333334}, \"mode\": \"markers\", \"name\": \"Japan\", \"text\": [\"Japan\"], \"x\": [53467.5], \"y\": [1.3], \"type\": \"scatter\"}, {\"marker\": {\"size\": [11.1], \"sizemode\": \"area\", \"sizeref\": 0.0046770833333333334}, \"mode\": \"markers\", \"name\": \"Australia\", \"text\": [\"Australia\"], \"x\": [117777.9], \"y\": [11.1], \"type\": \"scatter\"}, {\"marker\": {\"size\": [38.7], \"sizemode\": \"area\", \"sizeref\": 0.0046770833333333334}, \"mode\": \"markers\", \"name\": \"Germany\", \"text\": [\"Germany\"], \"x\": [149019.5], \"y\": [38.7], \"type\": \"scatter\"}], \"name\": \"1995\"}, {\"data\": [{\"marker\": {\"size\": [24.2], \"sizemode\": \"area\", \"sizeref\": 0.0046770833333333334}, \"mode\": \"markers\", \"name\": \"USA\", \"text\": [\"USA\"], \"x\": [152111.6], \"y\": [24.2], \"type\": \"scatter\"}, {\"marker\": {\"size\": [24.9], \"sizemode\": \"area\", \"sizeref\": 0.0046770833333333334}, \"mode\": \"markers\", \"name\": \"China\", \"text\": [\"China\"], \"x\": [14704.6], \"y\": [24.9], \"type\": \"scatter\"}, {\"marker\": {\"size\": [37.9], \"sizemode\": \"area\", \"sizeref\": 0.0046770833333333334}, \"mode\": \"markers\", \"name\": \"Japan\", \"text\": [\"Japan\"], \"x\": [6898.8], \"y\": [37.9], \"type\": \"scatter\"}, {\"marker\": {\"size\": [5.6], \"sizemode\": \"area\", \"sizeref\": 0.0046770833333333334}, \"mode\": \"markers\", \"name\": \"Australia\", \"text\": [\"Australia\"], \"x\": [29095.3], \"y\": [5.6], \"type\": \"scatter\"}, {\"marker\": {\"size\": [12.6], \"sizemode\": \"area\", \"sizeref\": 0.0046770833333333334}, \"mode\": \"markers\", \"name\": \"Germany\", \"text\": [\"Germany\"], \"x\": [149317.1], \"y\": [12.6], \"type\": \"scatter\"}], \"name\": \"1996\"}, {\"data\": [{\"marker\": {\"size\": [26.4], \"sizemode\": \"area\", \"sizeref\": 0.0046770833333333334}, \"mode\": \"markers\", \"name\": \"USA\", \"text\": [\"USA\"], \"x\": [16962.4], \"y\": [26.4], \"type\": \"scatter\"}, {\"marker\": {\"size\": [43.6], \"sizemode\": \"area\", \"sizeref\": 0.0046770833333333334}, \"mode\": \"markers\", \"name\": \"China\", \"text\": [\"China\"], \"x\": [71744.6], \"y\": [43.6], \"type\": \"scatter\"}, {\"marker\": {\"size\": [25.2], \"sizemode\": \"area\", \"sizeref\": 0.0046770833333333334}, \"mode\": \"markers\", \"name\": \"Japan\", \"text\": [\"Japan\"], \"x\": [162852.6], \"y\": [25.2], \"type\": \"scatter\"}, {\"marker\": {\"size\": [0.8], \"sizemode\": \"area\", \"sizeref\": 0.0046770833333333334}, \"mode\": \"markers\", \"name\": \"Australia\", \"text\": [\"Australia\"], \"x\": [90764.1], \"y\": [0.8], \"type\": \"scatter\"}, {\"marker\": {\"size\": [36.0], \"sizemode\": \"area\", \"sizeref\": 0.0046770833333333334}, \"mode\": \"markers\", \"name\": \"Germany\", \"text\": [\"Germany\"], \"x\": [117702.3], \"y\": [36.0], \"type\": \"scatter\"}], \"name\": \"1997\"}, {\"data\": [{\"marker\": {\"size\": [10.5], \"sizemode\": \"area\", \"sizeref\": 0.0046770833333333334}, \"mode\": \"markers\", \"name\": \"USA\", \"text\": [\"USA\"], \"x\": [53822.5], \"y\": [10.5], \"type\": \"scatter\"}, {\"marker\": {\"size\": [36.3], \"sizemode\": \"area\", \"sizeref\": 0.0046770833333333334}, \"mode\": \"markers\", \"name\": \"China\", \"text\": [\"China\"], \"x\": [116789.8], \"y\": [36.3], \"type\": \"scatter\"}, {\"marker\": {\"size\": [17.5], \"sizemode\": \"area\", \"sizeref\": 0.0046770833333333334}, \"mode\": \"markers\", \"name\": \"Japan\", \"text\": [\"Japan\"], \"x\": [141931.0], \"y\": [17.5], \"type\": \"scatter\"}, {\"marker\": {\"size\": [38.9], \"sizemode\": \"area\", \"sizeref\": 0.0046770833333333334}, \"mode\": \"markers\", \"name\": \"Australia\", \"text\": [\"Australia\"], \"x\": [3374.1], \"y\": [38.9], \"type\": \"scatter\"}, {\"marker\": {\"size\": [33.6], \"sizemode\": \"area\", \"sizeref\": 0.0046770833333333334}, \"mode\": \"markers\", \"name\": \"Germany\", \"text\": [\"Germany\"], \"x\": [127592.0], \"y\": [33.6], \"type\": \"scatter\"}], \"name\": \"1998\"}, {\"data\": [{\"marker\": {\"size\": [25.0], \"sizemode\": \"area\", \"sizeref\": 0.0046770833333333334}, \"mode\": \"markers\", \"name\": \"USA\", \"text\": [\"USA\"], \"x\": [168109.4], \"y\": [25.0], \"type\": \"scatter\"}, {\"marker\": {\"size\": [6.1], \"sizemode\": \"area\", \"sizeref\": 0.0046770833333333334}, \"mode\": \"markers\", \"name\": \"China\", \"text\": [\"China\"], \"x\": [127256.2], \"y\": [6.1], \"type\": \"scatter\"}, {\"marker\": {\"size\": [2.7], \"sizemode\": \"area\", \"sizeref\": 0.0046770833333333334}, \"mode\": \"markers\", \"name\": \"Japan\", \"text\": [\"Japan\"], \"x\": [47869.8], \"y\": [2.7], \"type\": \"scatter\"}, {\"marker\": {\"size\": [5.5], \"sizemode\": \"area\", \"sizeref\": 0.0046770833333333334}, \"mode\": \"markers\", \"name\": \"Australia\", \"text\": [\"Australia\"], \"x\": [134234.4], \"y\": [5.5], \"type\": \"scatter\"}, {\"marker\": {\"size\": [2.0], \"sizemode\": \"area\", \"sizeref\": 0.0046770833333333334}, \"mode\": \"markers\", \"name\": \"Germany\", \"text\": [\"Germany\"], \"x\": [17790.6], \"y\": [2.0], \"type\": \"scatter\"}], \"name\": \"1999\"}, {\"data\": [{\"marker\": {\"size\": [4.8], \"sizemode\": \"area\", \"sizeref\": 0.0046770833333333334}, \"mode\": \"markers\", \"name\": \"USA\", \"text\": [\"USA\"], \"x\": [76291.0], \"y\": [4.8], \"type\": \"scatter\"}, {\"marker\": {\"size\": [10.2], \"sizemode\": \"area\", \"sizeref\": 0.0046770833333333334}, \"mode\": \"markers\", \"name\": \"China\", \"text\": [\"China\"], \"x\": [154485.9], \"y\": [10.2], \"type\": \"scatter\"}, {\"marker\": {\"size\": [32.1], \"sizemode\": \"area\", \"sizeref\": 0.0046770833333333334}, \"mode\": \"markers\", \"name\": \"Japan\", \"text\": [\"Japan\"], \"x\": [50105.1], \"y\": [32.1], \"type\": \"scatter\"}, {\"marker\": {\"size\": [25.2], \"sizemode\": \"area\", \"sizeref\": 0.0046770833333333334}, \"mode\": \"markers\", \"name\": \"Australia\", \"text\": [\"Australia\"], \"x\": [49114.1], \"y\": [25.2], \"type\": \"scatter\"}, {\"marker\": {\"size\": [0.6], \"sizemode\": \"area\", \"sizeref\": 0.0046770833333333334}, \"mode\": \"markers\", \"name\": \"Germany\", \"text\": [\"Germany\"], \"x\": [22339.7], \"y\": [0.6], \"type\": \"scatter\"}], \"name\": \"2000\"}, {\"data\": [{\"marker\": {\"size\": [3.2], \"sizemode\": \"area\", \"sizeref\": 0.0046770833333333334}, \"mode\": \"markers\", \"name\": \"USA\", \"text\": [\"USA\"], \"x\": [3557.2], \"y\": [3.2], \"type\": \"scatter\"}, {\"marker\": {\"size\": [43.5], \"sizemode\": \"area\", \"sizeref\": 0.0046770833333333334}, \"mode\": \"markers\", \"name\": \"China\", \"text\": [\"China\"], \"x\": [115488.8], \"y\": [43.5], \"type\": \"scatter\"}, {\"marker\": {\"size\": [25.6], \"sizemode\": \"area\", \"sizeref\": 0.0046770833333333334}, \"mode\": \"markers\", \"name\": \"Japan\", \"text\": [\"Japan\"], \"x\": [36189.6], \"y\": [25.6], \"type\": \"scatter\"}, {\"marker\": {\"size\": [9.1], \"sizemode\": \"area\", \"sizeref\": 0.0046770833333333334}, \"mode\": \"markers\", \"name\": \"Australia\", \"text\": [\"Australia\"], \"x\": [45341.2], \"y\": [9.1], \"type\": \"scatter\"}, {\"marker\": {\"size\": [11.4], \"sizemode\": \"area\", \"sizeref\": 0.0046770833333333334}, \"mode\": \"markers\", \"name\": \"Germany\", \"text\": [\"Germany\"], \"x\": [83704.7], \"y\": [11.4], \"type\": \"scatter\"}], \"name\": \"2001\"}, {\"data\": [{\"marker\": {\"size\": [33.5], \"sizemode\": \"area\", \"sizeref\": 0.0046770833333333334}, \"mode\": \"markers\", \"name\": \"USA\", \"text\": [\"USA\"], \"x\": [9327.2], \"y\": [33.5], \"type\": \"scatter\"}, {\"marker\": {\"size\": [8.8], \"sizemode\": \"area\", \"sizeref\": 0.0046770833333333334}, \"mode\": \"markers\", \"name\": \"China\", \"text\": [\"China\"], \"x\": [97715.0], \"y\": [8.8], \"type\": \"scatter\"}, {\"marker\": {\"size\": [26.2], \"sizemode\": \"area\", \"sizeref\": 0.0046770833333333334}, \"mode\": \"markers\", \"name\": \"Japan\", \"text\": [\"Japan\"], \"x\": [25174.2], \"y\": [26.2], \"type\": \"scatter\"}, {\"marker\": {\"size\": [43.7], \"sizemode\": \"area\", \"sizeref\": 0.0046770833333333334}, \"mode\": \"markers\", \"name\": \"Australia\", \"text\": [\"Australia\"], \"x\": [100292.8], \"y\": [43.7], \"type\": \"scatter\"}, {\"marker\": {\"size\": [38.1], \"sizemode\": \"area\", \"sizeref\": 0.0046770833333333334}, \"mode\": \"markers\", \"name\": \"Germany\", \"text\": [\"Germany\"], \"x\": [119040.0], \"y\": [38.1], \"type\": \"scatter\"}], \"name\": \"2002\"}, {\"data\": [{\"marker\": {\"size\": [10.8], \"sizemode\": \"area\", \"sizeref\": 0.0046770833333333334}, \"mode\": \"markers\", \"name\": \"USA\", \"text\": [\"USA\"], \"x\": [17639.2], \"y\": [10.8], \"type\": \"scatter\"}, {\"marker\": {\"size\": [22.2], \"sizemode\": \"area\", \"sizeref\": 0.0046770833333333334}, \"mode\": \"markers\", \"name\": \"China\", \"text\": [\"China\"], \"x\": [70547.7], \"y\": [22.2], \"type\": \"scatter\"}, {\"marker\": {\"size\": [27.9], \"sizemode\": \"area\", \"sizeref\": 0.0046770833333333334}, \"mode\": \"markers\", \"name\": \"Japan\", \"text\": [\"Japan\"], \"x\": [118130.5], \"y\": [27.9], \"type\": \"scatter\"}, {\"marker\": {\"size\": [37.3], \"sizemode\": \"area\", \"sizeref\": 0.0046770833333333334}, \"mode\": \"markers\", \"name\": \"Australia\", \"text\": [\"Australia\"], \"x\": [70568.6], \"y\": [37.3], \"type\": \"scatter\"}, {\"marker\": {\"size\": [7.1], \"sizemode\": \"area\", \"sizeref\": 0.0046770833333333334}, \"mode\": \"markers\", \"name\": \"Germany\", \"text\": [\"Germany\"], \"x\": [8748.6], \"y\": [7.1], \"type\": \"scatter\"}], \"name\": \"2003\"}, {\"data\": [{\"marker\": {\"size\": [0.8], \"sizemode\": \"area\", \"sizeref\": 0.0046770833333333334}, \"mode\": \"markers\", \"name\": \"USA\", \"text\": [\"USA\"], \"x\": [91227.7], \"y\": [0.8], \"type\": \"scatter\"}, {\"marker\": {\"size\": [3.2], \"sizemode\": \"area\", \"sizeref\": 0.0046770833333333334}, \"mode\": \"markers\", \"name\": \"China\", \"text\": [\"China\"], \"x\": [112935.9], \"y\": [3.2], \"type\": \"scatter\"}, {\"marker\": {\"size\": [21.9], \"sizemode\": \"area\", \"sizeref\": 0.0046770833333333334}, \"mode\": \"markers\", \"name\": \"Japan\", \"text\": [\"Japan\"], \"x\": [87662.1], \"y\": [21.9], \"type\": \"scatter\"}, {\"marker\": {\"size\": [27.3], \"sizemode\": \"area\", \"sizeref\": 0.0046770833333333334}, \"mode\": \"markers\", \"name\": \"Australia\", \"text\": [\"Australia\"], \"x\": [160596.1], \"y\": [27.3], \"type\": \"scatter\"}, {\"marker\": {\"size\": [25.6], \"sizemode\": \"area\", \"sizeref\": 0.0046770833333333334}, \"mode\": \"markers\", \"name\": \"Germany\", \"text\": [\"Germany\"], \"x\": [99826.0], \"y\": [25.6], \"type\": \"scatter\"}], \"name\": \"2004\"}, {\"data\": [{\"marker\": {\"size\": [14.3], \"sizemode\": \"area\", \"sizeref\": 0.0046770833333333334}, \"mode\": \"markers\", \"name\": \"USA\", \"text\": [\"USA\"], \"x\": [153604.4], \"y\": [14.3], \"type\": \"scatter\"}, {\"marker\": {\"size\": [44.5], \"sizemode\": \"area\", \"sizeref\": 0.0046770833333333334}, \"mode\": \"markers\", \"name\": \"China\", \"text\": [\"China\"], \"x\": [23603.6], \"y\": [44.5], \"type\": \"scatter\"}, {\"marker\": {\"size\": [26.1], \"sizemode\": \"area\", \"sizeref\": 0.0046770833333333334}, \"mode\": \"markers\", \"name\": \"Japan\", \"text\": [\"Japan\"], \"x\": [23909.4], \"y\": [26.1], \"type\": \"scatter\"}, {\"marker\": {\"size\": [17.1], \"sizemode\": \"area\", \"sizeref\": 0.0046770833333333334}, \"mode\": \"markers\", \"name\": \"Australia\", \"text\": [\"Australia\"], \"x\": [137308.5], \"y\": [17.1], \"type\": \"scatter\"}, {\"marker\": {\"size\": [24.8], \"sizemode\": \"area\", \"sizeref\": 0.0046770833333333334}, \"mode\": \"markers\", \"name\": \"Germany\", \"text\": [\"Germany\"], \"x\": [67767.7], \"y\": [24.8], \"type\": \"scatter\"}], \"name\": \"2005\"}, {\"data\": [{\"marker\": {\"size\": [33.5], \"sizemode\": \"area\", \"sizeref\": 0.0046770833333333334}, \"mode\": \"markers\", \"name\": \"USA\", \"text\": [\"USA\"], \"x\": [28335.6], \"y\": [33.5], \"type\": \"scatter\"}, {\"marker\": {\"size\": [30.1], \"sizemode\": \"area\", \"sizeref\": 0.0046770833333333334}, \"mode\": \"markers\", \"name\": \"China\", \"text\": [\"China\"], \"x\": [157696.0], \"y\": [30.1], \"type\": \"scatter\"}, {\"marker\": {\"size\": [11.9], \"sizemode\": \"area\", \"sizeref\": 0.0046770833333333334}, \"mode\": \"markers\", \"name\": \"Japan\", \"text\": [\"Japan\"], \"x\": [59296.3], \"y\": [11.9], \"type\": \"scatter\"}, {\"marker\": {\"size\": [3.0], \"sizemode\": \"area\", \"sizeref\": 0.0046770833333333334}, \"mode\": \"markers\", \"name\": \"Australia\", \"text\": [\"Australia\"], \"x\": [127705.3], \"y\": [3.0], \"type\": \"scatter\"}, {\"marker\": {\"size\": [16.7], \"sizemode\": \"area\", \"sizeref\": 0.0046770833333333334}, \"mode\": \"markers\", \"name\": \"Germany\", \"text\": [\"Germany\"], \"x\": [123493.6], \"y\": [16.7], \"type\": \"scatter\"}], \"name\": \"2006\"}, {\"data\": [{\"marker\": {\"size\": [28.3], \"sizemode\": \"area\", \"sizeref\": 0.0046770833333333334}, \"mode\": \"markers\", \"name\": \"USA\", \"text\": [\"USA\"], \"x\": [150193.5], \"y\": [28.3], \"type\": \"scatter\"}, {\"marker\": {\"size\": [9.5], \"sizemode\": \"area\", \"sizeref\": 0.0046770833333333334}, \"mode\": \"markers\", \"name\": \"China\", \"text\": [\"China\"], \"x\": [106125.9], \"y\": [9.5], \"type\": \"scatter\"}, {\"marker\": {\"size\": [33.9], \"sizemode\": \"area\", \"sizeref\": 0.0046770833333333334}, \"mode\": \"markers\", \"name\": \"Japan\", \"text\": [\"Japan\"], \"x\": [127727.5], \"y\": [33.9], \"type\": \"scatter\"}, {\"marker\": {\"size\": [3.0], \"sizemode\": \"area\", \"sizeref\": 0.0046770833333333334}, \"mode\": \"markers\", \"name\": \"Australia\", \"text\": [\"Australia\"], \"x\": [59488.5], \"y\": [3.0], \"type\": \"scatter\"}, {\"marker\": {\"size\": [11.7], \"sizemode\": \"area\", \"sizeref\": 0.0046770833333333334}, \"mode\": \"markers\", \"name\": \"Germany\", \"text\": [\"Germany\"], \"x\": [46084.9], \"y\": [11.7], \"type\": \"scatter\"}], \"name\": \"2007\"}, {\"data\": [{\"marker\": {\"size\": [36.2], \"sizemode\": \"area\", \"sizeref\": 0.0046770833333333334}, \"mode\": \"markers\", \"name\": \"USA\", \"text\": [\"USA\"], \"x\": [152328.8], \"y\": [36.2], \"type\": \"scatter\"}, {\"marker\": {\"size\": [8.7], \"sizemode\": \"area\", \"sizeref\": 0.0046770833333333334}, \"mode\": \"markers\", \"name\": \"China\", \"text\": [\"China\"], \"x\": [72929.9], \"y\": [8.7], \"type\": \"scatter\"}, {\"marker\": {\"size\": [28.8], \"sizemode\": \"area\", \"sizeref\": 0.0046770833333333334}, \"mode\": \"markers\", \"name\": \"Japan\", \"text\": [\"Japan\"], \"x\": [164032.3], \"y\": [28.8], \"type\": \"scatter\"}, {\"marker\": {\"size\": [23.6], \"sizemode\": \"area\", \"sizeref\": 0.0046770833333333334}, \"mode\": \"markers\", \"name\": \"Australia\", \"text\": [\"Australia\"], \"x\": [112875.9], \"y\": [23.6], \"type\": \"scatter\"}, {\"marker\": {\"size\": [41.6], \"sizemode\": \"area\", \"sizeref\": 0.0046770833333333334}, \"mode\": \"markers\", \"name\": \"Germany\", \"text\": [\"Germany\"], \"x\": [105790.4], \"y\": [41.6], \"type\": \"scatter\"}], \"name\": \"2008\"}, {\"data\": [{\"marker\": {\"size\": [11.8], \"sizemode\": \"area\", \"sizeref\": 0.0046770833333333334}, \"mode\": \"markers\", \"name\": \"USA\", \"text\": [\"USA\"], \"x\": [19745.8], \"y\": [11.8], \"type\": \"scatter\"}, {\"marker\": {\"size\": [3.0], \"sizemode\": \"area\", \"sizeref\": 0.0046770833333333334}, \"mode\": \"markers\", \"name\": \"China\", \"text\": [\"China\"], \"x\": [161426.8], \"y\": [3.0], \"type\": \"scatter\"}, {\"marker\": {\"size\": [33.1], \"sizemode\": \"area\", \"sizeref\": 0.0046770833333333334}, \"mode\": \"markers\", \"name\": \"Japan\", \"text\": [\"Japan\"], \"x\": [76633.6], \"y\": [33.1], \"type\": \"scatter\"}, {\"marker\": {\"size\": [34.7], \"sizemode\": \"area\", \"sizeref\": 0.0046770833333333334}, \"mode\": \"markers\", \"name\": \"Australia\", \"text\": [\"Australia\"], \"x\": [98440.1], \"y\": [34.7], \"type\": \"scatter\"}, {\"marker\": {\"size\": [40.9], \"sizemode\": \"area\", \"sizeref\": 0.0046770833333333334}, \"mode\": \"markers\", \"name\": \"Germany\", \"text\": [\"Germany\"], \"x\": [69543.1], \"y\": [40.9], \"type\": \"scatter\"}], \"name\": \"2009\"}, {\"data\": [{\"marker\": {\"size\": [41.9], \"sizemode\": \"area\", \"sizeref\": 0.0046770833333333334}, \"mode\": \"markers\", \"name\": \"USA\", \"text\": [\"USA\"], \"x\": [40500.6], \"y\": [41.9], \"type\": \"scatter\"}, {\"marker\": {\"size\": [0.6], \"sizemode\": \"area\", \"sizeref\": 0.0046770833333333334}, \"mode\": \"markers\", \"name\": \"China\", \"text\": [\"China\"], \"x\": [153600.6], \"y\": [0.6], \"type\": \"scatter\"}, {\"marker\": {\"size\": [10.5], \"sizemode\": \"area\", \"sizeref\": 0.0046770833333333334}, \"mode\": \"markers\", \"name\": \"Japan\", \"text\": [\"Japan\"], \"x\": [97640.6], \"y\": [10.5], \"type\": \"scatter\"}, {\"marker\": {\"size\": [27.8], \"sizemode\": \"area\", \"sizeref\": 0.0046770833333333334}, \"mode\": \"markers\", \"name\": \"Australia\", \"text\": [\"Australia\"], \"x\": [757.2], \"y\": [27.8], \"type\": \"scatter\"}, {\"marker\": {\"size\": [42.7], \"sizemode\": \"area\", \"sizeref\": 0.0046770833333333334}, \"mode\": \"markers\", \"name\": \"Germany\", \"text\": [\"Germany\"], \"x\": [105018.0], \"y\": [42.7], \"type\": \"scatter\"}], \"name\": \"2010\"}]);\n",
       "                        }).then(function(){\n",
       "                            Plotly.animate('50050612-bdd5-4ceb-bcbe-e4594ee5e523', null);\n",
       "                        }).then(function(){\n",
       "                            \n",
       "var gd = document.getElementById('50050612-bdd5-4ceb-bcbe-e4594ee5e523');\n",
       "var x = new MutationObserver(function (mutations, observer) {{\n",
       "        var display = window.getComputedStyle(gd).display;\n",
       "        if (!display || display === 'none') {{\n",
       "            console.log([gd, 'removed!']);\n",
       "            Plotly.purge(gd);\n",
       "            observer.disconnect();\n",
       "        }}\n",
       "}});\n",
       "\n",
       "// Listen for the removal of the full notebook cells\n",
       "var notebookContainer = gd.closest('#notebook-container');\n",
       "if (notebookContainer) {{\n",
       "    x.observe(notebookContainer, {childList: true});\n",
       "}}\n",
       "\n",
       "// Listen for the clearing of the current output cell\n",
       "var outputEl = gd.closest('.output');\n",
       "if (outputEl) {{\n",
       "    x.observe(outputEl, {childList: true});\n",
       "}}\n",
       "\n",
       "                        })\n",
       "                };\n",
       "                });\n",
       "            </script>\n",
       "        </div>"
      ]
     },
     "metadata": {},
     "output_type": "display_data"
    }
   ],
   "source": [
    "from bubbly.bubbly import bubbleplot\n",
    "from plotly.offline import iplot\n",
    "\n",
    "figure = bubbleplot(dataset=df, x_column='gdp', y_column='co2', \n",
    "    bubble_column='country', time_column='year', size_column='co2', color_column='country', \n",
    "    x_title=\"GDP per Capita\", y_title=\"CO2 emissions per capita\",\n",
    "                    title='Time Series Plot Test',\n",
    "                    x_logscale=True, scale_bubble=3, height=650)\n",
    "\n",
    "iplot(figure)"
   ]
  },
  {
   "cell_type": "code",
   "execution_count": null,
   "metadata": {},
   "outputs": [],
   "source": []
  }
 ],
 "metadata": {
  "kernelspec": {
   "display_name": "Python 3",
   "language": "python",
   "name": "python3"
  },
  "language_info": {
   "codemirror_mode": {
    "name": "ipython",
    "version": 3
   },
   "file_extension": ".py",
   "mimetype": "text/x-python",
   "name": "python",
   "nbconvert_exporter": "python",
   "pygments_lexer": "ipython3",
   "version": "3.7.3"
  }
 },
 "nbformat": 4,
 "nbformat_minor": 2
}
