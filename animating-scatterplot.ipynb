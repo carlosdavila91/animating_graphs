{
 "cells": [
  {
   "cell_type": "markdown",
   "metadata": {},
   "source": [
    "# Animating Plots With Python\n",
    "\n",
    "The aim of this notebook is to explore graph animation techniques with python.\n",
    "\n",
    "To do so, we are using some data from [gapminder](https://www.gapminder.org/df/) about CO$_2$ Emissions, population and GDP per capita.\n",
    " \n",
    "# Data preparation\n",
    "\n",
    "Gapminder data are often used in examples about how to animate graphs with python. However, this time I wanted to add a personal touch to the publication, so I added some extra features to data to produce a different plot from the ones we can find in this type of demonstrations.\n",
    "\n",
    "Hence, some previous steps of data preparation are needed. You can find a detailed description on the data wrangling process [in this notebook]()."
   ]
  },
  {
   "cell_type": "code",
   "execution_count": null,
   "metadata": {},
   "outputs": [],
   "source": [
    "df = pd.read_csv(\"prepared.csv\")"
   ]
  },
  {
   "cell_type": "markdown",
   "metadata": {},
   "source": [
    "# Animating Graphs Using `matplotlib`\n",
    "\n",
    "First of all, we must load the necesary packages. When using matplotlib in jupyter notebooks I think it is great to use this little hack in the config &mdash;`%config InlineBackedn.figure_format='retina'`&mdash; to improve the quality of the outcoming plots."
   ]
  },
  {
   "cell_type": "code",
   "execution_count": 19,
   "metadata": {},
   "outputs": [],
   "source": [
    "import matplotlib.pyplot as plt\n",
    "import seaborn as sns\n",
    "%config InlineBackend.figure_format ='retina'"
   ]
  },
  {
   "cell_type": "markdown",
   "metadata": {},
   "source": [
    "I like modifying a few parameters on seaborn style to get a nice eye-catching result, and an adequate resolution for the plot."
   ]
  },
  {
   "cell_type": "code",
   "execution_count": 20,
   "metadata": {},
   "outputs": [],
   "source": [
    "sns.set_style('whitegrid',{'grid.color':'.8'})\n",
    "my_dpi=100"
   ]
  },
  {
   "cell_type": "markdown",
   "metadata": {},
   "source": [
    "To then group by `continent`, I found it was necesary to transform this variable into categories."
   ]
  },
  {
   "cell_type": "code",
   "execution_count": 27,
   "metadata": {},
   "outputs": [],
   "source": [
    "df['continent']=pd.Categorical(df['continent'])"
   ]
  },
  {
   "cell_type": "markdown",
   "metadata": {},
   "source": [
    "Something I had to do was to play with the axis limits. Here we can see that the max value for the Y axis (247) is way higher than the one that I set up afterwards (30). Data science is about making decissions. Here I chose to tell the story this way to highlight the linear relationship that stands out throughout the time between the GDP per capita and the CO$_2$ Emissions. Otherwise, this relationship is harder to appreciate. \n",
    "\n",
    "Furthermore, the amount of countries above the CO$_2$ Emissions limit of 30 are few and happens occasionaly. In a profesional context, the best practice would be to investigate if these data points are outliers or errors."
   ]
  },
  {
   "cell_type": "code",
   "execution_count": 28,
   "metadata": {},
   "outputs": [
    {
     "data": {
      "text/plain": [
       "((247, 177522), (0, 247))"
      ]
     },
     "execution_count": 28,
     "metadata": {},
     "output_type": "execute_result"
    }
   ],
   "source": [
    "xmin = int(df['gdp_per_capita'].min())\n",
    "xmax = int(df['gdp_per_capita'].max())\n",
    "\n",
    "ymin = int(df['co2_per_capita'].min())\n",
    "ymax = int(df['co2_per_capita'].max())\n",
    "\n",
    "(xmin,xmax),(ymin,ymax)"
   ]
  },
  {
   "cell_type": "markdown",
   "metadata": {},
   "source": [
    "A drawback that I found of using `matplotlib` is that it is complex to set fixed values for the size of the markers in the legend. [I got it from this stackoverflow answer](https://stackoverflow.com/a/47116009/11597692).\n",
    "\n",
    "If you don't want the markers sticking out of the legend this step is mandatory.\n",
    "\n",
    "So, we have to create a function to update a handle ([see the first parameter in `help(plt.axes.Axes.legend)`](https://matplotlib.org/3.1.0/api/_as_gen/matplotlib.axes.Axes.legend.html#matplotlib.axes.Axes.legend)) property in the `plt.legend()` function."
   ]
  },
  {
   "cell_type": "code",
   "execution_count": 22,
   "metadata": {},
   "outputs": [],
   "source": [
    "from matplotlib.legend_handler import HandlerPathCollection\n",
    "\n",
    "marker_size = 36\n",
    "def update_prop(handle, orig):\n",
    "    handle.update_from(orig)\n",
    "    handle.set_sizes([marker_size])"
   ]
  },
  {
   "cell_type": "markdown",
   "metadata": {},
   "source": [
    "Then, you have to pass a dict to the `handler_map` parameter inside the `plt.legend()` funtion as you can see in the code chunk bellow."
   ]
  },
  {
   "cell_type": "code",
   "execution_count": 23,
   "metadata": {
    "scrolled": true
   },
   "outputs": [],
   "source": [
    "# Some colors chosen from http://www.visibone.com/colorlab/\n",
    "cdict = {\n",
    "    \"Asia\": \"#999900\",\n",
    "    \"Europe\": \"#333399\",\n",
    "    \"Africa\": \"#996600\",\n",
    "    \"America\": \"#660000\",\n",
    "    \"Oceania\": \"#669900\"\n",
    "}\n",
    "\n",
    "# For each year:\n",
    "for i in df.year.unique():\n",
    " \n",
    "    # initialize a figure\n",
    "    fig, ax = plt.subplots(1, 1)\n",
    "    fig = plt.figure(figsize=(680/my_dpi, 480/my_dpi), dpi=my_dpi)\n",
    "    \n",
    "    # Add titles (main and on axis)\n",
    "    plt.xscale('log')\n",
    "    plt.xlabel(\"GDP per Capita\")\n",
    "    plt.ylabel(\"CO2 emissions per capita\")\n",
    "    plt.title(\"Year: \"+str(i) )\n",
    "    plt.xlim(100,200e3)\n",
    "    plt.ylim(-1, 30)\n",
    "    \n",
    "    # Plot according to the year and contninent\n",
    "    for continent in df.continent.unique():\n",
    "        year_and_continent = ((df.year == i) & (df.continent == continent))\n",
    "        x = df.gdp_per_capita[year_and_continent]\n",
    "        y = df.co2_per_capita[year_and_continent]\n",
    "        t = df.iso_alpha3_code[year_and_continent]\n",
    "        s = df.population[year_and_continent] / 2e+5\n",
    "        \n",
    "        sc = plt.scatter(x, y, s=s, c=cdict[continent], label=continent, \n",
    "                         alpha=0.95, edgecolors=\"#eeee\", linewidth=1)\n",
    "        \n",
    "    plt.legend(loc=\"upper left\",\n",
    "               handler_map={type(sc): HandlerPathCollection(update_func=update_prop)})\n",
    "    \n",
    "    # Save it\n",
    "    filename='images/step_'+str(i)+'.png'\n",
    "    plt.savefig(filename, dpi=my_dpi)\n",
    "    plt.close(\"all\") # to avoid displaying plots for every year"
   ]
  },
  {
   "cell_type": "markdown",
   "metadata": {},
   "source": [
    "The result set of `.png` is saved and then transformed from png to GIF. For this I used the `PIL` package and `glob` to read the files. "
   ]
  },
  {
   "cell_type": "code",
   "execution_count": 24,
   "metadata": {},
   "outputs": [],
   "source": [
    "from PIL import Image\n",
    "import glob\n",
    "\n",
    "# Create the frames\n",
    "frames = []\n",
    "images = sorted(glob.glob(\"images/step_*.png\",))\n",
    "\n",
    "for i in images:\n",
    "    new_frame = Image.open(i)\n",
    "    frames.append(new_frame)\n",
    "\n",
    "# Save into a GIF file that loops forever\n",
    "frames[0].save('png_to_gif.gif', format='GIF',\n",
    "               append_images=frames[1:], duration = 500,\n",
    "               save_all=True, loop=0)"
   ]
  },
  {
   "cell_type": "markdown",
   "metadata": {},
   "source": [
    "## Pros of `matplotlib`\n",
    "* Full customizable data representation.\n",
    "\n",
    "## Cons of `matplotlib` \n",
    "* Requires a considerable amount of code.\n",
    "* There are some dependencies.\n",
    "* Not interactive.\n",
    "\n",
    "\n",
    "## The result\n",
    "\n",
    "Finally, we can display the created gif with markdown language as in the snippet bellow:\n",
    "\n",
    "```markdown\n",
    "![Figure caption](path/to/the/image/file.extension)\n",
    "```\n",
    "![Plot animated with python](png_to_gif.gif)"
   ]
  },
  {
   "cell_type": "markdown",
   "metadata": {},
   "source": [
    "# Animating Graphs Using `plotly.express`"
   ]
  },
  {
   "cell_type": "code",
   "execution_count": 25,
   "metadata": {},
   "outputs": [],
   "source": [
    "import plotly.express as px\n",
    "\n",
    "fig = px.scatter(df, x=\"gdp_per_capita\", y=\"co2_per_capita\", animation_frame=\"year\",\n",
    "                 animation_group=\"country\", title = 'Time Series Plot Test', color=\"continent\",\n",
    "                 hover_name=\"country\", log_x=True, range_y=[-1,30], range_x=[100,200e3], \n",
    "                 size=\"population\", size_max=50)\n",
    "\n",
    "fig.update_xaxes(title_text='GDP per Capita')\n",
    "fig.update_yaxes(title_text='CO2 emissions per capita')\n",
    "plt.close(\"all\")"
   ]
  },
  {
   "cell_type": "markdown",
   "metadata": {},
   "source": [
    "When wirting a post like this one, you need to save the result to then display it. I found that this was not an easy task. After searching through several sources I found [this great post by Matteo Guzzo](https://matteoguzzo.com/blog/embed-html-graphs-plotly/) which helped me a lot to complete this part.\n",
    "\n",
    "To sum up, after creating the plot, we must save it into an `.html` file to then display it. The file must include a link to the `plotly.js` library. That's why it is mandatory to use this `include_plotlyjs='cdn'` parameter when saving the plot. See the Matteo's blog post for more detail on how this works."
   ]
  },
  {
   "cell_type": "code",
   "execution_count": 26,
   "metadata": {},
   "outputs": [],
   "source": [
    "with open('plotly_graph.html', 'w') as f:\n",
    "    f.write(fig.to_html(include_plotlyjs='cdn'))"
   ]
  },
  {
   "cell_type": "markdown",
   "metadata": {},
   "source": [
    "## Pros of `plotly`\n",
    "* Reach a beatiful data representation with relatively little code\n",
    "* Allows interactive plots\n",
    "\n",
    "## Cons of `plotly`\n",
    "* There's no easy way to put the result in a blog post.\n",
    "* Plot owned by `plotly`."
   ]
  }
 ],
 "metadata": {
  "kernelspec": {
   "display_name": "Python (animating graphs)",
   "language": "python",
   "name": "animating_graphs"
  },
  "language_info": {
   "codemirror_mode": {
    "name": "ipython",
    "version": 3
   },
   "file_extension": ".py",
   "mimetype": "text/x-python",
   "name": "python",
   "nbconvert_exporter": "python",
   "pygments_lexer": "ipython3",
   "version": "3.8.2"
  }
 },
 "nbformat": 4,
 "nbformat_minor": 2
}
